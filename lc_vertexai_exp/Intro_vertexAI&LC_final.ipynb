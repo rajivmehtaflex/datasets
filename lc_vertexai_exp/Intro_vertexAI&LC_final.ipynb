{
  "cells": [
    {
      "cell_type": "code",
      "execution_count": null,
      "metadata": {
        "id": "-Np_mdahxnFl"
      },
      "outputs": [],
      "source": [
        "!pip install langchain google-cloud-aiplatform google-auth"
      ]
    },
    {
      "cell_type": "code",
      "execution_count": null,
      "metadata": {
        "id": "R9NuIWCMyTzU"
      },
      "outputs": [],
      "source": [
        "from langchain.llms import VertexAI\n",
        "from langchain import PromptTemplate, LLMChain"
      ]
    },
    {
      "cell_type": "code",
      "execution_count": null,
      "metadata": {
        "id": "BSi-ovjSyYGJ"
      },
      "outputs": [],
      "source": [
        "import os\n",
        "os.environ['GOOGLE_APPLICATION_CREDENTIALS']='/workspace/datasets/lc_vertexai_exp/splendid-sector-350209-132a7f9ec3e2.json'"
      ]
    },
    {
      "cell_type": "code",
      "execution_count": null,
      "metadata": {
        "id": "BjYQdc8l4qKY"
      },
      "outputs": [],
      "source": [
        "template_pythonista = \"\"\"You are an expert pythonista\n",
        "who can write code based on the request below\n",
        "{request}\"\"\"\n",
        "\n",
        "prompt_pythonista = PromptTemplate(template=template_pythonista, \n",
        "                        input_variables=[\"request\"])"
      ]
    },
    {
      "cell_type": "code",
      "execution_count": null,
      "metadata": {
        "id": "QuiqKeL5yTuh"
      },
      "outputs": [],
      "source": [
        "llm = VertexAI(temperature=0.1)"
      ]
    },
    {
      "cell_type": "code",
      "execution_count": null,
      "metadata": {},
      "outputs": [],
      "source": [
        "llm(\"What is color of flamingo?\")"
      ]
    },
    {
      "cell_type": "code",
      "execution_count": null,
      "metadata": {
        "id": "Hm1vD2gWyTsO"
      },
      "outputs": [],
      "source": [
        "llm_chain_profile = LLMChain(prompt=prompt_pythonista, llm=llm)"
      ]
    },
    {
      "cell_type": "code",
      "execution_count": null,
      "metadata": {
        "id": "Gm0gT47g9gfJ"
      },
      "outputs": [],
      "source": [
        "python_code = llm_chain_profile(\"\"\"Write code to automate youtube comments extraction\"\"\")"
      ]
    },
    {
      "cell_type": "code",
      "execution_count": null,
      "metadata": {
        "colab": {
          "base_uri": "https://localhost:8080/"
        },
        "id": "Sct8Xky2eOyb",
        "outputId": "832a565d-a25c-46ef-b09c-a9e98171e43a"
      },
      "outputs": [],
      "source": [
        "print(python_code['text'])"
      ]
    },
    {
      "cell_type": "code",
      "execution_count": null,
      "metadata": {
        "id": "2i7WpQzuhUNK"
      },
      "outputs": [],
      "source": [
        "!pip install pyspark"
      ]
    },
    {
      "cell_type": "code",
      "execution_count": null,
      "metadata": {
        "id": "QsRLurfchUKE"
      },
      "outputs": [],
      "source": [
        "from langchain.agents import create_spark_sql_agent\n",
        "from langchain.agents.agent_toolkits import SparkSQLToolkit\n",
        "from langchain.utilities.spark_sql import SparkSQL"
      ]
    },
    {
      "cell_type": "code",
      "execution_count": null,
      "metadata": {
        "colab": {
          "base_uri": "https://localhost:8080/"
        },
        "id": "NuEdoqHLhUGt",
        "outputId": "866117fd-3fd6-4fa1-8508-cf529466e02e"
      },
      "outputs": [],
      "source": [
        "from pyspark.sql import SparkSession\n",
        "\n",
        "spark = SparkSession.builder.getOrCreate()\n",
        "\n",
        "db_name = \"langchain_example\"\n",
        "\n",
        "spark.sql(f\"CREATE DATABASE IF NOT EXISTS {db_name}\")\n",
        "\n",
        "spark.sql(f\"USE {db_name}\")\n",
        "\n",
        "csv_file_path = \"/workspace/datasets/lc_vertexai_exp/space_titanic.csv\"\n",
        "\n",
        "table = \"space_titanic\"\n",
        "\n",
        "spark.read.csv(csv_file_path, \n",
        "               header=True, \n",
        "               inferSchema=True).write.saveAsTable(table)\n",
        "\n",
        "spark.table(table).show(3)"
      ]
    },
    {
      "cell_type": "code",
      "execution_count": null,
      "metadata": {
        "id": "9cbzytmNi_7h"
      },
      "outputs": [],
      "source": [
        "# Note, you can also connect to Spark via Spark connect. For example:\n",
        "# db = SparkSQL.from_uri(\"sc://localhost:15002\", schema=schema)\n",
        "\n",
        "spark_sql = SparkSQL(schema=db_name)\n",
        "\n",
        "toolkit = SparkSQLToolkit(db=spark_sql, \n",
        "                          llm=llm)\n",
        "\n",
        "agent_executor = create_spark_sql_agent(\n",
        "    llm=llm,\n",
        "    toolkit=toolkit,\n",
        "    verbose=True\n",
        ")"
      ]
    },
    {
      "cell_type": "code",
      "execution_count": null,
      "metadata": {
        "colab": {
          "base_uri": "https://localhost:8080/",
          "height": 209
        },
        "id": "-GmudLnqhUAY",
        "outputId": "a666bef8-8b17-4681-d060-4e0a9dca1d85"
      },
      "outputs": [],
      "source": [
        "agent_executor.run(\"List the available tables\")"
      ]
    },
    {
      "cell_type": "code",
      "execution_count": null,
      "metadata": {
        "colab": {
          "base_uri": "https://localhost:8080/",
          "height": 698
        },
        "id": "wXjJ9u_QjVCx",
        "outputId": "a5e7ae95-8a8a-4048-e832-63cd4717fd2e"
      },
      "outputs": [],
      "source": [
        "agent_executor.run(\"Describe space_titanic table\")"
      ]
    },
    {
      "cell_type": "code",
      "execution_count": null,
      "metadata": {
        "colab": {
          "base_uri": "https://localhost:8080/",
          "height": 767
        },
        "id": "Jt7XXKQWjVHI",
        "outputId": "4b5753af-cc9e-4456-dd65-53e961c46a58"
      },
      "outputs": [],
      "source": [
        "agent_executor.run(\"Which is the most frequent Home planet\")"
      ]
    },
    {
      "cell_type": "code",
      "execution_count": null,
      "metadata": {
        "colab": {
          "base_uri": "https://localhost:8080/",
          "height": 209
        },
        "id": "UXYxdGAljVLm",
        "outputId": "285e080d-cd32-4a31-8d8f-a66271e7a477"
      },
      "outputs": [],
      "source": [
        "agent_executor.run(\"Which last name is more frequent\")"
      ]
    },
    {
      "cell_type": "code",
      "execution_count": null,
      "metadata": {
        "colab": {
          "base_uri": "https://localhost:8080/",
          "height": 1000
        },
        "id": "-kGhFfaekvjw",
        "outputId": "b515d299-614a-4baa-f842-19c497dd1779"
      },
      "outputs": [],
      "source": [
        "agent_executor.run(\"\"\"Split the Name column into first and last name\n",
        "then find which last name is more frequent\"\"\")"
      ]
    },
    {
      "cell_type": "markdown",
      "metadata": {
        "id": "cTb-Yz4OlxTZ"
      },
      "source": [
        "## Spark Dataframe"
      ]
    },
    {
      "cell_type": "code",
      "execution_count": null,
      "metadata": {
        "colab": {
          "base_uri": "https://localhost:8080/"
        },
        "id": "R2DkNNJHkvdP",
        "outputId": "c8618810-e1f5-4641-858f-189c14c5a536"
      },
      "outputs": [],
      "source": [
        "df = spark.read.csv(csv_file_path, \n",
        "                    header=True, \n",
        "                    inferSchema=True)\n",
        "df.show(3)"
      ]
    },
    {
      "cell_type": "code",
      "execution_count": null,
      "metadata": {
        "id": "OXlz-I0DmAMp"
      },
      "outputs": [],
      "source": [
        "from langchain.agents import create_spark_dataframe_agent\n",
        "from langchain.llms import OpenAI\n",
        "import os\n",
        "\n",
        "\n",
        "agent = create_spark_dataframe_agent(llm, \n",
        "                                     df=df, \n",
        "                                     verbose=True)"
      ]
    },
    {
      "cell_type": "code",
      "execution_count": null,
      "metadata": {
        "colab": {
          "base_uri": "https://localhost:8080/",
          "height": 333
        },
        "id": "jFxwGDRvmAHu",
        "outputId": "fba8678a-2e40-43f4-b882-fe957a4b7f88"
      },
      "outputs": [],
      "source": [
        "agent.run(\"\"\"Split the Name column into first and last name and \n",
        "create new table named table1\"\"\")"
      ]
    },
    {
      "cell_type": "code",
      "execution_count": null,
      "metadata": {
        "colab": {
          "base_uri": "https://localhost:8080/",
          "height": 333
        },
        "id": "02F5jBMYmADc",
        "outputId": "03221770-6b2d-478a-d074-3a1a59a89310"
      },
      "outputs": [],
      "source": [
        "agent.run(\"\"\"Split the Name column into first and last name then \n",
        "find the most frequent last name\"\"\")"
      ]
    },
    {
      "cell_type": "code",
      "execution_count": null,
      "metadata": {
        "colab": {
          "base_uri": "https://localhost:8080/",
          "height": 226
        },
        "id": "tkKPY28XnJSb",
        "outputId": "794d592b-d6bf-4ce1-9b64-e4baf5e161e9"
      },
      "outputs": [],
      "source": [
        "agent.run(\"\"\"\n",
        "who spent the most in Food Court?\n",
        "You can find all supported function types in https://spark.apache.org/docs/latest/api/python/reference/pyspark.sql/dataframe.html\"\"\")"
      ]
    },
    {
      "cell_type": "code",
      "execution_count": null,
      "metadata": {
        "colab": {
          "base_uri": "https://localhost:8080/",
          "height": 767
        },
        "id": "yZfu6UYtnJL4",
        "outputId": "4bdd47fe-41c1-44f4-ee43-f759c07fb2fe"
      },
      "outputs": [],
      "source": [
        "agent_executor.run(\"who spent the most in Food Court?\")"
      ]
    },
    {
      "cell_type": "markdown",
      "metadata": {
        "id": "i9JqMwp027Ep"
      },
      "source": [
        "## Let chat with PDF"
      ]
    },
    {
      "cell_type": "code",
      "execution_count": null,
      "metadata": {
        "id": "W3qoHO0E4RHr"
      },
      "outputs": [],
      "source": [
        "!pip install faiss-cpu sentence-transformers nltk"
      ]
    },
    {
      "cell_type": "code",
      "execution_count": null,
      "metadata": {},
      "outputs": [],
      "source": [
        "!touch linux_play.txt"
      ]
    },
    {
      "cell_type": "code",
      "execution_count": null,
      "metadata": {
        "id": "Av2Gc98Q2lq9"
      },
      "outputs": [],
      "source": [
        "# This is a long document we can split up.\n",
        "with open('/workspace/datasets/lc_vertexai_exp/linux_play.txt') as f:\n",
        "    vimPlay = f.read()"
      ]
    },
    {
      "cell_type": "code",
      "execution_count": null,
      "metadata": {
        "id": "0tu3tiak2lnh"
      },
      "outputs": [],
      "source": [
        "from langchain.text_splitter import RecursiveCharacterTextSplitter\n",
        "text_splitter = RecursiveCharacterTextSplitter(\n",
        "    #Set a really small chunk size, just to show.\n",
        "    chunk_size = 300,\n",
        "    chunk_overlap  = 100,\n",
        "    length_function = len,\n",
        ")"
      ]
    },
    {
      "cell_type": "code",
      "execution_count": null,
      "metadata": {
        "colab": {
          "base_uri": "https://localhost:8080/"
        },
        "id": "ZtAHAEII-6Bt",
        "outputId": "966a716f-9923-40d0-9d96-8675af7d13f4"
      },
      "outputs": [],
      "source": [
        "import nltk\n",
        "nltk.download('punkt')"
      ]
    },
    {
      "cell_type": "code",
      "execution_count": null,
      "metadata": {
        "id": "nxRLYF8y4gr_"
      },
      "outputs": [],
      "source": [
        "docs = text_splitter.split_text(vimPlay)"
      ]
    },
    {
      "cell_type": "code",
      "execution_count": null,
      "metadata": {
        "colab": {
          "base_uri": "https://localhost:8080/",
          "height": 70
        },
        "id": "rMqjxd0C5ltP",
        "outputId": "a5318cc8-6686-417a-c7a7-475506e54ac7"
      },
      "outputs": [],
      "source": [
        "docs[0]"
      ]
    },
    {
      "cell_type": "code",
      "execution_count": null,
      "metadata": {
        "id": "Vq65YgLn2lkU"
      },
      "outputs": [],
      "source": [
        "from langchain.embeddings import HuggingFaceEmbeddings\n",
        "from langchain.vectorstores import FAISS\n",
        "embeddings = HuggingFaceEmbeddings(model_name='all-MiniLM-L6-v2')"
      ]
    },
    {
      "cell_type": "code",
      "execution_count": null,
      "metadata": {
        "colab": {
          "base_uri": "https://localhost:8080/",
          "height": 35
        },
        "id": "GLnXIB16_VAj",
        "outputId": "877ce615-90d7-4f58-8a15-c79088af11da"
      },
      "outputs": [],
      "source": [
        "embeddings.model_name"
      ]
    },
    {
      "cell_type": "code",
      "execution_count": null,
      "metadata": {
        "id": "-ELsZMXD2ldi"
      },
      "outputs": [],
      "source": [
        "db = FAISS.from_texts(docs, embeddings)"
      ]
    },
    {
      "cell_type": "code",
      "execution_count": null,
      "metadata": {
        "id": "KnPYfEW742TE"
      },
      "outputs": [],
      "source": [
        "from langchain.chains import RetrievalQA"
      ]
    },
    {
      "cell_type": "code",
      "execution_count": null,
      "metadata": {
        "id": "Cln3I50h42PJ"
      },
      "outputs": [],
      "source": [
        "chain = RetrievalQA.from_chain_type(llm,chain_type=\"stuff\",\n",
        "                                    retriever=db.as_retriever())"
      ]
    },
    {
      "cell_type": "code",
      "execution_count": null,
      "metadata": {
        "colab": {
          "base_uri": "https://localhost:8080/",
          "height": 87
        },
        "id": "W4pzePBj42L3",
        "outputId": "65228298-ead0-46a6-f131-d651dbe0b198"
      },
      "outputs": [],
      "source": [
        "chain.run(\"Tell me about Linux?\")"
      ]
    },
    {
      "cell_type": "code",
      "execution_count": null,
      "metadata": {
        "colab": {
          "base_uri": "https://localhost:8080/",
          "height": 105
        },
        "id": "r7xph5sT42Hm",
        "outputId": "4bb60e23-914b-409c-d782-de0fb7d3695b"
      },
      "outputs": [],
      "source": [
        "chain.run(\"What are the tasks in Linux playbook?\")"
      ]
    },
    {
      "cell_type": "code",
      "execution_count": null,
      "metadata": {
        "colab": {
          "base_uri": "https://localhost:8080/",
          "height": 35
        },
        "id": "MiGAmrEH9kap",
        "outputId": "76e30a60-467e-44d4-ce72-c580e9b00cfd"
      },
      "outputs": [],
      "source": [
        "chain.run(\"Where the Vim exercises needs to be done?\")"
      ]
    },
    {
      "cell_type": "code",
      "execution_count": null,
      "metadata": {
        "colab": {
          "base_uri": "https://localhost:8080/"
        },
        "id": "fmYsIVv1-LSq",
        "outputId": "04cecff1-2f20-4b8a-a093-f96cbab79eee"
      },
      "outputs": [],
      "source": [
        "db.similarity_search(\"is docker necessary to work on Vim Playbook?\")"
      ]
    },
    {
      "cell_type": "code",
      "execution_count": null,
      "metadata": {
        "colab": {
          "base_uri": "https://localhost:8080/",
          "height": 35
        },
        "id": "tMQk3v_K9rJg",
        "outputId": "efeccabd-e5e6-4038-ed84-70481e9653ab"
      },
      "outputs": [],
      "source": [
        "chain.run(\"is docker necessary to work on Vim Playbook?\")"
      ]
    },
    {
      "cell_type": "code",
      "execution_count": null,
      "metadata": {
        "colab": {
          "base_uri": "https://localhost:8080/",
          "height": 35
        },
        "id": "bpYMAz5i-KV4",
        "outputId": "76649e00-671b-4350-9ada-4eafc3f9413b"
      },
      "outputs": [],
      "source": [
        "chain.run(\"How many are activities related to splits\")"
      ]
    }
  ],
  "metadata": {
    "colab": {
      "provenance": []
    },
    "kernelspec": {
      "display_name": "Python 3",
      "name": "python3"
    },
    "language_info": {
      "codemirror_mode": {
        "name": "ipython",
        "version": 3
      },
      "file_extension": ".py",
      "mimetype": "text/x-python",
      "name": "python",
      "nbconvert_exporter": "python",
      "pygments_lexer": "ipython3",
      "version": "3.11.1"
    }
  },
  "nbformat": 4,
  "nbformat_minor": 0
}
