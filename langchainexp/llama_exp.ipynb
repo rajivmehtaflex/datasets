{
 "cells": [
  {
   "cell_type": "code",
   "execution_count": null,
   "metadata": {},
   "outputs": [],
   "source": [
    "print('Gajraj')"
   ]
  },
  {
   "cell_type": "code",
   "execution_count": null,
   "metadata": {},
   "outputs": [],
   "source": [
    "# touch index.ipynb\n",
    "# git lfs install\n",
    "# git clone https://huggingface.co/eachadea/ggml-vicuna-7b-4bit\n",
    "\n",
    "# !pip install llama-cpp-python\n",
    "# !pip install langchain transformers datasets huggingface_hub openai cohere"
   ]
  },
  {
   "cell_type": "code",
   "execution_count": null,
   "metadata": {},
   "outputs": [],
   "source": [
    "from langchain.llms import LlamaCpp\n",
    "from langchain import PromptTemplate, LLMChain"
   ]
  },
  {
   "cell_type": "code",
   "execution_count": null,
   "metadata": {},
   "outputs": [],
   "source": [
    "template = \"\"\"Question: {question}\n",
    "Answer: Let's think step by step.\"\"\"\n",
    "prompt = PromptTemplate(template=template, input_variables=[\"question\"])"
   ]
  },
  {
   "cell_type": "code",
   "execution_count": null,
   "metadata": {},
   "outputs": [],
   "source": [
    "llm = LlamaCpp(model_path=\"/content/ggml-vicuna-7b-4bit/ggml-vicuna-7b-4bit.bin\")"
   ]
  },
  {
   "cell_type": "code",
   "execution_count": null,
   "metadata": {},
   "outputs": [],
   "source": [
    "llm_chain = LLMChain(prompt=prompt, llm=llm)"
   ]
  },
  {
   "cell_type": "code",
   "execution_count": null,
   "metadata": {},
   "outputs": [],
   "source": [
    "question = \"What color of flamingo?\"\n",
    "llm_chain.run(question)"
   ]
  },
  {
   "cell_type": "code",
   "execution_count": null,
   "metadata": {},
   "outputs": [],
   "source": [
    "import os\n",
    "from langchain.memory import ConversationTokenBufferMemory\n",
    "from langchain.agents.tools import Tool\n",
    "from langchain.chat_models import ChatOpenAI\n",
    "from langchain.llms.base import LLM\n",
    "from langchain.llms.llamacpp import LlamaCpp\n",
    "from langchain import PromptTemplate, LLMChain\n",
    "from langchain.agents import load_tools, initialize_agent, AgentExecutor, BaseSingleActionAgent, AgentType\n",
    "\n",
    "\n",
    "custom_llm = LlamaCpp(model_path=\"/content/ggml-vicuna-7b-4bit/ggml-vicuna-7b-4bit.bin\", verbose=True,\n",
    "                      n_threads=4, n_ctx=5000, temperature=0.05, repeat_penalty=1.22)\n",
    "tools = []\n",
    "\n",
    "memories = {}\n",
    "\n",
    "question = \"What color of flamingo?\"\n",
    "\n",
    "unique_id = os.urandom(16).hex()\n",
    "if unique_id not in memories:\n",
    "    memories[unique_id] = ConversationTokenBufferMemory(\n",
    "        memory_key=\"chat_history\", llm=custom_llm, return_messages=True)\n",
    "memory = memories[unique_id]\n",
    "agent = initialize_agent(tools, llm=custom_llm, agent=AgentType.CONVERSATIONAL_REACT_DESCRIPTION,\n",
    "                         verbose=True, memory=memory, max_retries=1)\n",
    "\n",
    "response = agent.run(input=question)\n",
    "\n",
    "print(response)\n"
   ]
  },
  {
   "cell_type": "code",
   "execution_count": null,
   "metadata": {},
   "outputs": [],
   "source": []
  },
  {
   "cell_type": "code",
   "execution_count": null,
   "metadata": {},
   "outputs": [],
   "source": []
  },
  {
   "cell_type": "code",
   "execution_count": null,
   "metadata": {},
   "outputs": [],
   "source": []
  },
  {
   "cell_type": "code",
   "execution_count": null,
   "metadata": {},
   "outputs": [],
   "source": []
  }
 ],
 "metadata": {
  "kernelspec": {
   "display_name": "Python 3",
   "language": "python",
   "name": "python3"
  },
  "language_info": {
   "codemirror_mode": {
    "name": "ipython",
    "version": 3
   },
   "file_extension": ".py",
   "mimetype": "text/x-python",
   "name": "python",
   "nbconvert_exporter": "python",
   "pygments_lexer": "ipython3",
   "version": "3.9.16"
  },
  "orig_nbformat": 4
 },
 "nbformat": 4,
 "nbformat_minor": 2
}
