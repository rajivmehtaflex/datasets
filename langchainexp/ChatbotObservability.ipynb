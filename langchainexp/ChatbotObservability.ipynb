{
  "cells": [
    {
      "cell_type": "markdown",
      "metadata": {
        "id": "IVA4l89J_-s-"
      },
      "source": [
        "# Monitoring Chatbots with Langchain, AtlasDB, and Co:Here\n",
        "\n",
        "One of the hardest things about building a chatbot is monitoring how users are actually interacting with the model. Are users inputting toxic text? Is your bot producing toxic outputs?\n",
        "\n",
        "In this notebook, we'll show you how to use Langchain, AtlasDB, and Co:Here to monitor your chatbot for toxic content."
      ]
    },
    {
      "cell_type": "markdown",
      "metadata": {
        "id": "iTYNq3XUkaQa"
      },
      "source": [
        "## Env Setup"
      ]
    },
    {
      "cell_type": "code",
      "execution_count": null,
      "metadata": {
        "colab": {
          "base_uri": "https://localhost:8080/"
        },
        "id": "N5wZNqqKjSKP",
        "outputId": "b78c2e52-4f05-4c0f-cd0d-7f6d52e245c7"
      },
      "outputs": [],
      "source": [
        "!pip install langchain"
      ]
    },
    {
      "cell_type": "code",
      "execution_count": null,
      "metadata": {
        "colab": {
          "base_uri": "https://localhost:8080/"
        },
        "id": "NANM-UmxsfXF",
        "outputId": "472de8cf-324b-4f72-deaf-def5f4a86af7"
      },
      "outputs": [],
      "source": [
        "!pip install cohere"
      ]
    },
    {
      "cell_type": "code",
      "execution_count": null,
      "metadata": {
        "colab": {
          "base_uri": "https://localhost:8080/"
        },
        "id": "5ZW7oYDr3x2X",
        "outputId": "ac8b1c7b-d6e8-4f7e-ce72-ebe729c837b7"
      },
      "outputs": [],
      "source": [
        "!pip install datasets"
      ]
    },
    {
      "cell_type": "code",
      "execution_count": null,
      "metadata": {
        "colab": {
          "base_uri": "https://localhost:8080/"
        },
        "id": "rkL9c_dcC7WX",
        "outputId": "52e3eb9e-90e5-429e-895f-7a8f870cbf6e"
      },
      "outputs": [],
      "source": [
        "!pip install --upgrade nomic"
      ]
    },
    {
      "cell_type": "code",
      "execution_count": null,
      "metadata": {
        "id": "MN6v0JAWpm8F"
      },
      "outputs": [],
      "source": []
    },
    {
      "cell_type": "markdown",
      "metadata": {
        "id": "0SboofZFkWQK"
      },
      "source": [
        "# Data Setup\n",
        "\n",
        "To mock a query stream that gets progressively more unsafe, we are going to use two datasets from Allen AI. \n",
        "\n",
        "The first dataset, soda, contians several \"normal\" chatbot transcripts. The second dataset, prosocial-dialog, contains several \"unsafe\" transcripts.\n",
        "\n",
        "We are going to build a data generator that randomly samples a datapoint from one of these datasets.\n",
        "As time goes on, it will become more likely that the generator selects a \"unsafe\" datum. This will mock the real world situation where your query stream becomes more unsafe over time.\n",
        "\n"
      ]
    },
    {
      "cell_type": "code",
      "execution_count": null,
      "metadata": {
        "id": "BdV5iee9kVLs"
      },
      "outputs": [],
      "source": [
        "import random\n",
        "from datasets import load_dataset"
      ]
    },
    {
      "cell_type": "code",
      "execution_count": null,
      "metadata": {
        "colab": {
          "base_uri": "https://localhost:8080/",
          "height": 137,
          "referenced_widgets": [
            "bec2c3a3a890463d95539b13de7a0774",
            "2cfe8ec77f2a40be9ee7e4d32b76d9c2",
            "59bf34c6bac04650b267d2945e3d6192",
            "325314b56ba644d59895e9a638e42d78",
            "b8310b535add4a8baee8dcde59ce3435",
            "f87abc574da04d7eadf871f633654962",
            "c1130551aa474760892ab4d0e5a20dc7",
            "ac7f14c0900f4c9db5af3a76ca6f6384",
            "38d81bab73d343f7b9a745446dc8ab99",
            "1b84cd8dce074ee1aa06fce138c6c698",
            "7c5e8cf5a3ce460eab0d44850a305931",
            "4bb703a13a554ac99683f2d9151e7e4f",
            "bb3579a8d69f401a88b7b1b08ff7108a",
            "aac30642cb5f4856a720cd0adbb63810",
            "12e720add12545ae911fd433e3b5dd3c",
            "a5b63da6999b477bb9deeb1a08a0dcb2",
            "5f5d77eba09a4d3487c08a767753816e",
            "431c9f7c7dd544ddb6ea10e061d87253",
            "7b3ed3a533f240e8a7cfeb69ba747aa8",
            "896b0391da9341e3b98ce5f68fb85446",
            "41502a20693d4042afa49c4416b6fe2c",
            "55c2744d18994446b5c00f42a0bb6903"
          ]
        },
        "id": "NQ5Tex-K22e5",
        "outputId": "286f670b-9056-4869-a07e-2a07484cdcdc"
      },
      "outputs": [],
      "source": [
        "def stream_data(T=5000):\n",
        "  safe = load_dataset('allenai/soda')['train']\n",
        "  unsafe = iter([e for e in load_dataset('allenai/prosocial-dialog')['train']\n",
        "                 if e['safety_label'] == '__needs_intervention__'])\n",
        "\n",
        "  for t in range(T):\n",
        "    p_unsafe = t/(3*T) #slowly increase toxic content to 33% chance\n",
        "    is_unsafe = random.uniform(0, 1) <= p_unsafe\n",
        "    if is_unsafe:\n",
        "      x = next(unsafe)\n",
        "      yield 'unsafe', t, x['context'] + ' ' + x['response']\n",
        "    else:\n",
        "      x = safe[t]\n",
        "      yield 'safe', t, x['dialogue'][0]\n",
        "\n",
        "data = [e for e in stream_data(6000)]\n",
        "train_data = data[:5000]\n",
        "test_data = data[5000:]"
      ]
    },
    {
      "cell_type": "markdown",
      "metadata": {
        "id": "UJ3JRMXdAUhD"
      },
      "source": [
        "# Model Setup\n",
        "\n",
        "Time to build our langchain!\n",
        "We are going to use AtlasDB by Nomic to store our chat data, and CohereEmbeddings to embed it."
      ]
    },
    {
      "cell_type": "code",
      "execution_count": null,
      "metadata": {
        "id": "PL6H0EFY-R2A"
      },
      "outputs": [],
      "source": [
        "import time\n",
        "import numpy as np\n",
        "from tqdm import tqdm\n",
        "from pprint import pprint\n",
        "from langchain.vectorstores import AtlasDB\n",
        "from langchain.embeddings import CohereEmbeddings"
      ]
    },
    {
      "cell_type": "code",
      "execution_count": null,
      "metadata": {
        "colab": {
          "base_uri": "https://localhost:8080/"
        },
        "id": "jb62pGmLPVEO",
        "outputId": "d9bf7a8a-26cc-42d5-9054-cad7c64abe23"
      },
      "outputs": [],
      "source": [
        "# Create a CohereEmbeddings object to vectorize our text\n",
        "COHERE_API_KEY='3vwcW4Gu0m5XWaT5bx4PBJ8IiQ5rT11rSsMijTBu'\n",
        "ATLAS_API_KEY='HJJiOS5VpjGVTUtNPQKwdGGLIGHzg9XXXQrSwb2rzu5KE'\n",
        "embedding = CohereEmbeddings(cohere_api_key=COHERE_API_KEY, model='small')\n",
        "\n",
        "# Create an AtlasDB object to store our vectors\n",
        "db = AtlasDB(name='test_'+str(time.time()),\n",
        "             api_key=ATLAS_API_KEY,\n",
        "             embedding_function=embedding)"
      ]
    },
    {
      "cell_type": "markdown",
      "metadata": {
        "id": "UZp4BFrG9DhR"
      },
      "source": [
        "Now lets run our simulation. We use the add_texts function of AtlasDB to add texts to the database"
      ]
    },
    {
      "cell_type": "code",
      "execution_count": null,
      "metadata": {
        "colab": {
          "base_uri": "https://localhost:8080/"
        },
        "id": "O67gIWCSC0jq",
        "outputId": "f02c8dd9-c6df-4ec0-87fe-cbcaa2b257d3"
      },
      "outputs": [],
      "source": [
        "batch_size = 1000\n",
        "batched_texts = []\n",
        "batched_metadatas = []\n",
        "\n",
        "for datum in tqdm(train_data):\n",
        "\n",
        "  label, t, text = datum[0], datum[1], datum[2]\n",
        "\n",
        "  #Batch data for faster adds. You can also add data one at a time if you like\n",
        "  batched_texts.append(text)\n",
        "  batched_metadatas.append({'label': label, 't': t})\n",
        "\n",
        "  if len(batched_texts) >= batch_size:\n",
        "    #Add data to database as it streams\n",
        "    db.add_texts(texts=batched_texts,\n",
        "                 metadatas=batched_metadatas,\n",
        "                 refresh=False) #refresh=False indicates that we would not rebuild the database every time we add a text\n",
        "    batched_texts = []\n",
        "    batched_metadatas = []"
      ]
    },
    {
      "cell_type": "markdown",
      "metadata": {
        "id": "cTgaZ24U5PGY"
      },
      "source": [
        "Once we've added all of our text, we can create an index over our data.\n",
        "If you add more text after creating your index, you can refresh with `db.project.rebuild_maps()`\n",
        "\n",
        "For a full list of kwargs to create_index, see:\n",
        "https://docs.nomic.ai/atlas_api.html#nomic.project.AtlasProject.create_index"
      ]
    },
    {
      "cell_type": "code",
      "execution_count": null,
      "metadata": {
        "colab": {
          "base_uri": "https://localhost:8080/",
          "height": 90
        },
        "id": "rXle2imzo676",
        "outputId": "b6e07455-ab3e-4bf4-fb58-6051c9148aac"
      },
      "outputs": [],
      "source": [
        "#Build an index of our data\n",
        "db.create_index(name='MyIndex',\n",
        "                colorable_fields=['t', 'label'],\n",
        "                build_topic_model=True,\n",
        "                topic_label_field='text')"
      ]
    },
    {
      "cell_type": "markdown",
      "metadata": {
        "id": "cdOcKxKJ9nGl"
      },
      "source": [
        "Once the index completes, we can view it inline in our notebook!"
      ]
    },
    {
      "cell_type": "code",
      "execution_count": null,
      "metadata": {
        "colab": {
          "base_uri": "https://localhost:8080/"
        },
        "id": "V-Mz1wzuQoDz",
        "outputId": "64aa02c5-f12b-4c6e-8e70-24181fdb7fa1"
      },
      "outputs": [],
      "source": [
        "#Wait for the index to build\n",
        "with db.project.wait_for_project_lock():\n",
        "    time.sleep(1)"
      ]
    },
    {
      "cell_type": "code",
      "execution_count": null,
      "metadata": {
        "colab": {
          "base_uri": "https://localhost:8080/",
          "height": 931
        },
        "id": "NYkN415L52AX",
        "outputId": "63a86f6e-4294-4078-fc0b-3e986aee0d50"
      },
      "outputs": [],
      "source": [
        "db.project"
      ]
    },
    {
      "cell_type": "markdown",
      "metadata": {
        "id": "nbXz4p5b9t2X"
      },
      "source": [
        "Atlas automatically builds a topic model on your data, allowing you to understand what people are talking about with your bot at a glance. \n",
        "\n",
        "Check out the bottom left corner of the map. The topics there (e.g. domestic violence, jokes/rape, etc...) indicate that there is unsafe content in your query stream!\n",
        "\n",
        "You can click on a topic label to filter the map to only things of that topic\n"
      ]
    },
    {
      "cell_type": "markdown",
      "metadata": {
        "id": "F-jGDeDTBG6v"
      },
      "source": [
        "![slider.png](data:image/png;base64,iVBORw0KGgoAAAANSUhEUgAAAIAAAAByCAYAAACbZNnZAAAMbWlDQ1BJQ0MgUHJvZmlsZQAASImVVwdYU8kWnluSkJCEEkBASuhNEKkBpITQAkgvgo2QBBJKjAlBxV4WFVy7iIANXRVRbCsgduzKotj7YkFFWRd1saHyJiSg677yvfN9c++fM2f+U+5M7j0AaH3gSaV5qDYA+ZICWUJ4MHN0WjqT9AwggAh0AR0QeXy5lB0XFw2gDNz/Lu9uQGsoV52VXP+c/6+iKxDK+QAgYyHOFMj5+RAfBwCv4ktlBQAQlXqryQVSJZ4NsZ4MBgjxKiXOVuHtSpypwof7bZISOBBfBkCDyuPJsgGg34N6ZiE/G/LQP0PsKhGIJQBoDYM4gC/iCSBWxj4sP3+iEpdDbA/tpRDDeAAr8zvO7L/xZw7y83jZg1iVV79ohIjl0jze1P+zNP9b8vMUAz5s4aCKZBEJyvxhDW/lToxSYirEXZLMmFhlrSH+IBao6g4AShEpIpJV9qgJX86B9QMGELsKeCFREJtAHCbJi4lW6zOzxGFciOFuQaeIC7hJEBtCvFAoD01U22yUTUxQ+0Lrs2Qctlp/jifr96v09UCRm8xW878RCblqfoxeJEpKhZgCsXWhOCUGYjrELvLcxCi1zcgiESdmwEamSFDGbw1xglASHqzixwqzZGEJavuSfPlAvthGkZgbo8b7CkRJEar6YKf4vP74YS7YZaGEnTzAI5SPjh7IRSAMCVXljj0XSpIT1TwfpAXBCaq1OEWaF6e2xy2FeeFKvSXEHvLCRPVaPKUAbk4VP54lLYhLUsWJF+XwIuNU8eDLQDTggBDABAo4MsFEkAPErV0NXfCXaiYM8IAMZAMhcFZrBlak9s9I4DURFIE/IBIC+eC64P5ZISiE+i+DWtXVGWT1zxb2r8gFTyHOB1EgD/5W9K+SDHpLAU+gRvwP7zw4+DDePDiU8/9eP6D9pmFDTbRaoxjwyNQasCSGEkOIEcQwogNujAfgfng0vAbB4YazcJ+BPL7ZE54S2giPCNcJ7YTbE8RzZT9EOQq0Q/4wdS0yv68Fbgs5PfFg3B+yQ2bcADcGzrgH9MPGA6FnT6jlqONWVoX5A/ffMvjuaajtyK5klDyEHES2/3El3ZHuOciirPX39VHFmjlYb87gzI/+Od9VXwDvUT9aYgux/dhZ7AR2HjuMNQAmdgxrxFqwI0o8uLue9O+uAW8J/fHkQh7xP/zx1D6VlZS71rp2un5WzRUIpxQoDx5nonSqTJwtKmCy4dtByORK+C7DmG6ubu4AKN81qr+vt/H97xDEoOWbbt7vAPgf6+vrO/RNF3kMgL3e8Pgf/KazZwGgownAuYN8haxQpcOVFwL8l9CCJ80ImAErYA/zcQNewA8EgVAQCWJBEkgD42GVRXCfy8BkMB3MAcWgFCwDq0EF2AA2g+1gF9gHGsBhcAKcARfBZXAd3IW7pwO8BN3gHehFEISE0BAGYoSYIzaIE+KGsJAAJBSJRhKQNCQDyUYkiAKZjsxDSpEVSAWyCalB9iIHkRPIeaQNuY08RDqRN8gnFEOpqB5qitqiw1EWykaj0CR0HJqNTkKL0PnoErQcrUZ3ovXoCfQieh1tR1+iPRjANDEDzAJzxlgYB4vF0rEsTIbNxEqwMqwaq8Oa4HO+irVjXdhHnIgzcCbuDHdwBJ6M8/FJ+Ex8MV6Bb8fr8VP4Vfwh3o1/JdAIJgQngi+BSxhNyCZMJhQTyghbCQcIp+FZ6iC8IxKJBkQ7ojc8i2nEHOI04mLiOuJu4nFiG/ExsYdEIhmRnEj+pFgSj1RAKiatJe0kHSNdIXWQPmhoaphruGmEaaRrSDTmapRp7NA4qnFF45lGL1mbbEP2JceSBeSp5KXkLeQm8iVyB7mXokOxo/hTkig5lDmUckod5TTlHuWtpqampaaPZrymWHO2ZrnmHs1zmg81P1J1qY5UDnUsVUFdQt1GPU69TX1Lo9FsaUG0dFoBbQmthnaS9oD2gc6gu9C5dAF9Fr2SXk+/Qn+lRday0WJrjdcq0irT2q91SatLm6xtq83R5mnP1K7UPqh9U7tHh6EzQidWJ19nsc4OnfM6z3VJura6oboC3fm6m3VP6j5mYAwrBofBZ8xjbGGcZnToEfXs9Lh6OXqlerv0WvW69XX1PfRT9KfoV+of0W83wAxsDbgGeQZLDfYZ3DD4NMR0CHuIcMiiIXVDrgx5bzjUMMhQaFhiuNvwuuEnI6ZRqFGu0XKjBqP7xrixo3G88WTj9canjbuG6g31G8ofWjJ039A7JqiJo0mCyTSTzSYtJj2mZqbhplLTtaYnTbvMDMyCzHLMVpkdNes0Z5gHmIvNV5kfM3/B1GeymXnMcuYpZreFiUWEhcJik0WrRa+lnWWy5VzL3Zb3rShWLKssq1VWzVbd1ubWo6ynW9da37Eh27BsRDZrbM7avLe1s021XWDbYPvcztCOa1dkV2t3z55mH2g/yb7a/poD0YHlkOuwzuGyI+ro6ShyrHS85IQ6eTmJndY5tQ0jDPMZJhlWPeymM9WZ7VzoXOv80MXAJdplrkuDy6vh1sPThy8ffnb4V1dP1zzXLa53R+iOiBwxd0TTiDdujm58t0q3a+409zD3We6N7q89nDyEHus9bnkyPEd5LvBs9vzi5e0l86rz6vS29s7wrvK+ydJjxbEWs875EHyCfWb5HPb56OvlW+C7z/dPP2e/XL8dfs9H2o0Ujtwy8rG/pT/Pf5N/ewAzICNgY0B7oEUgL7A68FGQVZAgaGvQM7YDO4e9k/0q2DVYFnwg+D3HlzODczwECwkPKQlpDdUNTQ6tCH0QZhmWHVYb1h3uGT4t/HgEISIqYnnETa4pl8+t4XZHekfOiDwVRY1KjKqIehTtGC2LbhqFjooctXLUvRibGElMQyyI5caujL0fZxc3Ke5QPDE+Lr4y/mnCiITpCWcTGYkTEnckvksKTlqadDfZPlmR3JyilTI2pSblfWpI6orU9tHDR88YfTHNOE2c1phOSk9J35reMyZ0zOoxHWM9xxaPvTHObtyUcefHG4/PG39kgtYE3oT9GYSM1IwdGZ95sbxqXk8mN7Mqs5vP4a/hvxQECVYJOoX+whXCZ1n+WSuynmf7Z6/M7hQFispEXWKOuEL8OiciZ0PO+9zY3G25fXmpebvzNfIz8g9KdCW5klMTzSZOmdgmdZIWS9sn+U5aPalbFiXbKkfk4+SNBXrwo75FYa/4SfGwMKCwsvDD5JTJ+6foTJFMaZnqOHXR1GdFYUW/TMOn8ac1T7eYPmf6wxnsGZtmIjMzZzbPspo1f1bH7PDZ2+dQ5uTO+W2u69wVc/+alzqvab7p/NnzH/8U/lNtMb1YVnxzgd+CDQvxheKFrYvcF61d9LVEUHKh1LW0rPTzYv7iCz+P+Ln8574lWUtal3otXb+MuEyy7MbywOXbV+isKFrxeOWolfWrmKtKVv21esLq82UeZRvWUNYo1rSXR5c3rrVeu2zt5wpRxfXK4MrdVSZVi6rerxOsu7I+aH3dBtMNpRs+bRRvvLUpfFN9tW112Wbi5sLNT7ekbDn7C+uXmq3GW0u3ftkm2da+PWH7qRrvmpodJjuW1qK1itrOnWN3Xt4Vsquxzrlu026D3aV7wB7Fnhd7M/be2Be1r3k/a3/drza/Vh1gHCipR+qn1nc3iBraG9Ma2w5GHmxu8ms6cMjl0LbDFocrj+gfWXqUcnT+0b5jRcd6jkuPd53IPvG4eULz3ZOjT147FX+q9XTU6XNnws6cPMs+e+yc/7nD533PH7zAutBw0etifYtny4HfPH870OrVWn/J+1LjZZ/LTW0j245eCbxy4mrI1TPXuNcuXo+53nYj+catm2Nvtt8S3Hp+O+/26zuFd3rvzr5HuFdyX/t+2QOTB9W/O/y+u92r/cjDkIctjxIf3X3Mf/zyifzJ5475T2lPy56ZP6t57vb8cGdY5+UXY150vJS+7O0q/kPnj6pX9q9+/TPoz5bu0d0dr2Wv+94sfmv0dttfHn8198T1PHiX/673fckHow/bP7I+nv2U+ulZ7+TPpM/lXxy+NH2N+nqvL7+vT8qT8fo/BTA40KwsAN5sA4CWBgAD9m2UMapesF8QVf/aj8B/wqp+sV+8AKiD3+/xXfDr5iYAe7bA9gvya8FeNY4GQJIPQN3dB4da5FnubiouKuxTCA/6+t7Cno20EoAvy/r6eqv7+r5shsHC3vG4RNWDKoUIe4aNoV8y8zPBvxFVf/pdjj/egTICD/Dj/V+3I5CUiGn4FQAAAIplWElmTU0AKgAAAAgABAEaAAUAAAABAAAAPgEbAAUAAAABAAAARgEoAAMAAAABAAIAAIdpAAQAAAABAAAATgAAAAAAAACQAAAAAQAAAJAAAAABAAOShgAHAAAAEgAAAHigAgAEAAAAAQAAAICgAwAEAAAAAQAAAHIAAAAAQVNDSUkAAABTY3JlZW5zaG90JOSwJAAAAAlwSFlzAAAWJQAAFiUBSVIk8AAAAdZpVFh0WE1MOmNvbS5hZG9iZS54bXAAAAAAADx4OnhtcG1ldGEgeG1sbnM6eD0iYWRvYmU6bnM6bWV0YS8iIHg6eG1wdGs9IlhNUCBDb3JlIDYuMC4wIj4KICAgPHJkZjpSREYgeG1sbnM6cmRmPSJodHRwOi8vd3d3LnczLm9yZy8xOTk5LzAyLzIyLXJkZi1zeW50YXgtbnMjIj4KICAgICAgPHJkZjpEZXNjcmlwdGlvbiByZGY6YWJvdXQ9IiIKICAgICAgICAgICAgeG1sbnM6ZXhpZj0iaHR0cDovL25zLmFkb2JlLmNvbS9leGlmLzEuMC8iPgogICAgICAgICA8ZXhpZjpQaXhlbFlEaW1lbnNpb24+MTE0PC9leGlmOlBpeGVsWURpbWVuc2lvbj4KICAgICAgICAgPGV4aWY6UGl4ZWxYRGltZW5zaW9uPjEyODwvZXhpZjpQaXhlbFhEaW1lbnNpb24+CiAgICAgICAgIDxleGlmOlVzZXJDb21tZW50PlNjcmVlbnNob3Q8L2V4aWY6VXNlckNvbW1lbnQ+CiAgICAgIDwvcmRmOkRlc2NyaXB0aW9uPgogICA8L3JkZjpSREY+CjwveDp4bXBtZXRhPgqaPbPyAAAAHGlET1QAAAACAAAAAAAAADkAAAAoAAAAOQAAADkAAANVfcbCiQAAAyFJREFUeAHsmvFu0zAQxi9t0o29EwXtj4lnAiQ0NPZMiD8Q63imsTVpy30d0aKsS5w0Pnv4O6lKuzixfd/PZ/u8bKcmtGQ9kBGAZLXfd5wApK2/EAACwDVAygwwAqSsvvadABAATgEpM8AIkLL6nAISV58AEABOAYkzQAAIQNy7gO1WZKPHVdvtTtBSnFzF3eInorJM99n6E9fZLJP5/vp0P4ZvUUYA1Vo2G5Hqn+gxOGqqNgCGHDDMFQrQEdiiAgCju6x2Uqn4KViuEBR5to8SofobDQCVxvlShX8t4X0qwRARCgUhx/wQwKIAYJ3QqH9JY0SDhUYDawsOwEO5k40u9Ggi85nISWELQVAAKP5z7K0hCAYAw/5z8eu/WE4HQQDAgm9d1d3l9ZAHFrnNwtAcAGz17tePSZ1DHeffHj2A3cHpwv8W0RwAhn53xC2mAlMAkOHD6Ke5ewBRwGfG0BSAUuf9Eol9mrMHCk0QFboe8GWmAPzh3D9YR6wF3mgU8GVmAOBU716TPrThHjjV5NBMk0Q+zAwA5Plx0EMb7gEcGOG8wIeZAcCs33j5fGYHzQDA6h+7ANpwD2AXgN2ADzMDgAvA8fL5XAiaAXD3wOE/HgGRs5NXHgEIwDHyE4DjvPcfPM0IYCjit6tLWS7fydvle8Nau6siAN3+mezu7eqXfLg437/v4+cv8kk/MRgBMFKhCQCqjAUCAmAEAKrBFHCtn9pigIAA1GoYXWODgAAYCd+sJiYICEBTGcPvsUBAAAxFb1cVAwQEoK2K8e/QEBAAR8GxjVutbuS3fqa2lb67aZa7AwLQ9HzH9/ZI7Sh69C0CMMCFVodBiADXV18HtMy9aDsCfP/x0yxdzAjgrpOXku3IYjn60SEC4EVWt5eGFp8AuOnkpVQM4hOAiaXFOgHWd9wbi/hoK6cAeGECa4raNY83y6HarrITNKv3FQSg10X9BdqivrSKb5cLLT56RgD69e0s4Soq/x+g043jb1rlAQ610FV8PNssG8PIr/vDCFB7YuC1KSgedRHVdZE4sClHFScAI9w3RvwR1Zg84guAvwAAAP//4d+GPgAAAwNJREFU7ZrrbtNAEIXXiZMWngkC4gfimUoFQgKeCfEDlfBOveTKHFST1CSMnXQn9ulZKXLcjOudOd/OjnddrK2lgHZ9F3Kbv558+fwpfbVP1S4uP6b39ulre35WZOl6wQgAm/hQXgA05P/X9Cq9e/vmgfVk8vrB+WOdXFx+SC8z/e96HwVAPSJ7zuujf4/Zo/w5cloRAA0l2wVAjgzwYvIqTeyjDNBQmMgisA5B5EhtGI7WZsoALUPGBoEAaAkAzJkgEAAHAMAEgQA4EAAWCATAEQAwQCAAjgRgFwTfvv8Ie4w7tvsC4NgI3l+/XRgKgJQo9wI8VrBcPJ3+7NXmkDKApyr57wKAXGDPPQHgRYj8994DcDNbp5hXT/hIKOxdkGfjnr8QcmsArGJfCqIhYWDan/cdgLv5Oi1XNJqEOjIcpHQ26nkGmC9Tmi+UAg4hZ1QWaTQ85Er/mrB1gJWN/lvLAmrtI3Buo39gWSBHCwMAnVch2F7CnAUgehMKwHxh08BSWaANBqOhpf+yzRXtbEMBwFMAngbUmkcA1T+eAnK1UADgxMwKwYUVhGp+BEor/MZWAOZs4QBg/CMLaFHo/7Ji7sfozyt/cA1QubywOmBm9YDa/giMbd4vbf7P3cIzQOWQpoIqEv8eI1J/ddeTAYAOaHWwkmFzzLnqt7nL5ttJAUA3BMFGjGjxceeTA4BOaDrAfJ+/4kes660TAKBTKAyxX/DUng5Q7WOdP6Lgq4uP884AgM7gEREbRk9lnQCjHhs9+Wt9RHd36xQAVRexYri0bLCwL2wZASO+tKW9oYmfc4WviqV37CQA253GLiK2D1b3MCBL9AUKiI3RjeMAov85bnt3+u+dB+D0IeLugQDg1tf1TgC4IeI2EADc+rreCQA3RNwGAoBbX9c7AeCGiNtAAHDr63onANwQcRsIAG59Xe8EgBsibgMBwK2v650AcEPEbSAAuPV1vRMAboi4DQQAt76udwLADRG3gQDg1tf1TgC4IeI2EADc+rreCQA3RNwGvwGjcBznCrANOAAAAABJRU5ErkJggg==)\n",
        "The slider tool can be used to visualize data within certain time ranges. Using it, we can see that our query stream becomes more toxic over time."
      ]
    },
    {
      "cell_type": "markdown",
      "metadata": {
        "id": "KCwo9zmDBlPF"
      },
      "source": [
        "![aesthetic.png](data:image/png;base64,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)\n",
        "The aesthetic tool can be used to change the colors on the map. Coloring by the label confirms that our map places most of the toxic content in the same region of the map."
      ]
    },
    {
      "cell_type": "markdown",
      "metadata": {
        "id": "pwyVlZ4yB4f5"
      },
      "source": [
        "![pencil.png](data:image/png;base64,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)\n",
        "\n",
        "The pencil tool can be used to select regions of the map, which can be bulk labeled"
      ]
    },
    {
      "cell_type": "markdown",
      "metadata": {
        "id": "JzjyeDo8CCMw"
      },
      "source": [
        "### Getting Topic Information\n",
        "\n",
        "We can view the topics that AltasDB extracted programatically in our code."
      ]
    },
    {
      "cell_type": "code",
      "execution_count": null,
      "metadata": {
        "colab": {
          "base_uri": "https://localhost:8080/"
        },
        "id": "HSmxZbED6H-P",
        "outputId": "32de84a3-ae2e-432c-ba35-543c887cc142"
      },
      "outputs": [],
      "source": [
        "map = db.project.maps[0]\n",
        "topic_data = map.get_topic_data() #this is how we view all of the metadata associated with our topics\n",
        "pprint(topic_data)"
      ]
    },
    {
      "cell_type": "markdown",
      "metadata": {
        "id": "mpGE8Yy2BtZS"
      },
      "source": [
        "Based on this topic information, we can see several clusters of unsafe data we want to flag - things like \"stealing\", \"violence\", \"addiction\".\n",
        "\n",
        "Furthermore, we see that each entry may have several entries under _topic_depth. The Nomic topic model is hierarchical, and entries with multiple depths trace the path down our topic tree. For instance, \n",
        "\n",
        "```\n",
        " {'_topic_depth_1': 'You Should Not Do That If You',\n",
        "  '_topic_depth_2': 'Addiction',\n",
        "  'depth': 2,\n",
        "  'topic': 17,\n",
        "  'topic_description': 'drugs/smoking/doctor/medication/addicted/pills/meds/cocaine/medicine/heroin/sleeping/sugar/quit/take/suddenly',\n",
        "  'topic_short_description': 'Addiction'},\n",
        "```\n",
        "\n",
        "Is a depth 2 topic, whose parent topic is named \"You should not do that if you\", and whose distinguishing words are \"drugs, smoking, doctor, medication, addicted, etc...\"\n",
        "\n"
      ]
    },
    {
      "cell_type": "markdown",
      "metadata": {
        "id": "XD2bUIdftNP2"
      },
      "source": [
        "## Using Topics to Filter the Query Stream\n",
        "\n",
        "By exploring the map, we can see that many of the unsafe topics share the top level label \"Don't hurt people.\" Let's use AtlasDB to build a greylist so we can review detect utterances that may be unsafe."
      ]
    },
    {
      "cell_type": "code",
      "execution_count": null,
      "metadata": {
        "id": "EB5QmdVas7tF"
      },
      "outputs": [],
      "source": [
        "# Prep the data from our test set\n",
        "test_labels = [e[0] for e in test_data]\n",
        "test_text = [e[2] for e in test_data]\n",
        "test_embeddings = np.stack(embedding.embed_documents(test_text))"
      ]
    },
    {
      "cell_type": "code",
      "execution_count": null,
      "metadata": {
        "id": "1bLt2_vLwa4n"
      },
      "outputs": [],
      "source": [
        "unsafe_topic = '7' #The topic number of our unsafe topic\n",
        "batch_size = 100\n",
        "topic_posteriors = []\n",
        "for i in range(0, len(test_embeddings), batch_size):\n",
        "  batch = test_embeddings[i:i+batch_size]\n",
        "  cur_posteriors = map.vector_search_topics(batch, k=32, depth=1)['topics'] #Use AtlasDB to unfer the topics of new data\n",
        "  topic_posteriors.extend(cur_posteriors)\n",
        "\n",
        "predicted_is_unsafe = [max(posterior, key=lambda topic: posterior[topic]) == unsafe_topic\n",
        "                       for posterior in topic_posteriors]"
      ]
    },
    {
      "cell_type": "code",
      "execution_count": null,
      "metadata": {
        "colab": {
          "base_uri": "https://localhost:8080/"
        },
        "id": "jko_skk8A_pt",
        "outputId": "0cb04dc0-33c4-427f-c644-ea9c833ff0a3"
      },
      "outputs": [],
      "source": [
        "#Analyze the results of our classifier on the test data\n",
        "tp = 0\n",
        "fp = 0\n",
        "fn = 0\n",
        "for i, label in enumerate(test_labels):\n",
        "  if predicted_is_unsafe[i]:\n",
        "    if label == 'unsafe':\n",
        "      tp += 1\n",
        "    else:\n",
        "      fp += 1\n",
        "  else:\n",
        "    if label == 'unsafe':\n",
        "      fn += 1\n",
        "\n",
        "print('Precision: ', tp/(tp+fp))\n",
        "print('Recall: ', tp/(tp+fn))"
      ]
    },
    {
      "cell_type": "markdown",
      "metadata": {
        "id": "1CzgU9ZFKt_e"
      },
      "source": [
        "Wow! By just using the topics that AtlasDB automatically generated for us, we were able to identify the *unseen* harmful data with a precision of 99% and a recall of 74%. \n",
        "\n",
        "To increase these numbers further, we could use the pencil tool to select particular regions, or write more complicated logic over which lower level topics to include."
      ]
    }
  ],
  "metadata": {
    "colab": {
      "provenance": []
    },
    "kernelspec": {
      "display_name": "Python 3",
      "name": "python3"
    },
    "language_info": {
      "codemirror_mode": {
        "name": "ipython",
        "version": 3
      },
      "file_extension": ".py",
      "mimetype": "text/x-python",
      "name": "python",
      "nbconvert_exporter": "python",
      "pygments_lexer": "ipython3",
      "version": "3.10.4"
    },
    "widgets": {
      "application/vnd.jupyter.widget-state+json": {
        "12e720add12545ae911fd433e3b5dd3c": {
          "model_module": "@jupyter-widgets/controls",
          "model_module_version": "1.5.0",
          "model_name": "HTMLModel",
          "state": {
            "_dom_classes": [],
            "_model_module": "@jupyter-widgets/controls",
            "_model_module_version": "1.5.0",
            "_model_name": "HTMLModel",
            "_view_count": null,
            "_view_module": "@jupyter-widgets/controls",
            "_view_module_version": "1.5.0",
            "_view_name": "HTMLView",
            "description": "",
            "description_tooltip": null,
            "layout": "IPY_MODEL_41502a20693d4042afa49c4416b6fe2c",
            "placeholder": "​",
            "style": "IPY_MODEL_55c2744d18994446b5c00f42a0bb6903",
            "value": " 3/3 [00:00&lt;00:00, 19.79it/s]"
          }
        },
        "1b84cd8dce074ee1aa06fce138c6c698": {
          "model_module": "@jupyter-widgets/base",
          "model_module_version": "1.2.0",
          "model_name": "LayoutModel",
          "state": {
            "_model_module": "@jupyter-widgets/base",
            "_model_module_version": "1.2.0",
            "_model_name": "LayoutModel",
            "_view_count": null,
            "_view_module": "@jupyter-widgets/base",
            "_view_module_version": "1.2.0",
            "_view_name": "LayoutView",
            "align_content": null,
            "align_items": null,
            "align_self": null,
            "border": null,
            "bottom": null,
            "display": null,
            "flex": null,
            "flex_flow": null,
            "grid_area": null,
            "grid_auto_columns": null,
            "grid_auto_flow": null,
            "grid_auto_rows": null,
            "grid_column": null,
            "grid_gap": null,
            "grid_row": null,
            "grid_template_areas": null,
            "grid_template_columns": null,
            "grid_template_rows": null,
            "height": null,
            "justify_content": null,
            "justify_items": null,
            "left": null,
            "margin": null,
            "max_height": null,
            "max_width": null,
            "min_height": null,
            "min_width": null,
            "object_fit": null,
            "object_position": null,
            "order": null,
            "overflow": null,
            "overflow_x": null,
            "overflow_y": null,
            "padding": null,
            "right": null,
            "top": null,
            "visibility": null,
            "width": null
          }
        },
        "2cfe8ec77f2a40be9ee7e4d32b76d9c2": {
          "model_module": "@jupyter-widgets/controls",
          "model_module_version": "1.5.0",
          "model_name": "HTMLModel",
          "state": {
            "_dom_classes": [],
            "_model_module": "@jupyter-widgets/controls",
            "_model_module_version": "1.5.0",
            "_model_name": "HTMLModel",
            "_view_count": null,
            "_view_module": "@jupyter-widgets/controls",
            "_view_module_version": "1.5.0",
            "_view_name": "HTMLView",
            "description": "",
            "description_tooltip": null,
            "layout": "IPY_MODEL_f87abc574da04d7eadf871f633654962",
            "placeholder": "​",
            "style": "IPY_MODEL_c1130551aa474760892ab4d0e5a20dc7",
            "value": "100%"
          }
        },
        "325314b56ba644d59895e9a638e42d78": {
          "model_module": "@jupyter-widgets/controls",
          "model_module_version": "1.5.0",
          "model_name": "HTMLModel",
          "state": {
            "_dom_classes": [],
            "_model_module": "@jupyter-widgets/controls",
            "_model_module_version": "1.5.0",
            "_model_name": "HTMLModel",
            "_view_count": null,
            "_view_module": "@jupyter-widgets/controls",
            "_view_module_version": "1.5.0",
            "_view_name": "HTMLView",
            "description": "",
            "description_tooltip": null,
            "layout": "IPY_MODEL_1b84cd8dce074ee1aa06fce138c6c698",
            "placeholder": "​",
            "style": "IPY_MODEL_7c5e8cf5a3ce460eab0d44850a305931",
            "value": " 3/3 [00:01&lt;00:00,  1.55it/s]"
          }
        },
        "38d81bab73d343f7b9a745446dc8ab99": {
          "model_module": "@jupyter-widgets/controls",
          "model_module_version": "1.5.0",
          "model_name": "ProgressStyleModel",
          "state": {
            "_model_module": "@jupyter-widgets/controls",
            "_model_module_version": "1.5.0",
            "_model_name": "ProgressStyleModel",
            "_view_count": null,
            "_view_module": "@jupyter-widgets/base",
            "_view_module_version": "1.2.0",
            "_view_name": "StyleView",
            "bar_color": null,
            "description_width": ""
          }
        },
        "41502a20693d4042afa49c4416b6fe2c": {
          "model_module": "@jupyter-widgets/base",
          "model_module_version": "1.2.0",
          "model_name": "LayoutModel",
          "state": {
            "_model_module": "@jupyter-widgets/base",
            "_model_module_version": "1.2.0",
            "_model_name": "LayoutModel",
            "_view_count": null,
            "_view_module": "@jupyter-widgets/base",
            "_view_module_version": "1.2.0",
            "_view_name": "LayoutView",
            "align_content": null,
            "align_items": null,
            "align_self": null,
            "border": null,
            "bottom": null,
            "display": null,
            "flex": null,
            "flex_flow": null,
            "grid_area": null,
            "grid_auto_columns": null,
            "grid_auto_flow": null,
            "grid_auto_rows": null,
            "grid_column": null,
            "grid_gap": null,
            "grid_row": null,
            "grid_template_areas": null,
            "grid_template_columns": null,
            "grid_template_rows": null,
            "height": null,
            "justify_content": null,
            "justify_items": null,
            "left": null,
            "margin": null,
            "max_height": null,
            "max_width": null,
            "min_height": null,
            "min_width": null,
            "object_fit": null,
            "object_position": null,
            "order": null,
            "overflow": null,
            "overflow_x": null,
            "overflow_y": null,
            "padding": null,
            "right": null,
            "top": null,
            "visibility": null,
            "width": null
          }
        },
        "431c9f7c7dd544ddb6ea10e061d87253": {
          "model_module": "@jupyter-widgets/controls",
          "model_module_version": "1.5.0",
          "model_name": "DescriptionStyleModel",
          "state": {
            "_model_module": "@jupyter-widgets/controls",
            "_model_module_version": "1.5.0",
            "_model_name": "DescriptionStyleModel",
            "_view_count": null,
            "_view_module": "@jupyter-widgets/base",
            "_view_module_version": "1.2.0",
            "_view_name": "StyleView",
            "description_width": ""
          }
        },
        "4bb703a13a554ac99683f2d9151e7e4f": {
          "model_module": "@jupyter-widgets/controls",
          "model_module_version": "1.5.0",
          "model_name": "HBoxModel",
          "state": {
            "_dom_classes": [],
            "_model_module": "@jupyter-widgets/controls",
            "_model_module_version": "1.5.0",
            "_model_name": "HBoxModel",
            "_view_count": null,
            "_view_module": "@jupyter-widgets/controls",
            "_view_module_version": "1.5.0",
            "_view_name": "HBoxView",
            "box_style": "",
            "children": [
              "IPY_MODEL_bb3579a8d69f401a88b7b1b08ff7108a",
              "IPY_MODEL_aac30642cb5f4856a720cd0adbb63810",
              "IPY_MODEL_12e720add12545ae911fd433e3b5dd3c"
            ],
            "layout": "IPY_MODEL_a5b63da6999b477bb9deeb1a08a0dcb2"
          }
        },
        "55c2744d18994446b5c00f42a0bb6903": {
          "model_module": "@jupyter-widgets/controls",
          "model_module_version": "1.5.0",
          "model_name": "DescriptionStyleModel",
          "state": {
            "_model_module": "@jupyter-widgets/controls",
            "_model_module_version": "1.5.0",
            "_model_name": "DescriptionStyleModel",
            "_view_count": null,
            "_view_module": "@jupyter-widgets/base",
            "_view_module_version": "1.2.0",
            "_view_name": "StyleView",
            "description_width": ""
          }
        },
        "59bf34c6bac04650b267d2945e3d6192": {
          "model_module": "@jupyter-widgets/controls",
          "model_module_version": "1.5.0",
          "model_name": "FloatProgressModel",
          "state": {
            "_dom_classes": [],
            "_model_module": "@jupyter-widgets/controls",
            "_model_module_version": "1.5.0",
            "_model_name": "FloatProgressModel",
            "_view_count": null,
            "_view_module": "@jupyter-widgets/controls",
            "_view_module_version": "1.5.0",
            "_view_name": "ProgressView",
            "bar_style": "success",
            "description": "",
            "description_tooltip": null,
            "layout": "IPY_MODEL_ac7f14c0900f4c9db5af3a76ca6f6384",
            "max": 3,
            "min": 0,
            "orientation": "horizontal",
            "style": "IPY_MODEL_38d81bab73d343f7b9a745446dc8ab99",
            "value": 3
          }
        },
        "5f5d77eba09a4d3487c08a767753816e": {
          "model_module": "@jupyter-widgets/base",
          "model_module_version": "1.2.0",
          "model_name": "LayoutModel",
          "state": {
            "_model_module": "@jupyter-widgets/base",
            "_model_module_version": "1.2.0",
            "_model_name": "LayoutModel",
            "_view_count": null,
            "_view_module": "@jupyter-widgets/base",
            "_view_module_version": "1.2.0",
            "_view_name": "LayoutView",
            "align_content": null,
            "align_items": null,
            "align_self": null,
            "border": null,
            "bottom": null,
            "display": null,
            "flex": null,
            "flex_flow": null,
            "grid_area": null,
            "grid_auto_columns": null,
            "grid_auto_flow": null,
            "grid_auto_rows": null,
            "grid_column": null,
            "grid_gap": null,
            "grid_row": null,
            "grid_template_areas": null,
            "grid_template_columns": null,
            "grid_template_rows": null,
            "height": null,
            "justify_content": null,
            "justify_items": null,
            "left": null,
            "margin": null,
            "max_height": null,
            "max_width": null,
            "min_height": null,
            "min_width": null,
            "object_fit": null,
            "object_position": null,
            "order": null,
            "overflow": null,
            "overflow_x": null,
            "overflow_y": null,
            "padding": null,
            "right": null,
            "top": null,
            "visibility": null,
            "width": null
          }
        },
        "7b3ed3a533f240e8a7cfeb69ba747aa8": {
          "model_module": "@jupyter-widgets/base",
          "model_module_version": "1.2.0",
          "model_name": "LayoutModel",
          "state": {
            "_model_module": "@jupyter-widgets/base",
            "_model_module_version": "1.2.0",
            "_model_name": "LayoutModel",
            "_view_count": null,
            "_view_module": "@jupyter-widgets/base",
            "_view_module_version": "1.2.0",
            "_view_name": "LayoutView",
            "align_content": null,
            "align_items": null,
            "align_self": null,
            "border": null,
            "bottom": null,
            "display": null,
            "flex": null,
            "flex_flow": null,
            "grid_area": null,
            "grid_auto_columns": null,
            "grid_auto_flow": null,
            "grid_auto_rows": null,
            "grid_column": null,
            "grid_gap": null,
            "grid_row": null,
            "grid_template_areas": null,
            "grid_template_columns": null,
            "grid_template_rows": null,
            "height": null,
            "justify_content": null,
            "justify_items": null,
            "left": null,
            "margin": null,
            "max_height": null,
            "max_width": null,
            "min_height": null,
            "min_width": null,
            "object_fit": null,
            "object_position": null,
            "order": null,
            "overflow": null,
            "overflow_x": null,
            "overflow_y": null,
            "padding": null,
            "right": null,
            "top": null,
            "visibility": null,
            "width": null
          }
        },
        "7c5e8cf5a3ce460eab0d44850a305931": {
          "model_module": "@jupyter-widgets/controls",
          "model_module_version": "1.5.0",
          "model_name": "DescriptionStyleModel",
          "state": {
            "_model_module": "@jupyter-widgets/controls",
            "_model_module_version": "1.5.0",
            "_model_name": "DescriptionStyleModel",
            "_view_count": null,
            "_view_module": "@jupyter-widgets/base",
            "_view_module_version": "1.2.0",
            "_view_name": "StyleView",
            "description_width": ""
          }
        },
        "896b0391da9341e3b98ce5f68fb85446": {
          "model_module": "@jupyter-widgets/controls",
          "model_module_version": "1.5.0",
          "model_name": "ProgressStyleModel",
          "state": {
            "_model_module": "@jupyter-widgets/controls",
            "_model_module_version": "1.5.0",
            "_model_name": "ProgressStyleModel",
            "_view_count": null,
            "_view_module": "@jupyter-widgets/base",
            "_view_module_version": "1.2.0",
            "_view_name": "StyleView",
            "bar_color": null,
            "description_width": ""
          }
        },
        "a5b63da6999b477bb9deeb1a08a0dcb2": {
          "model_module": "@jupyter-widgets/base",
          "model_module_version": "1.2.0",
          "model_name": "LayoutModel",
          "state": {
            "_model_module": "@jupyter-widgets/base",
            "_model_module_version": "1.2.0",
            "_model_name": "LayoutModel",
            "_view_count": null,
            "_view_module": "@jupyter-widgets/base",
            "_view_module_version": "1.2.0",
            "_view_name": "LayoutView",
            "align_content": null,
            "align_items": null,
            "align_self": null,
            "border": null,
            "bottom": null,
            "display": null,
            "flex": null,
            "flex_flow": null,
            "grid_area": null,
            "grid_auto_columns": null,
            "grid_auto_flow": null,
            "grid_auto_rows": null,
            "grid_column": null,
            "grid_gap": null,
            "grid_row": null,
            "grid_template_areas": null,
            "grid_template_columns": null,
            "grid_template_rows": null,
            "height": null,
            "justify_content": null,
            "justify_items": null,
            "left": null,
            "margin": null,
            "max_height": null,
            "max_width": null,
            "min_height": null,
            "min_width": null,
            "object_fit": null,
            "object_position": null,
            "order": null,
            "overflow": null,
            "overflow_x": null,
            "overflow_y": null,
            "padding": null,
            "right": null,
            "top": null,
            "visibility": null,
            "width": null
          }
        },
        "aac30642cb5f4856a720cd0adbb63810": {
          "model_module": "@jupyter-widgets/controls",
          "model_module_version": "1.5.0",
          "model_name": "FloatProgressModel",
          "state": {
            "_dom_classes": [],
            "_model_module": "@jupyter-widgets/controls",
            "_model_module_version": "1.5.0",
            "_model_name": "FloatProgressModel",
            "_view_count": null,
            "_view_module": "@jupyter-widgets/controls",
            "_view_module_version": "1.5.0",
            "_view_name": "ProgressView",
            "bar_style": "success",
            "description": "",
            "description_tooltip": null,
            "layout": "IPY_MODEL_7b3ed3a533f240e8a7cfeb69ba747aa8",
            "max": 3,
            "min": 0,
            "orientation": "horizontal",
            "style": "IPY_MODEL_896b0391da9341e3b98ce5f68fb85446",
            "value": 3
          }
        },
        "ac7f14c0900f4c9db5af3a76ca6f6384": {
          "model_module": "@jupyter-widgets/base",
          "model_module_version": "1.2.0",
          "model_name": "LayoutModel",
          "state": {
            "_model_module": "@jupyter-widgets/base",
            "_model_module_version": "1.2.0",
            "_model_name": "LayoutModel",
            "_view_count": null,
            "_view_module": "@jupyter-widgets/base",
            "_view_module_version": "1.2.0",
            "_view_name": "LayoutView",
            "align_content": null,
            "align_items": null,
            "align_self": null,
            "border": null,
            "bottom": null,
            "display": null,
            "flex": null,
            "flex_flow": null,
            "grid_area": null,
            "grid_auto_columns": null,
            "grid_auto_flow": null,
            "grid_auto_rows": null,
            "grid_column": null,
            "grid_gap": null,
            "grid_row": null,
            "grid_template_areas": null,
            "grid_template_columns": null,
            "grid_template_rows": null,
            "height": null,
            "justify_content": null,
            "justify_items": null,
            "left": null,
            "margin": null,
            "max_height": null,
            "max_width": null,
            "min_height": null,
            "min_width": null,
            "object_fit": null,
            "object_position": null,
            "order": null,
            "overflow": null,
            "overflow_x": null,
            "overflow_y": null,
            "padding": null,
            "right": null,
            "top": null,
            "visibility": null,
            "width": null
          }
        },
        "b8310b535add4a8baee8dcde59ce3435": {
          "model_module": "@jupyter-widgets/base",
          "model_module_version": "1.2.0",
          "model_name": "LayoutModel",
          "state": {
            "_model_module": "@jupyter-widgets/base",
            "_model_module_version": "1.2.0",
            "_model_name": "LayoutModel",
            "_view_count": null,
            "_view_module": "@jupyter-widgets/base",
            "_view_module_version": "1.2.0",
            "_view_name": "LayoutView",
            "align_content": null,
            "align_items": null,
            "align_self": null,
            "border": null,
            "bottom": null,
            "display": null,
            "flex": null,
            "flex_flow": null,
            "grid_area": null,
            "grid_auto_columns": null,
            "grid_auto_flow": null,
            "grid_auto_rows": null,
            "grid_column": null,
            "grid_gap": null,
            "grid_row": null,
            "grid_template_areas": null,
            "grid_template_columns": null,
            "grid_template_rows": null,
            "height": null,
            "justify_content": null,
            "justify_items": null,
            "left": null,
            "margin": null,
            "max_height": null,
            "max_width": null,
            "min_height": null,
            "min_width": null,
            "object_fit": null,
            "object_position": null,
            "order": null,
            "overflow": null,
            "overflow_x": null,
            "overflow_y": null,
            "padding": null,
            "right": null,
            "top": null,
            "visibility": null,
            "width": null
          }
        },
        "bb3579a8d69f401a88b7b1b08ff7108a": {
          "model_module": "@jupyter-widgets/controls",
          "model_module_version": "1.5.0",
          "model_name": "HTMLModel",
          "state": {
            "_dom_classes": [],
            "_model_module": "@jupyter-widgets/controls",
            "_model_module_version": "1.5.0",
            "_model_name": "HTMLModel",
            "_view_count": null,
            "_view_module": "@jupyter-widgets/controls",
            "_view_module_version": "1.5.0",
            "_view_name": "HTMLView",
            "description": "",
            "description_tooltip": null,
            "layout": "IPY_MODEL_5f5d77eba09a4d3487c08a767753816e",
            "placeholder": "​",
            "style": "IPY_MODEL_431c9f7c7dd544ddb6ea10e061d87253",
            "value": "100%"
          }
        },
        "bec2c3a3a890463d95539b13de7a0774": {
          "model_module": "@jupyter-widgets/controls",
          "model_module_version": "1.5.0",
          "model_name": "HBoxModel",
          "state": {
            "_dom_classes": [],
            "_model_module": "@jupyter-widgets/controls",
            "_model_module_version": "1.5.0",
            "_model_name": "HBoxModel",
            "_view_count": null,
            "_view_module": "@jupyter-widgets/controls",
            "_view_module_version": "1.5.0",
            "_view_name": "HBoxView",
            "box_style": "",
            "children": [
              "IPY_MODEL_2cfe8ec77f2a40be9ee7e4d32b76d9c2",
              "IPY_MODEL_59bf34c6bac04650b267d2945e3d6192",
              "IPY_MODEL_325314b56ba644d59895e9a638e42d78"
            ],
            "layout": "IPY_MODEL_b8310b535add4a8baee8dcde59ce3435"
          }
        },
        "c1130551aa474760892ab4d0e5a20dc7": {
          "model_module": "@jupyter-widgets/controls",
          "model_module_version": "1.5.0",
          "model_name": "DescriptionStyleModel",
          "state": {
            "_model_module": "@jupyter-widgets/controls",
            "_model_module_version": "1.5.0",
            "_model_name": "DescriptionStyleModel",
            "_view_count": null,
            "_view_module": "@jupyter-widgets/base",
            "_view_module_version": "1.2.0",
            "_view_name": "StyleView",
            "description_width": ""
          }
        },
        "f87abc574da04d7eadf871f633654962": {
          "model_module": "@jupyter-widgets/base",
          "model_module_version": "1.2.0",
          "model_name": "LayoutModel",
          "state": {
            "_model_module": "@jupyter-widgets/base",
            "_model_module_version": "1.2.0",
            "_model_name": "LayoutModel",
            "_view_count": null,
            "_view_module": "@jupyter-widgets/base",
            "_view_module_version": "1.2.0",
            "_view_name": "LayoutView",
            "align_content": null,
            "align_items": null,
            "align_self": null,
            "border": null,
            "bottom": null,
            "display": null,
            "flex": null,
            "flex_flow": null,
            "grid_area": null,
            "grid_auto_columns": null,
            "grid_auto_flow": null,
            "grid_auto_rows": null,
            "grid_column": null,
            "grid_gap": null,
            "grid_row": null,
            "grid_template_areas": null,
            "grid_template_columns": null,
            "grid_template_rows": null,
            "height": null,
            "justify_content": null,
            "justify_items": null,
            "left": null,
            "margin": null,
            "max_height": null,
            "max_width": null,
            "min_height": null,
            "min_width": null,
            "object_fit": null,
            "object_position": null,
            "order": null,
            "overflow": null,
            "overflow_x": null,
            "overflow_y": null,
            "padding": null,
            "right": null,
            "top": null,
            "visibility": null,
            "width": null
          }
        }
      }
    }
  },
  "nbformat": 4,
  "nbformat_minor": 0
}
