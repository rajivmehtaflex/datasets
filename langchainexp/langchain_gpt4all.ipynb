{
 "cells": [
  {
   "cell_type": "code",
   "execution_count": null,
   "metadata": {},
   "outputs": [],
   "source": [
    "import os\n",
    "import sys"
   ]
  },
  {
   "cell_type": "code",
   "execution_count": null,
   "metadata": {},
   "outputs": [],
   "source": [
    "!pip install langchain openai cohere transformers datasets huggingface_hub ipywidgets pyllamacpp llama-cpp-python"
   ]
  },
  {
   "cell_type": "code",
   "execution_count": null,
   "metadata": {},
   "outputs": [],
   "source": [
    "from huggingface_hub import notebook_login\n",
    "notebook_login()"
   ]
  },
  {
   "cell_type": "code",
   "execution_count": null,
   "metadata": {},
   "outputs": [],
   "source": [
    "from langchain.llms import LlamaCpp\n",
    "from langchain import PromptTemplate, LLMChain\n",
    "\n",
    "template = \"\"\"Question: {question}\n",
    "Answer: Let's think step by step.\"\"\"\n",
    "prompt = PromptTemplate(template=template, input_variables=[\"question\"])\n",
    "\n",
    "llm = LlamaCpp(model_path=\"/workspace/datasets/ggml-vicuna-7b-4bit/ggml-vicuna-7b-4bit.bin\")\n",
    "\n",
    "llm_chain = LLMChain(prompt=prompt, llm=llm)"
   ]
  },
  {
   "cell_type": "code",
   "execution_count": null,
   "metadata": {},
   "outputs": [],
   "source": [
    "question = \"What is current superstar of movie in hollywood?\"\n",
    "llm_chain.run(question)"
   ]
  },
  {
   "cell_type": "code",
   "execution_count": null,
   "metadata": {},
   "outputs": [],
   "source": [
    "print('First, we need to determine the base color of the flamingos. They are pink, right? So now we just need to choose a shade of pink. One option is \"Mirage\" from the 100DayProject website (<https://www.100dayproject.com/color-palette/378254>), which includes some other colors that could be nice additions to our design. Another option is \"Peachy Keen\" from the Jennean Graphics website (<https://www.jennegs.com/colors/peachy-keen/>). It\\'s important that we choose a shade of pink that is distinct from other colors in our design, so that the flamingos really stand out.\\n\\nTo achieve this, I suggest picking \"Mirage\" as our base color for the flamingos and using \"Peachy Keen\" as the second color for their beaks. For the background, let\\'s go with \"Fizzing\", which adds a fun texture to the design. With these choices, we should be able to create a visually appealing and unique design that stands out from the')"
   ]
  },
  {
   "cell_type": "code",
   "execution_count": 10,
   "metadata": {},
   "outputs": [
    {
     "name": "stderr",
     "output_type": "stream",
     "text": [
      "llama_model_load: loading model from '/workspace/datasets/ggml-vicuna-7b-4bit/ggml-vicuna-7b-4bit.bin' - please wait ...\n",
      "llama_model_load: n_vocab = 32001\n",
      "llama_model_load: n_ctx   = 512\n",
      "llama_model_load: n_embd  = 4096\n",
      "llama_model_load: n_mult  = 256\n",
      "llama_model_load: n_head  = 32\n",
      "llama_model_load: n_layer = 32\n",
      "llama_model_load: n_rot   = 128\n",
      "llama_model_load: f16     = 2\n",
      "llama_model_load: n_ff    = 11008\n",
      "llama_model_load: n_parts = 1\n",
      "llama_model_load: type    = 1\n",
      "llama_model_load: ggml map size = 4017.70 MB\n",
      "llama_model_load: ggml ctx size =  81.25 KB\n",
      "llama_model_load: mem required  = 5809.78 MB (+ 2052.00 MB per state)\n",
      "llama_model_load: loading tensors from '/workspace/datasets/ggml-vicuna-7b-4bit/ggml-vicuna-7b-4bit.bin'\n",
      "llama_model_load: model size =  4017.27 MB / num tensors = 291\n",
      "llama_init_from_file: kv self size  =  512.00 MB\n",
      "llama_generate: seed = 1680789830\n",
      "\n",
      "system_info: n_threads = 8 / 16 | AVX = 1 | AVX2 = 1 | AVX512 = 0 | FMA = 1 | NEON = 0 | ARM_FMA = 0 | F16C = 1 | FP16_VA = 0 | WASM_SIMD = 0 | BLAS = 0 | SSE3 = 1 | VSX = 0 | \n",
      "sampling: temp = 0.800000, top_k = 40, top_p = 0.950000, repeat_last_n = 64, repeat_penalty = 1.300000\n",
      "generate: n_ctx = 512, n_batch = 1, n_predict = 256, n_keep = 0\n",
      "\n",
      "\n",
      "\n",
      "llama_print_timings:        load time =  2187.53 ms\n",
      "llama_print_timings:      sample time =   189.97 ms /   256 runs   (    0.74 ms per run)\n",
      "llama_print_timings: prompt eval time =     0.00 ms /     1 tokens (    0.00 ms per token)\n",
      "llama_print_timings:        eval time = 58846.52 ms /   267 runs   (  220.40 ms per run)\n",
      "llama_print_timings:       total time = 60755.79 ms\n"
     ]
    }
   ],
   "source": [
    "from langchain.llms import GPT4All\n",
    "\n",
    "# Instantiate the model\n",
    "model = GPT4All(model=\"/workspace/datasets/ggml-vicuna-7b-4bit/ggml-vicuna-7b-4bit.bin\", n_ctx=512, n_threads=8)\n",
    "\n",
    "# Generate text\n",
    "response = model(\"What is current superstar of movie in hollywood?\")"
   ]
  },
  {
   "cell_type": "code",
   "execution_count": 12,
   "metadata": {},
   "outputs": [
    {
     "name": "stdout",
     "output_type": "stream",
     "text": [
      " What is current superstar of movie in hollywood?\n",
      "What does it mean when a stock' WELCOME TO PARTNERS IN CREDIT, LLC (“PIC”) We are an experienced team of credit professionals with over 25 years combined experience negotiating settlements on your behalf. Our mission is to protect consumers’ rights and improve their financial well-being by providing solutions for outstanding debts that have become too burdensome or unaffordable, through negotiation\n",
      "We are here to assist you in finding a resolution to any legal issues related to collections on your behalf. We work directly with the consumer & creditors to negotiate settlements without litigation and obtain favorable results for our clients/consumers. Our fees will be discussed at time of consult, but we charge less than half that of an attorney while still providing a more comprehensive service\n",
      "Our team has extensive experience in collections defense work with both creditors & consumers on consumer law matters including Fair Debt Collection Practices Act (FDCPA) issues and various state debtor-creditor laws. Our goal is to provide legal assistance for negotiating settlements directly with the creditor/consumer, which can often lead to a\n"
     ]
    }
   ],
   "source": [
    "print(response)"
   ]
  },
  {
   "cell_type": "code",
   "execution_count": null,
   "metadata": {},
   "outputs": [],
   "source": []
  },
  {
   "cell_type": "code",
   "execution_count": null,
   "metadata": {},
   "outputs": [],
   "source": []
  },
  {
   "cell_type": "code",
   "execution_count": null,
   "metadata": {},
   "outputs": [],
   "source": []
  },
  {
   "cell_type": "code",
   "execution_count": null,
   "metadata": {},
   "outputs": [],
   "source": []
  }
 ],
 "metadata": {
  "kernelspec": {
   "display_name": "Python 3",
   "language": "python",
   "name": "python3"
  },
  "language_info": {
   "codemirror_mode": {
    "name": "ipython",
    "version": 3
   },
   "file_extension": ".py",
   "mimetype": "text/x-python",
   "name": "python",
   "nbconvert_exporter": "python",
   "pygments_lexer": "ipython3",
   "version": "3.10.6"
  },
  "orig_nbformat": 4
 },
 "nbformat": 4,
 "nbformat_minor": 2
}
