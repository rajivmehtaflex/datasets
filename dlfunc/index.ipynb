{
 "cells": [
  {
   "cell_type": "code",
   "execution_count": 15,
   "metadata": {},
   "outputs": [
    {
     "name": "stdout",
     "output_type": "stream",
     "text": [
      "AI Function -> 196\n"
     ]
    }
   ],
   "source": [
    "from marvin import ai_fn as rajiv_ai_compiler\n",
    "\n",
    "@rajiv_ai_compiler \n",
    "#Perform multiplication\n",
    "def return_multiplication(x:int,y:int) -> int:\n",
    "    \"\"\"Make a multiplication of x and y\"\"\"\n",
    "\n",
    "@rajiv_ai_compiler\n",
    "#Perform Square\n",
    "def return_square(y:int) -> int:\n",
    "    \"\"\"Make a square of y\"\"\"\n",
    "\n",
    "print(f'AI Function -> {return_square(return_multiplication(2,7))}')"
   ]
  },
  {
   "cell_type": "code",
   "execution_count": null,
   "metadata": {},
   "outputs": [],
   "source": []
  },
  {
   "cell_type": "code",
   "execution_count": null,
   "metadata": {},
   "outputs": [],
   "source": []
  },
  {
   "cell_type": "code",
   "execution_count": null,
   "metadata": {},
   "outputs": [],
   "source": []
  },
  {
   "cell_type": "code",
   "execution_count": null,
   "metadata": {},
   "outputs": [],
   "source": []
  },
  {
   "cell_type": "code",
   "execution_count": null,
   "metadata": {},
   "outputs": [],
   "source": []
  }
 ],
 "metadata": {
  "kernelspec": {
   "display_name": "Python 3",
   "language": "python",
   "name": "python3"
  },
  "language_info": {
   "codemirror_mode": {
    "name": "ipython",
    "version": 3
   },
   "file_extension": ".py",
   "mimetype": "text/x-python",
   "name": "python",
   "nbconvert_exporter": "python",
   "pygments_lexer": "ipython3",
   "version": "3.10.4"
  },
  "orig_nbformat": 4
 },
 "nbformat": 4,
 "nbformat_minor": 2
}
