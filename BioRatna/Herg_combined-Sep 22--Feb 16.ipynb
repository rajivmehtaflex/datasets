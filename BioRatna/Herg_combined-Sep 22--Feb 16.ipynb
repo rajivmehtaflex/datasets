{
 "cells": [
  {
   "cell_type": "code",
   "execution_count": 1,
   "id": "63c77b77",
   "metadata": {},
   "outputs": [],
   "source": [
    "import rdkit\n",
    "import math\n",
    "import pandas as pd\n",
    "import numpy as np\n",
    "from rdkit import Chem\n",
    "from rdkit.Chem import AllChem\n",
    "from sklearn.model_selection import train_test_split\n",
    "from sklearn.metrics import r2_score, mean_absolute_error, mean_squared_error\n",
    "from lightgbm import LGBMRegressor\n",
    "\n",
    "from sklearn.ensemble import RandomForestRegressor, ExtraTreesRegressor\n"
   ]
  },
  {
   "cell_type": "code",
   "execution_count": 2,
   "id": "677c2d39",
   "metadata": {},
   "outputs": [],
   "source": [
    "from xgboost import XGBRegressor"
   ]
  },
  {
   "cell_type": "code",
   "execution_count": 3,
   "id": "ff5ff855",
   "metadata": {},
   "outputs": [
    {
     "data": {
      "text/html": [
       "<div>\n",
       "<style scoped>\n",
       "    .dataframe tbody tr th:only-of-type {\n",
       "        vertical-align: middle;\n",
       "    }\n",
       "\n",
       "    .dataframe tbody tr th {\n",
       "        vertical-align: top;\n",
       "    }\n",
       "\n",
       "    .dataframe thead th {\n",
       "        text-align: right;\n",
       "    }\n",
       "</style>\n",
       "<table border=\"1\" class=\"dataframe\">\n",
       "  <thead>\n",
       "    <tr style=\"text-align: right;\">\n",
       "      <th></th>\n",
       "      <th>MOLECULE</th>\n",
       "      <th>OUTCOME</th>\n",
       "      <th>Unnamed: 2</th>\n",
       "      <th>Unnamed: 3</th>\n",
       "      <th>Unnamed: 4</th>\n",
       "    </tr>\n",
       "  </thead>\n",
       "  <tbody>\n",
       "    <tr>\n",
       "      <th>0</th>\n",
       "      <td>BrC1=CC(COCC2(C3=CC=CC=C3)CCNCC2)=CN=C1</td>\n",
       "      <td>4.823909</td>\n",
       "      <td>4.176091</td>\n",
       "      <td>15000.00000</td>\n",
       "      <td>0</td>\n",
       "    </tr>\n",
       "    <tr>\n",
       "      <th>1</th>\n",
       "      <td>BrC1=CC2=C(N=C1)N=C(N1CCN3CCC1CC3)O2</td>\n",
       "      <td>5.638272</td>\n",
       "      <td>3.361728</td>\n",
       "      <td>2300.00000</td>\n",
       "      <td>1</td>\n",
       "    </tr>\n",
       "    <tr>\n",
       "      <th>2</th>\n",
       "      <td>C/C=C/C1=NC(COCC2(C3=CC=C(F)C=C3)CCN(C)CC2)=CC...</td>\n",
       "      <td>4.886057</td>\n",
       "      <td>4.113943</td>\n",
       "      <td>12999.99999</td>\n",
       "      <td>0</td>\n",
       "    </tr>\n",
       "    <tr>\n",
       "      <th>3</th>\n",
       "      <td>C=CC(=O)N1CCC[C@@H](N2N=C(C3=CC(C(=O)NCC4=CC=C...</td>\n",
       "      <td>5.744727</td>\n",
       "      <td>3.255273</td>\n",
       "      <td>1800.00000</td>\n",
       "      <td>1</td>\n",
       "    </tr>\n",
       "    <tr>\n",
       "      <th>4</th>\n",
       "      <td>C=CC(=O)N1CCC[C@@H](N2N=C(C3=CC(C(=O)NC4=CC(C)...</td>\n",
       "      <td>6.522879</td>\n",
       "      <td>2.477121</td>\n",
       "      <td>300.00000</td>\n",
       "      <td>1</td>\n",
       "    </tr>\n",
       "  </tbody>\n",
       "</table>\n",
       "</div>"
      ],
      "text/plain": [
       "                                            MOLECULE   OUTCOME  Unnamed: 2  \\\n",
       "0            BrC1=CC(COCC2(C3=CC=CC=C3)CCNCC2)=CN=C1  4.823909    4.176091   \n",
       "1               BrC1=CC2=C(N=C1)N=C(N1CCN3CCC1CC3)O2  5.638272    3.361728   \n",
       "2  C/C=C/C1=NC(COCC2(C3=CC=C(F)C=C3)CCN(C)CC2)=CC...  4.886057    4.113943   \n",
       "3  C=CC(=O)N1CCC[C@@H](N2N=C(C3=CC(C(=O)NCC4=CC=C...  5.744727    3.255273   \n",
       "4  C=CC(=O)N1CCC[C@@H](N2N=C(C3=CC(C(=O)NC4=CC(C)...  6.522879    2.477121   \n",
       "\n",
       "    Unnamed: 3  Unnamed: 4  \n",
       "0  15000.00000           0  \n",
       "1   2300.00000           1  \n",
       "2  12999.99999           0  \n",
       "3   1800.00000           1  \n",
       "4    300.00000           1  "
      ]
     },
     "execution_count": 3,
     "metadata": {},
     "output_type": "execute_result"
    }
   ],
   "source": [
    "df=pd.read_csv('HERG_Concatenate.csv')\n",
    "df.head()"
   ]
  },
  {
   "cell_type": "code",
   "execution_count": 4,
   "id": "ffc1995b",
   "metadata": {},
   "outputs": [],
   "source": [
    "smiles=df['MOLECULE']\n"
   ]
  },
  {
   "cell_type": "code",
   "execution_count": 5,
   "id": "6caff515",
   "metadata": {},
   "outputs": [],
   "source": [
    "def ECFP4(smiles):\n",
    "    target=[]\n",
    "    for smile in smiles:\n",
    "        c=Chem.MolFromSmiles(smile)\n",
    "        fp=AllChem.GetMorganFingerprintAsBitVect(c, 2, 1024)\n",
    "        fp=fp.ToBitString()\n",
    "        target.append(fp)\n",
    "#     print(len(target))\n",
    "    df7=pd.DataFrame()\n",
    "    df7['target']=target\n",
    "    for i in range(len(target[0])):\n",
    "        df7['B'+str(i)]=df7['target'].str[i]\n",
    "    df7=df7.drop('target', axis=1)\n",
    "    for cols in df7.columns:\n",
    "        df7[cols]=np.int64(df7[cols])\n",
    "    return df7"
   ]
  },
  {
   "cell_type": "code",
   "execution_count": 6,
   "id": "f1539748",
   "metadata": {},
   "outputs": [
    {
     "name": "stderr",
     "output_type": "stream",
     "text": [
      "C:\\Users\\OM\\anaconda3\\envs\\rdkit\\lib\\site-packages\\ipykernel_launcher.py:12: PerformanceWarning: DataFrame is highly fragmented.  This is usually the result of calling `frame.insert` many times, which has poor performance.  Consider joining all columns at once using pd.concat(axis=1) instead.  To get a de-fragmented frame, use `newframe = frame.copy()`\n",
      "  if sys.path[0] == '':\n"
     ]
    },
    {
     "data": {
      "text/plain": [
       "3663"
      ]
     },
     "execution_count": 6,
     "metadata": {},
     "output_type": "execute_result"
    }
   ],
   "source": [
    "desc=ECFP4(smiles)\n",
    "len(desc)"
   ]
  },
  {
   "cell_type": "code",
   "execution_count": 7,
   "id": "b48b4098",
   "metadata": {},
   "outputs": [],
   "source": [
    "X=np.asarray(desc)\n",
    "y=df['OUTCOME']"
   ]
  },
  {
   "cell_type": "code",
   "execution_count": 8,
   "id": "ab269636",
   "metadata": {},
   "outputs": [
    {
     "data": {
      "text/html": [
       "<div>\n",
       "<style scoped>\n",
       "    .dataframe tbody tr th:only-of-type {\n",
       "        vertical-align: middle;\n",
       "    }\n",
       "\n",
       "    .dataframe tbody tr th {\n",
       "        vertical-align: top;\n",
       "    }\n",
       "\n",
       "    .dataframe thead th {\n",
       "        text-align: right;\n",
       "    }\n",
       "</style>\n",
       "<table border=\"1\" class=\"dataframe\">\n",
       "  <thead>\n",
       "    <tr style=\"text-align: right;\">\n",
       "      <th></th>\n",
       "      <th>0</th>\n",
       "      <th>1</th>\n",
       "      <th>2</th>\n",
       "      <th>3</th>\n",
       "      <th>4</th>\n",
       "      <th>5</th>\n",
       "      <th>6</th>\n",
       "      <th>7</th>\n",
       "      <th>8</th>\n",
       "      <th>9</th>\n",
       "      <th>...</th>\n",
       "      <th>1015</th>\n",
       "      <th>1016</th>\n",
       "      <th>1017</th>\n",
       "      <th>1018</th>\n",
       "      <th>1019</th>\n",
       "      <th>1020</th>\n",
       "      <th>1021</th>\n",
       "      <th>1022</th>\n",
       "      <th>1023</th>\n",
       "      <th>outcome</th>\n",
       "    </tr>\n",
       "  </thead>\n",
       "  <tbody>\n",
       "    <tr>\n",
       "      <th>0</th>\n",
       "      <td>0</td>\n",
       "      <td>0</td>\n",
       "      <td>0</td>\n",
       "      <td>0</td>\n",
       "      <td>0</td>\n",
       "      <td>1</td>\n",
       "      <td>0</td>\n",
       "      <td>0</td>\n",
       "      <td>0</td>\n",
       "      <td>0</td>\n",
       "      <td>...</td>\n",
       "      <td>0</td>\n",
       "      <td>0</td>\n",
       "      <td>0</td>\n",
       "      <td>0</td>\n",
       "      <td>0</td>\n",
       "      <td>0</td>\n",
       "      <td>0</td>\n",
       "      <td>0</td>\n",
       "      <td>0</td>\n",
       "      <td>4.823909</td>\n",
       "    </tr>\n",
       "    <tr>\n",
       "      <th>1</th>\n",
       "      <td>0</td>\n",
       "      <td>0</td>\n",
       "      <td>0</td>\n",
       "      <td>0</td>\n",
       "      <td>0</td>\n",
       "      <td>0</td>\n",
       "      <td>0</td>\n",
       "      <td>0</td>\n",
       "      <td>0</td>\n",
       "      <td>0</td>\n",
       "      <td>...</td>\n",
       "      <td>0</td>\n",
       "      <td>0</td>\n",
       "      <td>0</td>\n",
       "      <td>0</td>\n",
       "      <td>1</td>\n",
       "      <td>0</td>\n",
       "      <td>0</td>\n",
       "      <td>0</td>\n",
       "      <td>0</td>\n",
       "      <td>5.638272</td>\n",
       "    </tr>\n",
       "    <tr>\n",
       "      <th>2</th>\n",
       "      <td>0</td>\n",
       "      <td>0</td>\n",
       "      <td>0</td>\n",
       "      <td>0</td>\n",
       "      <td>0</td>\n",
       "      <td>0</td>\n",
       "      <td>0</td>\n",
       "      <td>0</td>\n",
       "      <td>0</td>\n",
       "      <td>0</td>\n",
       "      <td>...</td>\n",
       "      <td>0</td>\n",
       "      <td>0</td>\n",
       "      <td>0</td>\n",
       "      <td>0</td>\n",
       "      <td>0</td>\n",
       "      <td>0</td>\n",
       "      <td>0</td>\n",
       "      <td>0</td>\n",
       "      <td>0</td>\n",
       "      <td>4.886057</td>\n",
       "    </tr>\n",
       "    <tr>\n",
       "      <th>3</th>\n",
       "      <td>0</td>\n",
       "      <td>0</td>\n",
       "      <td>0</td>\n",
       "      <td>0</td>\n",
       "      <td>1</td>\n",
       "      <td>0</td>\n",
       "      <td>0</td>\n",
       "      <td>0</td>\n",
       "      <td>0</td>\n",
       "      <td>0</td>\n",
       "      <td>...</td>\n",
       "      <td>0</td>\n",
       "      <td>0</td>\n",
       "      <td>0</td>\n",
       "      <td>0</td>\n",
       "      <td>1</td>\n",
       "      <td>0</td>\n",
       "      <td>0</td>\n",
       "      <td>0</td>\n",
       "      <td>0</td>\n",
       "      <td>5.744727</td>\n",
       "    </tr>\n",
       "    <tr>\n",
       "      <th>4</th>\n",
       "      <td>0</td>\n",
       "      <td>1</td>\n",
       "      <td>0</td>\n",
       "      <td>0</td>\n",
       "      <td>1</td>\n",
       "      <td>0</td>\n",
       "      <td>0</td>\n",
       "      <td>1</td>\n",
       "      <td>0</td>\n",
       "      <td>0</td>\n",
       "      <td>...</td>\n",
       "      <td>0</td>\n",
       "      <td>0</td>\n",
       "      <td>0</td>\n",
       "      <td>0</td>\n",
       "      <td>1</td>\n",
       "      <td>0</td>\n",
       "      <td>0</td>\n",
       "      <td>0</td>\n",
       "      <td>0</td>\n",
       "      <td>6.522879</td>\n",
       "    </tr>\n",
       "  </tbody>\n",
       "</table>\n",
       "<p>5 rows × 1025 columns</p>\n",
       "</div>"
      ],
      "text/plain": [
       "   0  1  2  3  4  5  6  7  8  9  ...  1015  1016  1017  1018  1019  1020  \\\n",
       "0  0  0  0  0  0  1  0  0  0  0  ...     0     0     0     0     0     0   \n",
       "1  0  0  0  0  0  0  0  0  0  0  ...     0     0     0     0     1     0   \n",
       "2  0  0  0  0  0  0  0  0  0  0  ...     0     0     0     0     0     0   \n",
       "3  0  0  0  0  1  0  0  0  0  0  ...     0     0     0     0     1     0   \n",
       "4  0  1  0  0  1  0  0  1  0  0  ...     0     0     0     0     1     0   \n",
       "\n",
       "   1021  1022  1023   outcome  \n",
       "0     0     0     0  4.823909  \n",
       "1     0     0     0  5.638272  \n",
       "2     0     0     0  4.886057  \n",
       "3     0     0     0  5.744727  \n",
       "4     0     0     0  6.522879  \n",
       "\n",
       "[5 rows x 1025 columns]"
      ]
     },
     "execution_count": 8,
     "metadata": {},
     "output_type": "execute_result"
    }
   ],
   "source": [
    "X1=pd.DataFrame(X)\n",
    "X1['outcome']=y\n",
    "X1.head()"
   ]
  },
  {
   "cell_type": "code",
   "execution_count": 9,
   "id": "0371c892",
   "metadata": {},
   "outputs": [
    {
     "data": {
      "text/html": [
       "<div>\n",
       "<style scoped>\n",
       "    .dataframe tbody tr th:only-of-type {\n",
       "        vertical-align: middle;\n",
       "    }\n",
       "\n",
       "    .dataframe tbody tr th {\n",
       "        vertical-align: top;\n",
       "    }\n",
       "\n",
       "    .dataframe thead th {\n",
       "        text-align: right;\n",
       "    }\n",
       "</style>\n",
       "<table border=\"1\" class=\"dataframe\">\n",
       "  <thead>\n",
       "    <tr style=\"text-align: right;\">\n",
       "      <th></th>\n",
       "      <th>0</th>\n",
       "      <th>1</th>\n",
       "      <th>2</th>\n",
       "      <th>3</th>\n",
       "      <th>4</th>\n",
       "      <th>5</th>\n",
       "      <th>6</th>\n",
       "      <th>7</th>\n",
       "      <th>8</th>\n",
       "      <th>9</th>\n",
       "      <th>...</th>\n",
       "      <th>1016</th>\n",
       "      <th>1017</th>\n",
       "      <th>1018</th>\n",
       "      <th>1019</th>\n",
       "      <th>1020</th>\n",
       "      <th>1021</th>\n",
       "      <th>1022</th>\n",
       "      <th>1023</th>\n",
       "      <th>outcome</th>\n",
       "      <th>Smiles</th>\n",
       "    </tr>\n",
       "  </thead>\n",
       "  <tbody>\n",
       "    <tr>\n",
       "      <th>0</th>\n",
       "      <td>0</td>\n",
       "      <td>0</td>\n",
       "      <td>0</td>\n",
       "      <td>0</td>\n",
       "      <td>0</td>\n",
       "      <td>1</td>\n",
       "      <td>0</td>\n",
       "      <td>0</td>\n",
       "      <td>0</td>\n",
       "      <td>0</td>\n",
       "      <td>...</td>\n",
       "      <td>0</td>\n",
       "      <td>0</td>\n",
       "      <td>0</td>\n",
       "      <td>0</td>\n",
       "      <td>0</td>\n",
       "      <td>0</td>\n",
       "      <td>0</td>\n",
       "      <td>0</td>\n",
       "      <td>4.823909</td>\n",
       "      <td>BrC1=CC(COCC2(C3=CC=CC=C3)CCNCC2)=CN=C1</td>\n",
       "    </tr>\n",
       "    <tr>\n",
       "      <th>1</th>\n",
       "      <td>0</td>\n",
       "      <td>0</td>\n",
       "      <td>0</td>\n",
       "      <td>0</td>\n",
       "      <td>0</td>\n",
       "      <td>0</td>\n",
       "      <td>0</td>\n",
       "      <td>0</td>\n",
       "      <td>0</td>\n",
       "      <td>0</td>\n",
       "      <td>...</td>\n",
       "      <td>0</td>\n",
       "      <td>0</td>\n",
       "      <td>0</td>\n",
       "      <td>1</td>\n",
       "      <td>0</td>\n",
       "      <td>0</td>\n",
       "      <td>0</td>\n",
       "      <td>0</td>\n",
       "      <td>5.638272</td>\n",
       "      <td>BrC1=CC2=C(N=C1)N=C(N1CCN3CCC1CC3)O2</td>\n",
       "    </tr>\n",
       "    <tr>\n",
       "      <th>2</th>\n",
       "      <td>0</td>\n",
       "      <td>0</td>\n",
       "      <td>0</td>\n",
       "      <td>0</td>\n",
       "      <td>0</td>\n",
       "      <td>0</td>\n",
       "      <td>0</td>\n",
       "      <td>0</td>\n",
       "      <td>0</td>\n",
       "      <td>0</td>\n",
       "      <td>...</td>\n",
       "      <td>0</td>\n",
       "      <td>0</td>\n",
       "      <td>0</td>\n",
       "      <td>0</td>\n",
       "      <td>0</td>\n",
       "      <td>0</td>\n",
       "      <td>0</td>\n",
       "      <td>0</td>\n",
       "      <td>4.886057</td>\n",
       "      <td>C/C=C/C1=NC(COCC2(C3=CC=C(F)C=C3)CCN(C)CC2)=CC...</td>\n",
       "    </tr>\n",
       "    <tr>\n",
       "      <th>3</th>\n",
       "      <td>0</td>\n",
       "      <td>0</td>\n",
       "      <td>0</td>\n",
       "      <td>0</td>\n",
       "      <td>1</td>\n",
       "      <td>0</td>\n",
       "      <td>0</td>\n",
       "      <td>0</td>\n",
       "      <td>0</td>\n",
       "      <td>0</td>\n",
       "      <td>...</td>\n",
       "      <td>0</td>\n",
       "      <td>0</td>\n",
       "      <td>0</td>\n",
       "      <td>1</td>\n",
       "      <td>0</td>\n",
       "      <td>0</td>\n",
       "      <td>0</td>\n",
       "      <td>0</td>\n",
       "      <td>5.744727</td>\n",
       "      <td>C=CC(=O)N1CCC[C@@H](N2N=C(C3=CC(C(=O)NCC4=CC=C...</td>\n",
       "    </tr>\n",
       "    <tr>\n",
       "      <th>4</th>\n",
       "      <td>0</td>\n",
       "      <td>1</td>\n",
       "      <td>0</td>\n",
       "      <td>0</td>\n",
       "      <td>1</td>\n",
       "      <td>0</td>\n",
       "      <td>0</td>\n",
       "      <td>1</td>\n",
       "      <td>0</td>\n",
       "      <td>0</td>\n",
       "      <td>...</td>\n",
       "      <td>0</td>\n",
       "      <td>0</td>\n",
       "      <td>0</td>\n",
       "      <td>1</td>\n",
       "      <td>0</td>\n",
       "      <td>0</td>\n",
       "      <td>0</td>\n",
       "      <td>0</td>\n",
       "      <td>6.522879</td>\n",
       "      <td>C=CC(=O)N1CCC[C@@H](N2N=C(C3=CC(C(=O)NC4=CC(C)...</td>\n",
       "    </tr>\n",
       "  </tbody>\n",
       "</table>\n",
       "<p>5 rows × 1026 columns</p>\n",
       "</div>"
      ],
      "text/plain": [
       "   0  1  2  3  4  5  6  7  8  9  ...  1016  1017  1018  1019  1020  1021  \\\n",
       "0  0  0  0  0  0  1  0  0  0  0  ...     0     0     0     0     0     0   \n",
       "1  0  0  0  0  0  0  0  0  0  0  ...     0     0     0     1     0     0   \n",
       "2  0  0  0  0  0  0  0  0  0  0  ...     0     0     0     0     0     0   \n",
       "3  0  0  0  0  1  0  0  0  0  0  ...     0     0     0     1     0     0   \n",
       "4  0  1  0  0  1  0  0  1  0  0  ...     0     0     0     1     0     0   \n",
       "\n",
       "   1022  1023   outcome                                             Smiles  \n",
       "0     0     0  4.823909            BrC1=CC(COCC2(C3=CC=CC=C3)CCNCC2)=CN=C1  \n",
       "1     0     0  5.638272               BrC1=CC2=C(N=C1)N=C(N1CCN3CCC1CC3)O2  \n",
       "2     0     0  4.886057  C/C=C/C1=NC(COCC2(C3=CC=C(F)C=C3)CCN(C)CC2)=CC...  \n",
       "3     0     0  5.744727  C=CC(=O)N1CCC[C@@H](N2N=C(C3=CC(C(=O)NCC4=CC=C...  \n",
       "4     0     0  6.522879  C=CC(=O)N1CCC[C@@H](N2N=C(C3=CC(C(=O)NC4=CC(C)...  \n",
       "\n",
       "[5 rows x 1026 columns]"
      ]
     },
     "execution_count": 9,
     "metadata": {},
     "output_type": "execute_result"
    }
   ],
   "source": [
    "X1['Smiles']=smiles\n",
    "X1.head()"
   ]
  },
  {
   "cell_type": "code",
   "execution_count": 10,
   "id": "af666a2e",
   "metadata": {},
   "outputs": [
    {
     "data": {
      "text/plain": [
       "3663"
      ]
     },
     "execution_count": 10,
     "metadata": {},
     "output_type": "execute_result"
    }
   ],
   "source": [
    "len(X1)"
   ]
  },
  {
   "cell_type": "code",
   "execution_count": 11,
   "id": "446646ce",
   "metadata": {},
   "outputs": [],
   "source": [
    "X1=X1.drop_duplicates(subset='Smiles', keep=False)\n"
   ]
  },
  {
   "cell_type": "code",
   "execution_count": 12,
   "id": "0d90f008",
   "metadata": {},
   "outputs": [
    {
     "data": {
      "text/plain": [
       "3399"
      ]
     },
     "execution_count": 12,
     "metadata": {},
     "output_type": "execute_result"
    }
   ],
   "source": [
    "len(X1)"
   ]
  },
  {
   "cell_type": "code",
   "execution_count": 13,
   "id": "e148a36f",
   "metadata": {},
   "outputs": [],
   "source": [
    "y1=np.asarray(X1['outcome'])\n",
    "X1=np.asarray(X1.drop(['outcome', 'Smiles'], axis=1))"
   ]
  },
  {
   "cell_type": "code",
   "execution_count": 14,
   "id": "1897762e",
   "metadata": {},
   "outputs": [],
   "source": [
    "X1_train, X1_test, y1_train, y1_test = train_test_split(X1, y1, test_size=0.20, random_state=101)"
   ]
  },
  {
   "cell_type": "code",
   "execution_count": 15,
   "id": "0dd0a321",
   "metadata": {},
   "outputs": [
    {
     "name": "stdout",
     "output_type": "stream",
     "text": [
      "For model  LGBMRegressor()\n",
      "R2 score is  0.7699667062541558\n",
      "RMSE is  0.45835613163400685\n",
      "For model  XGBRegressor(base_score=None, booster=None, callbacks=None,\n",
      "             colsample_bylevel=None, colsample_bynode=None,\n",
      "             colsample_bytree=None, early_stopping_rounds=None,\n",
      "             enable_categorical=False, eval_metric=None, gamma=None,\n",
      "             gpu_id=None, grow_policy=None, importance_type=None,\n",
      "             interaction_constraints=None, learning_rate=None, max_bin=None,\n",
      "             max_cat_to_onehot=None, max_delta_step=None, max_depth=None,\n",
      "             max_leaves=None, min_child_weight=None, missing=nan,\n",
      "             monotone_constraints=None, n_estimators=100, n_jobs=None,\n",
      "             num_parallel_tree=None, predictor=None, random_state=None,\n",
      "             reg_alpha=None, reg_lambda=None, ...)\n",
      "R2 score is  0.8133965402105763\n",
      "RMSE is  0.41282647601141975\n",
      "For model  RandomForestRegressor()\n",
      "R2 score is  0.816639577222497\n",
      "RMSE is  0.40922343578289777\n",
      "For model  ExtraTreesRegressor()\n",
      "R2 score is  0.7886437895049664\n",
      "RMSE is  0.4393546258529354\n"
     ]
    }
   ],
   "source": [
    "models=[LGBMRegressor, XGBRegressor, RandomForestRegressor, ExtraTreesRegressor]\n",
    "for model in models:\n",
    "    p=model()\n",
    "    print(\"For model \", p)\n",
    "    p.fit(X1_train, y1_train)\n",
    "    pred=p.predict(X1_test)\n",
    "    r2=r2_score(y1_test, pred)\n",
    "    print(\"R2 score is \", r2)\n",
    "    rmse=math.sqrt(mean_squared_error(y1_test, pred))\n",
    "    print(\"RMSE is \", rmse)"
   ]
  },
  {
   "cell_type": "code",
   "execution_count": 16,
   "id": "d20d505e",
   "metadata": {},
   "outputs": [],
   "source": [
    "from sklearn.model_selection import KFold"
   ]
  },
  {
   "cell_type": "code",
   "execution_count": 17,
   "id": "0c35c3de",
   "metadata": {},
   "outputs": [],
   "source": [
    "cv=KFold(n_splits=10, shuffle= True)"
   ]
  },
  {
   "cell_type": "code",
   "execution_count": 18,
   "id": "7ab69283",
   "metadata": {},
   "outputs": [],
   "source": [
    "rfr=RandomForestRegressor()"
   ]
  },
  {
   "cell_type": "code",
   "execution_count": 20,
   "id": "88783bc2",
   "metadata": {},
   "outputs": [
    {
     "name": "stdout",
     "output_type": "stream",
     "text": [
      "For counter  0 ----\n",
      "0.8969007534465563\n",
      "0.29792137306306954\n",
      "For counter  1 ----\n",
      "0.9010084231878064\n",
      "0.2660856166151126\n",
      "For counter  2 ----\n",
      "0.92104504571651\n",
      "0.2869977485160898\n",
      "For counter  3 ----\n",
      "0.831614683436367\n",
      "0.39994694997559666\n",
      "For counter  4 ----\n",
      "0.8947542063906694\n",
      "0.29537009717104623\n",
      "For counter  5 ----\n",
      "0.8828807033839263\n",
      "0.308848251657868\n",
      "For counter  6 ----\n",
      "0.8394726873025461\n",
      "0.35980876124147815\n",
      "For counter  7 ----\n",
      "0.8854018633758077\n",
      "0.3072175699657589\n",
      "For counter  8 ----\n",
      "0.8541202663998457\n",
      "0.3507729813544136\n",
      "For counter  9 ----\n",
      "0.8673808803128951\n",
      "0.3373868876838765\n",
      "Final r2 score is  0.8774579512952931\n",
      "Final error is  0.321035623724431\n"
     ]
    }
   ],
   "source": [
    "avg=0\n",
    "err=0\n",
    "count=0\n",
    "for train_index, test_index in cv.split(X1):\n",
    "    X_train, X_test = X1[train_index], X1[test_index]\n",
    "    y_train, y_test = y1[train_index], y1[test_index]\n",
    "    rfr.fit(X_train, y_train)\n",
    "    pred=rfr.predict(X_test)\n",
    "    r2=r2_score(y_test, pred)\n",
    "    print(\"For counter \", count, \"----\")\n",
    "    print(r2)\n",
    "    rmse=math.sqrt(mean_squared_error(y_test, pred))\n",
    "    print(rmse)\n",
    "    avg=avg+r2\n",
    "    count=count+1\n",
    "    err=err+rmse\n",
    "#     print(err)\n",
    "print(\"Final r2 score is \", (avg/10))\n",
    "print(\"Final error is \", (err/10))"
   ]
  },
  {
   "cell_type": "code",
   "execution_count": 21,
   "id": "81e188ed",
   "metadata": {},
   "outputs": [
    {
     "data": {
      "text/plain": [
       "array([4.82390874, 5.15490196, 4.88941029, 4.82390874, 5.84163751,\n",
       "       5.20760831, 5.40000019, 4.52287874, 5.40893539, 5.62893214,\n",
       "       5.49999968, 6.39794001, 5.48148606, 5.63827216, 5.6777807 ,\n",
       "       7.29998894, 5.7447275 , 6.19999817, 4.87942607, 5.6777807 ,\n",
       "       5.13076828, 4.61978876, 4.76955108, 6.39794001, 5.25963731,\n",
       "       4.76955108, 4.60205999, 4.82390874, 4.79588002, 6.33724217,\n",
       "       3.85387196, 5.76955108, 4.56863624, 5.89999842, 5.89999842,\n",
       "       4.88605665, 5.20000024, 5.58502665, 5.58972904, 4.88605665,\n",
       "       5.50863831, 4.63827216, 4.76955108, 4.39794001, 5.1079054 ,\n",
       "       5.92445304, 4.98296666, 4.82973829, 8.85387196, 4.55909092,\n",
       "       8.95860732, 4.7447275 , 4.85387196, 5.19382003, 3.75945075,\n",
       "       5.6777807 , 6.49485002, 4.49620932, 5.69745263, 5.        ,\n",
       "       5.76955108, 5.12199553, 4.39685563, 8.07058107, 4.65757732,\n",
       "       6.59999765, 7.85667287, 5.40000019, 5.31875876, 5.20760831,\n",
       "       4.61385789, 6.63078414, 4.41907502, 4.79588002, 3.76447155,\n",
       "       4.60380065, 4.48148606, 5.48148606, 5.25181197, 5.46852108,\n",
       "       5.08618615, 5.27572413, 5.22914799, 6.        , 6.04575749,\n",
       "       5.70774393, 5.63827216, 4.19997064, 6.99563563, 4.88605665,\n",
       "       4.26760624, 4.63827216, 5.64397414, 4.85387196, 4.88605665,\n",
       "       5.39794001, 7.60205999, 5.95860732, 6.28399666, 4.39794001,\n",
       "       5.86646109, 4.35654732, 6.59999765, 5.55284197, 5.55284197,\n",
       "       5.76955108, 5.06033102, 5.55284197, 6.45593196, 5.40000019,\n",
       "       6.6999918 , 5.07572071, 5.30103   , 4.6777807 , 4.38615818,\n",
       "       4.59859946, 5.        , 5.22914799, 5.53461715, 5.37675071,\n",
       "       5.14874165, 5.92081875, 4.82973829, 4.56863624, 4.76955108,\n",
       "       5.28399666, 4.        , 5.79588002, 8.17327748, 5.        ,\n",
       "       5.18045606, 5.95860732, 4.48346463, 4.61978876, 6.22184875,\n",
       "       4.69897   , 5.80000088, 6.09999903, 7.        , 5.59999938,\n",
       "       5.46852108, 5.09691001, 4.90000014, 8.52287874, 5.7000005 ,\n",
       "       5.82390874, 6.09999903, 8.79588002, 4.88605665, 5.49999968,\n",
       "       6.33254705, 4.55284197, 6.42365865, 6.76955108, 5.29242982,\n",
       "       6.92081875, 5.6777807 , 4.95860692, 5.36653154, 4.30103   ,\n",
       "       5.20000024, 6.1426675 , 8.31875876, 8.13667714, 5.88605665,\n",
       "       5.43179828, 4.63827216, 6.82390874, 5.1739252 , 4.65757732,\n",
       "       4.30103   , 5.79669508, 5.4436975 , 5.35654732, 5.13076828,\n",
       "       5.69897   , 4.39999997, 6.16115091, 6.27572413, 5.21467017,\n",
       "       4.63638802, 5.25181197, 7.82102305, 6.39999691, 5.10000013,\n",
       "       4.61439373, 6.33724217, 4.52287874, 3.49034953, 5.56847542,\n",
       "       6.83564714, 4.63202328, 6.30103   , 4.92081875, 5.23426054,\n",
       "       5.        , 4.55284197, 4.82390874, 4.88941029, 4.56863624,\n",
       "       5.88605665, 5.        , 4.58502665, 5.65757732, 8.30103   ,\n",
       "       5.61978876, 5.36653154, 4.7447275 , 4.88734562, 5.54333037,\n",
       "       6.        , 4.95860732, 5.92081875, 5.28399666, 4.91009489,\n",
       "       5.69897   , 5.01772877, 4.85387196, 5.02687215, 5.50307035,\n",
       "       5.85387196, 6.1739252 , 4.98296666, 5.        , 4.85387196,\n",
       "       6.2999976 , 5.59999938, 4.88605665, 4.82390874, 5.37675071,\n",
       "       4.79588002, 4.85387196, 5.50863831, 5.03621217, 5.04575749,\n",
       "       4.69897   , 5.98716277, 5.43297363, 5.25414481, 5.2915791 ,\n",
       "       6.19044029, 5.46852108, 5.        , 4.98716277, 4.82973829,\n",
       "       4.65757732, 4.7619539 , 4.85387196, 6.40893539, 6.1426675 ,\n",
       "       5.14874165, 6.1426675 , 8.07058107, 5.29242982, 5.36653154,\n",
       "       4.63827216, 4.82390874, 4.7212464 , 6.30103   , 5.69897   ,\n",
       "       4.97061622, 5.21467017, 5.37675071, 5.3705904 , 5.29242982,\n",
       "       7.98296666, 4.77108659, 4.65188993, 5.85387196, 6.04575749,\n",
       "       6.33724217, 5.55284197, 5.55284197, 5.40000019, 5.92081875,\n",
       "       5.7212464 , 4.82973829, 7.52287874, 5.30103   , 5.1426675 ,\n",
       "       6.04575749, 6.55752023, 5.12016608, 4.90000014, 4.69897   ,\n",
       "       4.93930216, 5.13667714, 4.92081875, 6.        , 6.09999903,\n",
       "       5.59999938, 4.90000014, 5.        , 4.75448733, 5.26760624,\n",
       "       5.74843158, 5.2848239 , 5.21467017, 6.26666452, 5.3000002 ,\n",
       "       4.74232143, 4.69897   , 5.55284197, 6.76955108, 6.7212464 ,\n",
       "       4.95860692, 5.22092423, 6.65757732, 5.14325453, 8.76955108,\n",
       "       7.82390874, 6.98407302, 6.1426675 , 4.98716277, 5.48148606,\n",
       "       4.90692869, 6.73754891, 5.1739252 , 5.25181197, 4.92445304,\n",
       "       5.45593196, 5.92081875, 4.79588002, 5.45593196, 4.59006688,\n",
       "       4.5457416 , 6.22914799, 5.58502665, 6.31605287, 4.60000007,\n",
       "       4.83268267, 5.14630179, 4.9788107 , 5.61978876, 8.30715308,\n",
       "       5.49999968, 8.09691001, 5.68402965, 7.04575749])"
      ]
     },
     "execution_count": 21,
     "metadata": {},
     "output_type": "execute_result"
    }
   ],
   "source": [
    "y_test"
   ]
  },
  {
   "cell_type": "code",
   "execution_count": 22,
   "id": "3461f1b5",
   "metadata": {},
   "outputs": [
    {
     "data": {
      "text/plain": [
       "8"
      ]
     },
     "execution_count": 22,
     "metadata": {},
     "output_type": "execute_result"
    }
   ],
   "source": [
    "#Testing available drugs for toxicity\n",
    "test_smiles=['C1=NC2=C(N1)C(=S)N=CN2', 'CC(C)C(=O)NC1=CC(=C(C=C1)[N+](=O)[O-])C(F)(F)F', 'CCC(=O)N(C1CCN(CC1)CCC2=CC=CC=C2)C3=CC=CC=C3', 'C(CCl)NC(=O)N(CCCl)N=O', 'CN(CC1=CN=C2C(=N1)C(=NC(=N2)N)N)C3=CC=C(C=C3)C(=O)N[C@@H](CCC(=O)O)C(=O)O', 'C1=CC=C(C(=C1)C(C2=CC=C(C=C2)Cl)C(Cl)Cl)Cl', 'C1=C(C(=O)NC(=O)N1)F', 'COCCOC1=C(C=C2C(=C1)C(=NC=N2)NC3=CC=CC(=C3)C#C)OCCOC']\n",
    "len(test_smiles)"
   ]
  },
  {
   "cell_type": "code",
   "execution_count": 23,
   "id": "2f85c06b",
   "metadata": {},
   "outputs": [
    {
     "name": "stderr",
     "output_type": "stream",
     "text": [
      "C:\\Users\\OM\\anaconda3\\envs\\rdkit\\lib\\site-packages\\ipykernel_launcher.py:12: PerformanceWarning: DataFrame is highly fragmented.  This is usually the result of calling `frame.insert` many times, which has poor performance.  Consider joining all columns at once using pd.concat(axis=1) instead.  To get a de-fragmented frame, use `newframe = frame.copy()`\n",
      "  if sys.path[0] == '':\n"
     ]
    },
    {
     "data": {
      "text/plain": [
       "8"
      ]
     },
     "execution_count": 23,
     "metadata": {},
     "output_type": "execute_result"
    }
   ],
   "source": [
    "test_data=np.asarray(ECFP4(test_smiles))\n",
    "len(test_data)"
   ]
  },
  {
   "cell_type": "code",
   "execution_count": 24,
   "id": "79b08e70",
   "metadata": {},
   "outputs": [],
   "source": [
    "pred1=rfr.predict(test_data)"
   ]
  },
  {
   "cell_type": "code",
   "execution_count": 25,
   "id": "7842fd14",
   "metadata": {},
   "outputs": [
    {
     "data": {
      "text/plain": [
       "array([5.38816307, 4.88355121, 5.37310708, 5.16081328, 5.01243835,\n",
       "       5.48097653, 5.31095803, 6.17485557])"
      ]
     },
     "execution_count": 25,
     "metadata": {},
     "output_type": "execute_result"
    }
   ],
   "source": [
    "pred1"
   ]
  }
 ],
 "metadata": {
  "kernelspec": {
   "display_name": "Python 3 (ipykernel)",
   "language": "python",
   "name": "python3"
  },
  "language_info": {
   "codemirror_mode": {
    "name": "ipython",
    "version": 3
   },
   "file_extension": ".py",
   "mimetype": "text/x-python",
   "name": "python",
   "nbconvert_exporter": "python",
   "pygments_lexer": "ipython3",
   "version": "3.7.13"
  }
 },
 "nbformat": 4,
 "nbformat_minor": 5
}
