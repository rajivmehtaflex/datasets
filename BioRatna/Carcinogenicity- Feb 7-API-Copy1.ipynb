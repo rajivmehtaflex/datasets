{
 "cells": [
  {
   "cell_type": "code",
   "execution_count": 1,
   "id": "cd60674d",
   "metadata": {},
   "outputs": [],
   "source": [
    "import pandas as pd\n",
    "import numpy as np\n",
    "from sklearn.preprocessing import StandardScaler\n",
    "from sklearn.metrics import classification_report, accuracy_score, confusion_matrix\n",
    "from sklearn.model_selection import KFold, RepeatedKFold, StratifiedKFold\n",
    "from sklearn.model_selection import train_test_split\n",
    "from sklearn.ensemble import ExtraTreesClassifier, RandomForestClassifier\n",
    "from sklearn.svm import SVC\n",
    "from lightgbm import LGBMClassifier\n",
    "from sklearn.naive_bayes import GaussianNB\n",
    "import matplotlib.pyplot as plt\n",
    "from rdkit import Chem\n",
    "from rdkit.Chem import AllChem\n",
    "from rdkit.Chem import Descriptors\n",
    "from rdkit.ML.Descriptors import MoleculeDescriptors\n",
    "from sklearn.preprocessing import LabelBinarizer\n",
    "from collections import Counter\n",
    "from xgboost import XGBClassifier\n",
    "from imblearn.under_sampling import RandomUnderSampler"
   ]
  },
  {
   "cell_type": "code",
   "execution_count": 2,
   "id": "b397ed69",
   "metadata": {},
   "outputs": [],
   "source": [
    "def ECFP4(smiles):\n",
    "    target=[]\n",
    "    for smile in smiles:\n",
    "        c=Chem.MolFromSmiles(smile)\n",
    "        fp=AllChem.GetMorganFingerprintAsBitVect(c, 2, 1024)\n",
    "        fp=fp.ToBitString()\n",
    "        target.append(fp)\n",
    "#     print(len(target))\n",
    "    df7=pd.DataFrame()\n",
    "    df7['target']=target\n",
    "    for i in range(len(target[0])):\n",
    "        df7['B'+str(i)]=df7['target'].str[i]\n",
    "    df7=df7.drop('target', axis=1)\n",
    "    for cols in df7.columns:\n",
    "        df7[cols]=np.int64(df7[cols])\n",
    "    return df7"
   ]
  },
  {
   "cell_type": "code",
   "execution_count": 3,
   "id": "0bca90db",
   "metadata": {},
   "outputs": [],
   "source": [
    "def MACCS(smiles):\n",
    "    target=[]\n",
    "    for smile in smiles:\n",
    "        c=Chem.MolFromSmiles(smile)\n",
    "        fp=AllChem.GetMACCSKeysFingerprint(c)\n",
    "        fp=fp.ToBitString()\n",
    "        target.append(fp)\n",
    "#     print(len(target))\n",
    "    df7=pd.DataFrame()\n",
    "    df7['target']=target\n",
    "    for i in range(len(target[0])):\n",
    "        df7['B'+str(i)]=df7['target'].str[i]\n",
    "    df7=df7.drop('target', axis=1)\n",
    "    for cols in df7.columns:\n",
    "        df7[cols]=np.int64(df7[cols])\n",
    "    return df7"
   ]
  },
  {
   "cell_type": "code",
   "execution_count": 4,
   "id": "0f67fdfb",
   "metadata": {},
   "outputs": [
    {
     "data": {
      "text/html": [
       "<div>\n",
       "<style scoped>\n",
       "    .dataframe tbody tr th:only-of-type {\n",
       "        vertical-align: middle;\n",
       "    }\n",
       "\n",
       "    .dataframe tbody tr th {\n",
       "        vertical-align: top;\n",
       "    }\n",
       "\n",
       "    .dataframe thead th {\n",
       "        text-align: right;\n",
       "    }\n",
       "</style>\n",
       "<table border=\"1\" class=\"dataframe\">\n",
       "  <thead>\n",
       "    <tr style=\"text-align: right;\">\n",
       "      <th></th>\n",
       "      <th>Unnamed: 0</th>\n",
       "      <th>MOLECULES</th>\n",
       "      <th>OUTCOME</th>\n",
       "    </tr>\n",
       "  </thead>\n",
       "  <tbody>\n",
       "    <tr>\n",
       "      <th>0</th>\n",
       "      <td>0</td>\n",
       "      <td>CN1C(=O)CN=C(c2ccccc2)c2cc(Cl)ccc21</td>\n",
       "      <td>0</td>\n",
       "    </tr>\n",
       "    <tr>\n",
       "      <th>1</th>\n",
       "      <td>1</td>\n",
       "      <td>N#CSCc1ccccc1</td>\n",
       "      <td>0</td>\n",
       "    </tr>\n",
       "    <tr>\n",
       "      <th>2</th>\n",
       "      <td>2</td>\n",
       "      <td>O=NN1CC(O)CC1C(=O)O</td>\n",
       "      <td>0</td>\n",
       "    </tr>\n",
       "    <tr>\n",
       "      <th>3</th>\n",
       "      <td>3</td>\n",
       "      <td>Oc1c(Cl)cc(Cl)c(Cl)c1Cc1c(O)c(Cl)cc(Cl)c1Cl</td>\n",
       "      <td>0</td>\n",
       "    </tr>\n",
       "    <tr>\n",
       "      <th>4</th>\n",
       "      <td>4</td>\n",
       "      <td>O=C1Nc2ccc(Cl)cc2C(c2ccccc2)=NC1O</td>\n",
       "      <td>0</td>\n",
       "    </tr>\n",
       "  </tbody>\n",
       "</table>\n",
       "</div>"
      ],
      "text/plain": [
       "   Unnamed: 0                                    MOLECULES  OUTCOME\n",
       "0           0          CN1C(=O)CN=C(c2ccccc2)c2cc(Cl)ccc21        0\n",
       "1           1                                N#CSCc1ccccc1        0\n",
       "2           2                          O=NN1CC(O)CC1C(=O)O        0\n",
       "3           3  Oc1c(Cl)cc(Cl)c(Cl)c1Cc1c(O)c(Cl)cc(Cl)c1Cl        0\n",
       "4           4            O=C1Nc2ccc(Cl)cc2C(c2ccccc2)=NC1O        0"
      ]
     },
     "execution_count": 4,
     "metadata": {},
     "output_type": "execute_result"
    }
   ],
   "source": [
    "df=pd.read_csv('Carc_final_data.csv')\n",
    "df.head()"
   ]
  },
  {
   "cell_type": "code",
   "execution_count": 5,
   "id": "33ccf18d",
   "metadata": {},
   "outputs": [],
   "source": [
    "X=np.reshape(np.asarray(df['MOLECULES']), (-1,1))\n",
    "y=np.reshape(np.asarray(df['OUTCOME']), (-1,1))"
   ]
  },
  {
   "cell_type": "code",
   "execution_count": 6,
   "id": "3a47b305",
   "metadata": {},
   "outputs": [],
   "source": [
    "rus=RandomUnderSampler()"
   ]
  },
  {
   "cell_type": "code",
   "execution_count": 7,
   "id": "79084dd3",
   "metadata": {},
   "outputs": [],
   "source": [
    "X_new, y_new=rus.fit_resample(X, y)"
   ]
  },
  {
   "cell_type": "code",
   "execution_count": 8,
   "id": "edefb886",
   "metadata": {},
   "outputs": [],
   "source": [
    "X_new=X_new.flatten()\n",
    "y_new=y_new.flatten()"
   ]
  },
  {
   "cell_type": "code",
   "execution_count": 9,
   "id": "2bef2dfd",
   "metadata": {},
   "outputs": [
    {
     "name": "stderr",
     "output_type": "stream",
     "text": [
      "C:\\Users\\OM\\anaconda3\\envs\\rdkit\\lib\\site-packages\\ipykernel_launcher.py:12: PerformanceWarning: DataFrame is highly fragmented.  This is usually the result of calling `frame.insert` many times, which has poor performance.  Consider joining all columns at once using pd.concat(axis=1) instead.  To get a de-fragmented frame, use `newframe = frame.copy()`\n",
      "  if sys.path[0] == '':\n"
     ]
    },
    {
     "data": {
      "text/plain": [
       "(1636, 1636)"
      ]
     },
     "execution_count": 9,
     "metadata": {},
     "output_type": "execute_result"
    }
   ],
   "source": [
    "X=np.asarray(MACCS(X_new))\n",
    "y=np.asarray(y_new)\n",
    "\n",
    "len(X), len(y)\n"
   ]
  },
  {
   "cell_type": "code",
   "execution_count": 10,
   "id": "bd7dab8b",
   "metadata": {},
   "outputs": [],
   "source": [
    "svc=SVC()"
   ]
  },
  {
   "cell_type": "code",
   "execution_count": 11,
   "id": "b72b9e5b",
   "metadata": {},
   "outputs": [],
   "source": [
    "import tensorflow as tf"
   ]
  },
  {
   "cell_type": "code",
   "execution_count": 12,
   "id": "52487d73",
   "metadata": {},
   "outputs": [
    {
     "data": {
      "text/plain": [
       "((1636, 167), (1636,))"
      ]
     },
     "execution_count": 12,
     "metadata": {},
     "output_type": "execute_result"
    }
   ],
   "source": [
    "X.shape, y.shape"
   ]
  },
  {
   "cell_type": "code",
   "execution_count": 28,
   "id": "8a5fb50a",
   "metadata": {},
   "outputs": [],
   "source": [
    "from tensorflow.keras.layers import Dense, Dropout, LSTM\n",
    "from tensorflow.keras.models import Sequential\n",
    "# from tensorflow.keras.optimizer import Adam"
   ]
  },
  {
   "cell_type": "code",
   "execution_count": 14,
   "id": "dee015f5",
   "metadata": {},
   "outputs": [
    {
     "name": "stdout",
     "output_type": "stream",
     "text": [
      "Model: \"sequential\"\n",
      "_________________________________________________________________\n",
      " Layer (type)                Output Shape              Param #   \n",
      "=================================================================\n",
      " dense (Dense)               (None, 512)               86016     \n",
      "                                                                 \n",
      " dropout (Dropout)           (None, 512)               0         \n",
      "                                                                 \n",
      " dense_1 (Dense)             (None, 128)               65664     \n",
      "                                                                 \n",
      " dense_2 (Dense)             (None, 1)                 129       \n",
      "                                                                 \n",
      "=================================================================\n",
      "Total params: 151,809\n",
      "Trainable params: 151,809\n",
      "Non-trainable params: 0\n",
      "_________________________________________________________________\n"
     ]
    }
   ],
   "source": [
    "model=Sequential()\n",
    "model.add(Dense(512, input_dim=167))\n",
    "model.add(Dropout(0.2))\n",
    "\n",
    "model.add(Dense(128))\n",
    "model.add(Dense(1, activation='linear'))\n",
    "\n",
    "model.summary()"
   ]
  },
  {
   "cell_type": "code",
   "execution_count": 25,
   "id": "8cc64f9e",
   "metadata": {},
   "outputs": [
    {
     "name": "stderr",
     "output_type": "stream",
     "text": [
      "WARNING:absl:`lr` is deprecated, please use `learning_rate` instead, or use the legacy optimizer, e.g.,tf.keras.optimizers.legacy.Adam.\n"
     ]
    }
   ],
   "source": [
    "optimizer = tf.keras.optimizers.Adam(lr=0.01)"
   ]
  },
  {
   "cell_type": "code",
   "execution_count": 29,
   "id": "57e71bcd",
   "metadata": {},
   "outputs": [],
   "source": [
    "model.compile(optimizer=optimizer, loss='mse', metrics=['mse', 'mae', 'acc'])"
   ]
  },
  {
   "cell_type": "code",
   "execution_count": 16,
   "id": "8837465d",
   "metadata": {},
   "outputs": [],
   "source": [
    "X_train, X_test, y_train, y_test = train_test_split(X, y, test_size=0.20, random_state=101)"
   ]
  },
  {
   "cell_type": "code",
   "execution_count": 30,
   "id": "67354dee",
   "metadata": {},
   "outputs": [
    {
     "name": "stdout",
     "output_type": "stream",
     "text": [
      "Epoch 1/50\n",
      "29/29 [==============================] - 2s 21ms/step - loss: 0.1023 - mse: 0.1023 - mae: 0.2506 - acc: 0.8710 - val_loss: 0.1639 - val_mse: 0.1639 - val_mae: 0.3162 - val_acc: 0.7837\n",
      "Epoch 2/50\n",
      "29/29 [==============================] - 0s 7ms/step - loss: 0.1043 - mse: 0.1043 - mae: 0.2540 - acc: 0.8732 - val_loss: 0.1607 - val_mse: 0.1607 - val_mae: 0.3162 - val_acc: 0.7913\n",
      "Epoch 3/50\n",
      "29/29 [==============================] - 0s 8ms/step - loss: 0.1036 - mse: 0.1036 - mae: 0.2532 - acc: 0.8689 - val_loss: 0.1669 - val_mse: 0.1669 - val_mae: 0.3278 - val_acc: 0.7812\n",
      "Epoch 4/50\n",
      "29/29 [==============================] - 0s 7ms/step - loss: 0.1076 - mse: 0.1076 - mae: 0.2619 - acc: 0.8721 - val_loss: 0.1577 - val_mse: 0.1577 - val_mae: 0.3149 - val_acc: 0.7786\n",
      "Epoch 5/50\n",
      "29/29 [==============================] - 0s 7ms/step - loss: 0.1017 - mse: 0.1017 - mae: 0.2480 - acc: 0.8787 - val_loss: 0.1684 - val_mse: 0.1684 - val_mae: 0.3190 - val_acc: 0.7812\n",
      "Epoch 6/50\n",
      "29/29 [==============================] - 0s 7ms/step - loss: 0.1030 - mse: 0.1030 - mae: 0.2515 - acc: 0.8831 - val_loss: 0.1648 - val_mse: 0.1648 - val_mae: 0.3208 - val_acc: 0.7837\n",
      "Epoch 7/50\n",
      "29/29 [==============================] - 0s 7ms/step - loss: 0.1036 - mse: 0.1036 - mae: 0.2543 - acc: 0.8765 - val_loss: 0.1598 - val_mse: 0.1598 - val_mae: 0.3143 - val_acc: 0.7888\n",
      "Epoch 8/50\n",
      "29/29 [==============================] - 0s 7ms/step - loss: 0.1034 - mse: 0.1034 - mae: 0.2545 - acc: 0.8809 - val_loss: 0.1667 - val_mse: 0.1667 - val_mae: 0.3245 - val_acc: 0.7913\n",
      "Epoch 9/50\n",
      "29/29 [==============================] - 0s 7ms/step - loss: 0.1033 - mse: 0.1033 - mae: 0.2536 - acc: 0.8710 - val_loss: 0.1676 - val_mse: 0.1676 - val_mae: 0.3168 - val_acc: 0.7710\n",
      "Epoch 10/50\n",
      "29/29 [==============================] - 0s 7ms/step - loss: 0.1009 - mse: 0.1009 - mae: 0.2490 - acc: 0.8743 - val_loss: 0.1643 - val_mse: 0.1643 - val_mae: 0.3146 - val_acc: 0.7990\n",
      "Epoch 11/50\n",
      "29/29 [==============================] - 0s 7ms/step - loss: 0.1025 - mse: 0.1025 - mae: 0.2506 - acc: 0.8699 - val_loss: 0.1603 - val_mse: 0.1603 - val_mae: 0.3178 - val_acc: 0.7863\n",
      "Epoch 12/50\n",
      "29/29 [==============================] - 0s 7ms/step - loss: 0.1015 - mse: 0.1015 - mae: 0.2486 - acc: 0.8743 - val_loss: 0.1573 - val_mse: 0.1573 - val_mae: 0.3118 - val_acc: 0.7964\n",
      "Epoch 13/50\n",
      "29/29 [==============================] - 0s 8ms/step - loss: 0.1011 - mse: 0.1011 - mae: 0.2497 - acc: 0.8776 - val_loss: 0.1595 - val_mse: 0.1595 - val_mae: 0.3147 - val_acc: 0.7888\n",
      "Epoch 14/50\n",
      "29/29 [==============================] - 0s 10ms/step - loss: 0.1017 - mse: 0.1017 - mae: 0.2507 - acc: 0.8743 - val_loss: 0.1626 - val_mse: 0.1626 - val_mae: 0.3228 - val_acc: 0.8066\n",
      "Epoch 15/50\n",
      "29/29 [==============================] - 0s 10ms/step - loss: 0.1008 - mse: 0.1008 - mae: 0.2485 - acc: 0.8743 - val_loss: 0.1599 - val_mse: 0.1599 - val_mae: 0.3157 - val_acc: 0.7913\n",
      "Epoch 16/50\n",
      "29/29 [==============================] - 0s 10ms/step - loss: 0.1016 - mse: 0.1016 - mae: 0.2490 - acc: 0.8820 - val_loss: 0.1616 - val_mse: 0.1616 - val_mae: 0.3190 - val_acc: 0.7913\n",
      "Epoch 17/50\n",
      "29/29 [==============================] - 0s 8ms/step - loss: 0.1021 - mse: 0.1021 - mae: 0.2501 - acc: 0.8656 - val_loss: 0.1710 - val_mse: 0.1710 - val_mae: 0.3224 - val_acc: 0.7863\n",
      "Epoch 18/50\n",
      "29/29 [==============================] - 0s 10ms/step - loss: 0.1035 - mse: 0.1035 - mae: 0.2542 - acc: 0.8842 - val_loss: 0.1594 - val_mse: 0.1594 - val_mae: 0.3120 - val_acc: 0.7990\n",
      "Epoch 19/50\n",
      "29/29 [==============================] - 0s 8ms/step - loss: 0.0992 - mse: 0.0992 - mae: 0.2458 - acc: 0.8809 - val_loss: 0.1671 - val_mse: 0.1671 - val_mae: 0.3201 - val_acc: 0.7939\n",
      "Epoch 20/50\n",
      "29/29 [==============================] - 0s 10ms/step - loss: 0.1013 - mse: 0.1013 - mae: 0.2505 - acc: 0.8863 - val_loss: 0.1634 - val_mse: 0.1634 - val_mae: 0.3166 - val_acc: 0.7939\n",
      "Epoch 21/50\n",
      "29/29 [==============================] - 0s 8ms/step - loss: 0.1002 - mse: 0.1002 - mae: 0.2482 - acc: 0.8776 - val_loss: 0.1675 - val_mse: 0.1675 - val_mae: 0.3192 - val_acc: 0.7710\n",
      "Epoch 22/50\n",
      "29/29 [==============================] - 0s 10ms/step - loss: 0.0998 - mse: 0.0998 - mae: 0.2462 - acc: 0.8776 - val_loss: 0.1706 - val_mse: 0.1706 - val_mae: 0.3182 - val_acc: 0.7863\n",
      "Epoch 23/50\n",
      "29/29 [==============================] - 0s 10ms/step - loss: 0.0984 - mse: 0.0984 - mae: 0.2470 - acc: 0.8852 - val_loss: 0.1692 - val_mse: 0.1692 - val_mae: 0.3200 - val_acc: 0.7684\n",
      "Epoch 24/50\n",
      "29/29 [==============================] - 0s 8ms/step - loss: 0.1008 - mse: 0.1008 - mae: 0.2495 - acc: 0.8787 - val_loss: 0.1629 - val_mse: 0.1629 - val_mae: 0.3201 - val_acc: 0.7888\n",
      "Epoch 25/50\n",
      "29/29 [==============================] - 0s 11ms/step - loss: 0.0986 - mse: 0.0986 - mae: 0.2463 - acc: 0.8842 - val_loss: 0.1656 - val_mse: 0.1656 - val_mae: 0.3213 - val_acc: 0.7964\n",
      "Epoch 26/50\n",
      "29/29 [==============================] - 0s 10ms/step - loss: 0.1000 - mse: 0.1000 - mae: 0.2453 - acc: 0.8754 - val_loss: 0.1675 - val_mse: 0.1675 - val_mae: 0.3234 - val_acc: 0.8015\n",
      "Epoch 27/50\n",
      "29/29 [==============================] - 0s 9ms/step - loss: 0.0982 - mse: 0.0982 - mae: 0.2448 - acc: 0.8820 - val_loss: 0.1668 - val_mse: 0.1668 - val_mae: 0.3180 - val_acc: 0.7888\n",
      "Epoch 28/50\n",
      "29/29 [==============================] - 0s 11ms/step - loss: 0.1003 - mse: 0.1003 - mae: 0.2471 - acc: 0.8754 - val_loss: 0.1714 - val_mse: 0.1714 - val_mae: 0.3232 - val_acc: 0.8015\n",
      "Epoch 29/50\n",
      "29/29 [==============================] - 0s 9ms/step - loss: 0.1035 - mse: 0.1035 - mae: 0.2529 - acc: 0.8809 - val_loss: 0.1614 - val_mse: 0.1614 - val_mae: 0.3224 - val_acc: 0.7939\n",
      "Epoch 30/50\n",
      "29/29 [==============================] - 0s 9ms/step - loss: 0.1018 - mse: 0.1018 - mae: 0.2532 - acc: 0.8754 - val_loss: 0.1601 - val_mse: 0.1601 - val_mae: 0.3156 - val_acc: 0.7990\n",
      "Epoch 31/50\n",
      "29/29 [==============================] - 0s 11ms/step - loss: 0.0986 - mse: 0.0986 - mae: 0.2471 - acc: 0.8765 - val_loss: 0.1658 - val_mse: 0.1658 - val_mae: 0.3140 - val_acc: 0.7786\n",
      "Epoch 32/50\n",
      "29/29 [==============================] - 0s 11ms/step - loss: 0.1007 - mse: 0.1007 - mae: 0.2485 - acc: 0.8787 - val_loss: 0.1679 - val_mse: 0.1679 - val_mae: 0.3171 - val_acc: 0.7939\n",
      "Epoch 33/50\n",
      "29/29 [==============================] - 0s 10ms/step - loss: 0.1042 - mse: 0.1042 - mae: 0.2583 - acc: 0.8743 - val_loss: 0.1759 - val_mse: 0.1759 - val_mae: 0.3297 - val_acc: 0.7863\n",
      "Epoch 34/50\n",
      "29/29 [==============================] - 0s 10ms/step - loss: 0.0976 - mse: 0.0976 - mae: 0.2450 - acc: 0.8863 - val_loss: 0.1645 - val_mse: 0.1645 - val_mae: 0.3164 - val_acc: 0.7786\n",
      "Epoch 35/50\n",
      "29/29 [==============================] - 0s 8ms/step - loss: 0.0994 - mse: 0.0994 - mae: 0.2441 - acc: 0.8809 - val_loss: 0.1631 - val_mse: 0.1631 - val_mae: 0.3179 - val_acc: 0.7888\n",
      "Epoch 36/50\n",
      "29/29 [==============================] - 0s 7ms/step - loss: 0.0986 - mse: 0.0986 - mae: 0.2453 - acc: 0.8776 - val_loss: 0.1609 - val_mse: 0.1609 - val_mae: 0.3146 - val_acc: 0.8015\n",
      "Epoch 37/50\n",
      "29/29 [==============================] - 0s 7ms/step - loss: 0.0981 - mse: 0.0981 - mae: 0.2472 - acc: 0.8874 - val_loss: 0.1655 - val_mse: 0.1655 - val_mae: 0.3211 - val_acc: 0.7863\n",
      "Epoch 38/50\n",
      "29/29 [==============================] - 0s 7ms/step - loss: 0.1057 - mse: 0.1057 - mae: 0.2568 - acc: 0.8776 - val_loss: 0.1610 - val_mse: 0.1610 - val_mae: 0.3166 - val_acc: 0.7863\n",
      "Epoch 39/50\n",
      "29/29 [==============================] - 0s 8ms/step - loss: 0.0974 - mse: 0.0974 - mae: 0.2437 - acc: 0.8776 - val_loss: 0.1589 - val_mse: 0.1589 - val_mae: 0.3115 - val_acc: 0.7939\n",
      "Epoch 40/50\n",
      "29/29 [==============================] - 0s 8ms/step - loss: 0.0992 - mse: 0.0992 - mae: 0.2447 - acc: 0.8765 - val_loss: 0.1678 - val_mse: 0.1678 - val_mae: 0.3215 - val_acc: 0.7939\n",
      "Epoch 41/50\n",
      "29/29 [==============================] - 0s 10ms/step - loss: 0.0976 - mse: 0.0976 - mae: 0.2436 - acc: 0.8798 - val_loss: 0.1723 - val_mse: 0.1723 - val_mae: 0.3238 - val_acc: 0.7837\n",
      "Epoch 42/50\n",
      "29/29 [==============================] - 0s 9ms/step - loss: 0.0993 - mse: 0.0993 - mae: 0.2463 - acc: 0.8820 - val_loss: 0.1636 - val_mse: 0.1636 - val_mae: 0.3165 - val_acc: 0.7913\n"
     ]
    },
    {
     "name": "stdout",
     "output_type": "stream",
     "text": [
      "Epoch 43/50\n",
      "29/29 [==============================] - 0s 9ms/step - loss: 0.1030 - mse: 0.1030 - mae: 0.2508 - acc: 0.8852 - val_loss: 0.1631 - val_mse: 0.1631 - val_mae: 0.3142 - val_acc: 0.7913\n",
      "Epoch 44/50\n",
      "29/29 [==============================] - 0s 9ms/step - loss: 0.0977 - mse: 0.0977 - mae: 0.2452 - acc: 0.8852 - val_loss: 0.1666 - val_mse: 0.1666 - val_mae: 0.3161 - val_acc: 0.7964\n",
      "Epoch 45/50\n",
      "29/29 [==============================] - 0s 8ms/step - loss: 0.0971 - mse: 0.0971 - mae: 0.2459 - acc: 0.8798 - val_loss: 0.1604 - val_mse: 0.1604 - val_mae: 0.3130 - val_acc: 0.7888\n",
      "Epoch 46/50\n",
      "29/29 [==============================] - 0s 10ms/step - loss: 0.0999 - mse: 0.0999 - mae: 0.2474 - acc: 0.8732 - val_loss: 0.1587 - val_mse: 0.1587 - val_mae: 0.3145 - val_acc: 0.7913\n",
      "Epoch 47/50\n",
      "29/29 [==============================] - 0s 9ms/step - loss: 0.0994 - mse: 0.0994 - mae: 0.2484 - acc: 0.8831 - val_loss: 0.1640 - val_mse: 0.1640 - val_mae: 0.3152 - val_acc: 0.7735\n",
      "Epoch 48/50\n",
      "29/29 [==============================] - 0s 11ms/step - loss: 0.0999 - mse: 0.0999 - mae: 0.2485 - acc: 0.8754 - val_loss: 0.1648 - val_mse: 0.1648 - val_mae: 0.3176 - val_acc: 0.7990\n",
      "Epoch 49/50\n",
      "29/29 [==============================] - 0s 7ms/step - loss: 0.1026 - mse: 0.1026 - mae: 0.2501 - acc: 0.8710 - val_loss: 0.1632 - val_mse: 0.1632 - val_mae: 0.3187 - val_acc: 0.7939\n",
      "Epoch 50/50\n",
      "29/29 [==============================] - 0s 7ms/step - loss: 0.0971 - mse: 0.0971 - mae: 0.2441 - acc: 0.8842 - val_loss: 0.1572 - val_mse: 0.1572 - val_mae: 0.3107 - val_acc: 0.8066\n"
     ]
    }
   ],
   "source": [
    "history=model.fit(X_train, y_train, epochs=50, verbose=1, validation_split=0.30)"
   ]
  },
  {
   "cell_type": "code",
   "execution_count": 80,
   "id": "e129122a",
   "metadata": {},
   "outputs": [
    {
     "name": "stdout",
     "output_type": "stream",
     "text": [
      "0.1008693191409111\n"
     ]
    }
   ],
   "source": [
    "print(np.mean(history.history[\"loss\"]))"
   ]
  },
  {
   "cell_type": "code",
   "execution_count": 32,
   "id": "6665bc23",
   "metadata": {},
   "outputs": [
    {
     "data": {
      "text/plain": [
       "[]"
      ]
     },
     "execution_count": 32,
     "metadata": {},
     "output_type": "execute_result"
    },
    {
     "data": {
      "image/png": "[encoded data removed]",
      "text/plain": [
       "<Figure size 432x288 with 1 Axes>"
      ]
     },
     "metadata": {
      "needs_background": "light"
     },
     "output_type": "display_data"
    }
   ],
   "source": [
    "loss_train=history.history[\"loss\"]\n",
    "val_loss=history.history[\"val_loss\"]\n",
    "epochs=range(1,51)\n",
    "plt.plot(epochs,loss_train,'g',label='Training loss')\n",
    "plt.plot(epochs, val_loss, 'b',label='Validation loss')\n",
    "plt.xlabel('Epochs')\n",
    "plt.ylabel('Loss')\n",
    "plt.legend()\n",
    "plt.plot()"
   ]
  },
  {
   "cell_type": "code",
   "execution_count": null,
   "id": "bb9bac50",
   "metadata": {},
   "outputs": [],
   "source": []
  },
  {
   "cell_type": "code",
   "execution_count": 38,
   "id": "14c44c58",
   "metadata": {},
   "outputs": [
    {
     "data": {
      "text/plain": [
       "(328, 167)"
      ]
     },
     "execution_count": 38,
     "metadata": {},
     "output_type": "execute_result"
    }
   ],
   "source": [
    "X_test.shape"
   ]
  },
  {
   "cell_type": "code",
   "execution_count": 36,
   "id": "b16f6c13",
   "metadata": {},
   "outputs": [
    {
     "data": {
      "text/plain": [
       "(1, 1308, 167)"
      ]
     },
     "execution_count": 36,
     "metadata": {},
     "output_type": "execute_result"
    }
   ],
   "source": [
    "X_train_reshape=np.reshape(X_train, (-1,1308, 167))\n",
    "X_train_reshape.shape"
   ]
  },
  {
   "cell_type": "code",
   "execution_count": 39,
   "id": "70bcaf5b",
   "metadata": {},
   "outputs": [
    {
     "data": {
      "text/plain": [
       "(1, 328, 167)"
      ]
     },
     "execution_count": 39,
     "metadata": {},
     "output_type": "execute_result"
    }
   ],
   "source": [
    "X_test_reshape=np.reshape(X_test, (-1,328, 167))\n",
    "X_test_reshape.shape"
   ]
  },
  {
   "cell_type": "code",
   "execution_count": 42,
   "id": "4233b762",
   "metadata": {},
   "outputs": [
    {
     "data": {
      "text/plain": [
       "(1, 1308)"
      ]
     },
     "execution_count": 42,
     "metadata": {},
     "output_type": "execute_result"
    }
   ],
   "source": [
    "y_train_reshape=np.reshape(y_train, (1,-1))\n",
    "y_train_reshape.shape"
   ]
  },
  {
   "cell_type": "code",
   "execution_count": 43,
   "id": "391d9af8",
   "metadata": {},
   "outputs": [
    {
     "data": {
      "text/plain": [
       "(1, 328)"
      ]
     },
     "execution_count": 43,
     "metadata": {},
     "output_type": "execute_result"
    }
   ],
   "source": [
    "y_test_reshape=np.reshape(y_test, (1, -1))\n",
    "y_test_reshape.shape"
   ]
  },
  {
   "cell_type": "code",
   "execution_count": 51,
   "id": "08e5edb1",
   "metadata": {},
   "outputs": [
    {
     "data": {
      "text/plain": [
       "(167,)"
      ]
     },
     "execution_count": 51,
     "metadata": {},
     "output_type": "execute_result"
    }
   ],
   "source": [
    "X.shape[1:]"
   ]
  },
  {
   "cell_type": "code",
   "execution_count": 33,
   "id": "e7e512fe",
   "metadata": {},
   "outputs": [
    {
     "data": {
      "text/plain": [
       "(1308, 167)"
      ]
     },
     "execution_count": 33,
     "metadata": {},
     "output_type": "execute_result"
    }
   ],
   "source": [
    "X_train.shape"
   ]
  },
  {
   "cell_type": "code",
   "execution_count": 31,
   "id": "7044d9c3",
   "metadata": {},
   "outputs": [],
   "source": [
    "model1=Sequential()"
   ]
  },
  {
   "cell_type": "code",
   "execution_count": 61,
   "id": "77bbfc63",
   "metadata": {},
   "outputs": [
    {
     "data": {
      "text/plain": [
       "(167, 167)"
      ]
     },
     "execution_count": 61,
     "metadata": {},
     "output_type": "execute_result"
    }
   ],
   "source": [
    "X_train.shape[1], X_train.shape[-1]"
   ]
  },
  {
   "cell_type": "code",
   "execution_count": 77,
   "id": "aebcf030",
   "metadata": {},
   "outputs": [],
   "source": [
    "model1 = Sequential()\n",
    "model1.add(LSTM(64,return_sequences=True, input_shape=(1308,167)))\n",
    "model1.add(Dropout(0.5))\n",
    "model1.add(LSTM(20,return_sequences=False))\n",
    "model1.add(Dropout(0.5))\n",
    "model1.add(Dense(1))\n",
    "model1.compile(loss='mse', optimizer='adam', metrics=['mse', 'mae', 'acc'])"
   ]
  },
  {
   "cell_type": "code",
   "execution_count": 74,
   "id": "f1a77d05",
   "metadata": {},
   "outputs": [
    {
     "name": "stdout",
     "output_type": "stream",
     "text": [
      "Model: \"sequential_6\"\n",
      "_________________________________________________________________\n",
      " Layer (type)                Output Shape              Param #   \n",
      "=================================================================\n",
      " lstm_22 (LSTM)              (None, 167, 1308)         7722432   \n",
      "                                                                 \n",
      " dense_39 (Dense)            (None, 167, 64)           83776     \n",
      "                                                                 \n",
      " dense_40 (Dense)            (None, 167, 1)            65        \n",
      "                                                                 \n",
      "=================================================================\n",
      "Total params: 7,806,273\n",
      "Trainable params: 7,806,273\n",
      "Non-trainable params: 0\n",
      "_________________________________________________________________\n"
     ]
    }
   ],
   "source": [
    "model1=Sequential()\n",
    "model1.add(LSTM(1308, return_sequences=True, input_shape=(X_train.shape[1], X_train.shape[-1])))\n",
    "model1.add(Dense(64))\n",
    "model1.add(Dense(1, activation='linear'))\n",
    "\n",
    "model1.summary()"
   ]
  },
  {
   "cell_type": "code",
   "execution_count": 75,
   "id": "b3ab343f",
   "metadata": {},
   "outputs": [],
   "source": [
    "model1.compile(loss='mse', optimizer='adam', metrics=['mse', 'mae', 'acc'])"
   ]
  },
  {
   "cell_type": "code",
   "execution_count": 82,
   "id": "be996022",
   "metadata": {},
   "outputs": [
    {
     "name": "stdout",
     "output_type": "stream",
     "text": [
      "Epoch 1/30\n",
      "1/1 [==============================] - 1s 802ms/step - loss: 0.2926 - mse: 0.2926 - mae: 0.5003 - acc: 0.4992\n",
      "Epoch 2/30\n",
      "1/1 [==============================] - 1s 894ms/step - loss: 0.2606 - mse: 0.2606 - mae: 0.5002 - acc: 0.4992\n",
      "Epoch 3/30\n",
      "1/1 [==============================] - 1s 856ms/step - loss: 0.2644 - mse: 0.2644 - mae: 0.5002 - acc: 0.4992\n",
      "Epoch 4/30\n",
      "1/1 [==============================] - 1s 770ms/step - loss: 0.2562 - mse: 0.2562 - mae: 0.5001 - acc: 0.4992\n",
      "Epoch 5/30\n",
      "1/1 [==============================] - 1s 810ms/step - loss: 0.4794 - mse: 0.4794 - mae: 0.4993 - acc: 0.5008\n",
      "Epoch 6/30\n",
      "1/1 [==============================] - 1s 788ms/step - loss: 0.2584 - mse: 0.2584 - mae: 0.5001 - acc: 0.4992\n",
      "Epoch 7/30\n",
      "1/1 [==============================] - 1s 808ms/step - loss: 0.3445 - mse: 0.3445 - mae: 0.5005 - acc: 0.4992\n",
      "Epoch 8/30\n",
      "1/1 [==============================] - 1s 782ms/step - loss: 0.4410 - mse: 0.4410 - mae: 0.4993 - acc: 0.5008\n",
      "Epoch 9/30\n",
      "1/1 [==============================] - 1s 780ms/step - loss: 0.2544 - mse: 0.2544 - mae: 0.5001 - acc: 0.4992\n",
      "Epoch 10/30\n",
      "1/1 [==============================] - 1s 942ms/step - loss: 0.2735 - mse: 0.2735 - mae: 0.5002 - acc: 0.4992\n",
      "Epoch 11/30\n",
      "1/1 [==============================] - 1s 945ms/step - loss: 0.4398 - mse: 0.4398 - mae: 0.4993 - acc: 0.5008\n",
      "Epoch 12/30\n",
      "1/1 [==============================] - 1s 931ms/step - loss: 0.2626 - mse: 0.2626 - mae: 0.5002 - acc: 0.4992\n",
      "Epoch 13/30\n",
      "1/1 [==============================] - 1s 938ms/step - loss: 0.2546 - mse: 0.2546 - mae: 0.4999 - acc: 0.5008\n",
      "Epoch 14/30\n",
      "1/1 [==============================] - 1s 866ms/step - loss: 0.3319 - mse: 0.3319 - mae: 0.4996 - acc: 0.5008\n",
      "Epoch 15/30\n",
      "1/1 [==============================] - 1s 774ms/step - loss: 0.4059 - mse: 0.4059 - mae: 0.5006 - acc: 0.4992\n",
      "Epoch 16/30\n",
      "1/1 [==============================] - 1s 863ms/step - loss: 0.3088 - mse: 0.3088 - mae: 0.5004 - acc: 0.4992\n",
      "Epoch 17/30\n",
      "1/1 [==============================] - 1s 839ms/step - loss: 0.3944 - mse: 0.3944 - mae: 0.5006 - acc: 0.4992\n",
      "Epoch 18/30\n",
      "1/1 [==============================] - 1s 799ms/step - loss: 0.3097 - mse: 0.3097 - mae: 0.5004 - acc: 0.4992\n",
      "Epoch 19/30\n",
      "1/1 [==============================] - 1s 739ms/step - loss: 0.3240 - mse: 0.3240 - mae: 0.5004 - acc: 0.4992\n",
      "Epoch 20/30\n",
      "1/1 [==============================] - 1s 764ms/step - loss: 0.2857 - mse: 0.2857 - mae: 0.5003 - acc: 0.4992\n",
      "Epoch 21/30\n",
      "1/1 [==============================] - 1s 751ms/step - loss: 0.3098 - mse: 0.3098 - mae: 0.4996 - acc: 0.5008\n",
      "Epoch 22/30\n",
      "1/1 [==============================] - 1s 758ms/step - loss: 0.2726 - mse: 0.2726 - mae: 0.5002 - acc: 0.4992\n",
      "Epoch 23/30\n",
      "1/1 [==============================] - 1s 757ms/step - loss: 0.2500 - mse: 0.2500 - mae: 0.5000 - acc: 0.4992\n",
      "Epoch 24/30\n",
      "1/1 [==============================] - 1s 736ms/step - loss: 0.3591 - mse: 0.3591 - mae: 0.5005 - acc: 0.4992\n",
      "Epoch 25/30\n",
      "1/1 [==============================] - 1s 752ms/step - loss: 0.2526 - mse: 0.2526 - mae: 0.5001 - acc: 0.4992\n",
      "Epoch 26/30\n",
      "1/1 [==============================] - 1s 759ms/step - loss: 0.2709 - mse: 0.2709 - mae: 0.5002 - acc: 0.4992\n",
      "Epoch 27/30\n",
      "1/1 [==============================] - 1s 798ms/step - loss: 0.6125 - mse: 0.6125 - mae: 0.6021 - acc: 0.5008\n",
      "Epoch 28/30\n",
      "1/1 [==============================] - 1s 842ms/step - loss: 0.4016 - mse: 0.4016 - mae: 0.4994 - acc: 0.5008\n",
      "Epoch 29/30\n",
      "1/1 [==============================] - 1s 877ms/step - loss: 0.2736 - mse: 0.2736 - mae: 0.5002 - acc: 0.4992\n",
      "Epoch 30/30\n",
      "1/1 [==============================] - 1s 915ms/step - loss: 0.2683 - mse: 0.2683 - mae: 0.4998 - acc: 0.5008\n"
     ]
    }
   ],
   "source": [
    "history1=model1.fit(X_train_reshape, y_train_reshape, epochs=30, verbose=1)"
   ]
  },
  {
   "cell_type": "code",
   "execution_count": 67,
   "id": "25665747",
   "metadata": {},
   "outputs": [
    {
     "name": "stdout",
     "output_type": "stream",
     "text": [
      "Model: \"sequential_4\"\n",
      "_________________________________________________________________\n",
      " Layer (type)                Output Shape              Param #   \n",
      "=================================================================\n",
      " lstm_18 (LSTM)              (None, 167, 64)           59392     \n",
      "                                                                 \n",
      " dropout_5 (Dropout)         (None, 167, 64)           0         \n",
      "                                                                 \n",
      " lstm_19 (LSTM)              (None, 20)                6800      \n",
      "                                                                 \n",
      " dropout_6 (Dropout)         (None, 20)                0         \n",
      "                                                                 \n",
      " dense_36 (Dense)            (None, 1)                 21        \n",
      "                                                                 \n",
      "=================================================================\n",
      "Total params: 66,213\n",
      "Trainable params: 66,213\n",
      "Non-trainable params: 0\n",
      "_________________________________________________________________\n"
     ]
    }
   ],
   "source": [
    "model1.summary()"
   ]
  },
  {
   "cell_type": "code",
   "execution_count": null,
   "id": "5acbabd5",
   "metadata": {},
   "outputs": [],
   "source": []
  },
  {
   "cell_type": "code",
   "execution_count": 11,
   "id": "59af3080",
   "metadata": {},
   "outputs": [],
   "source": [
    "cv=StratifiedKFold(n_splits=15, shuffle=True, random_state=42)"
   ]
  },
  {
   "cell_type": "code",
   "execution_count": 12,
   "id": "c7e4ce00",
   "metadata": {},
   "outputs": [
    {
     "name": "stdout",
     "output_type": "stream",
     "text": [
      "0.918086500655308\n",
      "0.9\n",
      "[[53  2]\n",
      " [ 9 46]]\n",
      "0.9233791748526523\n",
      "0.908256880733945\n",
      "[[50  5]\n",
      " [ 5 49]]\n",
      "0.9246889325474787\n",
      "0.8623853211009175\n",
      "[[51  4]\n",
      " [11 43]]\n",
      "0.9220694171578258\n",
      "0.8807339449541285\n",
      "[[48  7]\n",
      " [ 6 48]]\n",
      "0.9266535690897184\n",
      "0.8348623853211009\n",
      "[[48  7]\n",
      " [11 43]]\n",
      "0.9233791748526523\n",
      "0.8623853211009175\n",
      "[[49  6]\n",
      " [ 9 45]]\n",
      "0.9194499017681729\n",
      "0.8899082568807339\n",
      "[[49  6]\n",
      " [ 6 48]]\n",
      "0.9214145383104125\n",
      "0.8715596330275229\n",
      "[[48  7]\n",
      " [ 7 47]]\n",
      "0.9207596594629993\n",
      "0.8440366972477065\n",
      "[[47  7]\n",
      " [10 45]]\n",
      "0.9207596594629993\n",
      "0.8440366972477065\n",
      "[[42 12]\n",
      " [ 5 50]]\n",
      "0.9201047806155861\n",
      "0.8623853211009175\n",
      "[[49  5]\n",
      " [10 45]]\n",
      "0.9194499017681729\n",
      "0.8899082568807339\n",
      "[[49  5]\n",
      " [ 7 48]]\n",
      "0.9207596594629993\n",
      "0.926605504587156\n",
      "[[49  5]\n",
      " [ 3 52]]\n",
      "0.922724296005239\n",
      "0.8715596330275229\n",
      "[[49  5]\n",
      " [ 9 46]]\n",
      "0.922724296005239\n",
      "0.8348623853211009\n",
      "[[46  8]\n",
      " [10 45]]\n",
      "Average score is  0.8722324159021407\n"
     ]
    }
   ],
   "source": [
    "avg=0\n",
    "\n",
    "for train_index, test_index in cv.split(X, y):\n",
    "    X_train, X_test= X[train_index], X[test_index]\n",
    "    y_train, y_test = y[train_index], y[test_index]\n",
    "    svc.fit(X_train, y_train)\n",
    "    pred=svc.predict(X_test)\n",
    "    acc=accuracy_score(y_test, pred)\n",
    "    avg=avg+acc\n",
    "    print(svc.score(X_train, y_train))\n",
    "    \n",
    "    print(acc)\n",
    "    print(confusion_matrix(y_test, pred))\n",
    "print(\"Average score is \", (avg/15))"
   ]
  },
  {
   "cell_type": "code",
   "execution_count": 13,
   "id": "fa26d305",
   "metadata": {},
   "outputs": [],
   "source": [
    "test_smiles2=['NC1NCC2(C3C(=CN=C(C=3)N3COCCC3)OC3C2=CC(=CC=3)C2C=C(C#N)C=CC=2)O1',\n",
    "    'COC1C=C(C2C=C([C@@]3(C(=O)N(C)C(N)=N3)C3C(F)=CC=C(C#N)C=3)C=CC=2)N=C1',\n",
    "    'CC1C(C(NC2C=C([C@]3(N=C(N)[C@@](C(F)(F)F)C3)C)C(F)=C(F)C=2)=O)=NC=C(F)C=1',\n",
    "    'CC[C@]1(C(C)(C)COC(N)=N1)C1C(=O)C(C)=CC=C(NC(C2N=CC(C#N)=CC=2)=O)C=1',\n",
    "    'C[C@]1(C(F)(F)COC(N)=N1)C1C(F)=C(F)OC=C(NC(C2N=CC(C(F)(F)F)=CC=2)=O)C=1',\n",
    "    'C[C@@]1(N=C(N)SC[C@H](C(F)(F)F)C1)C1C(F)=C(F)C=C(NC(C2C(Cl)=CC(F)=CN=2)=O)C=1',\n",
    "    'CCOCc1ccc2cc(-c3ccccc3)c(-c3ccc(C4(N)CCC4)cc3)nc2c1F',\n",
    "    'CCOC(=O)c1ccc2nc(-c3ccc(C4(N)CCC4)cc3)c(-c3ccccc3)c21',\n",
    "    'N[C@H]1Sc2ncc(-c3ccccc3)c(-c3ccc(C4(N)CCC4)cc3)cn2n1C',\n",
    "    'NS(=O)(=O)c1nc2nc(-c3ccc(C4(N)CCC4)cc3)c(-c3ccccc3)cc1N2',\n",
    "    'N[C@H](O)c1sc(C(C)=O)c2ncc(-c3ccccc3)c(-c3ccccc3)c12',\n",
    "    'NS(=O)(=O)c1nn2c(-c3ccccc3)c(-c3ccc(C4(N)CCC4)cc3)nc12',\n",
    "    'Nc1ccc(F)cc1n1CCN(c2ncnc3[nH]ccc23)CC1',\n",
    "    'CNC1COC(=O)[C@H](CNCN3CC2(c3ccnc3[nH]ccc23)s1)c1c(C)noc1O',\n",
    "    'Cc1ccccc2ncnc(N3CCC(N)(CO[C@H](O)Cc4ccc(Cl)cc4)CC3)c2c1',\n",
    "    'Cnc1cc(C)c2nc(-c3ccc(C4(N)CCC4)cc3)c(-c3ccccc3)n2c1',\n",
    "    'CN1Cc2cc(F)ccc2N1CC(=O)Cc1nc(N2CCOCC2)c(F)c(=O)n1C(=C)CCCCCNS(=O)(C)=O',\n",
    "    'Nc1nc(N)n2nc(-c3ccccc3)c(-c3ccc(C4(N)CCC4)cc3)nc12',\n",
    "    'NS(=O)(=O)[C@H]1CNC(=O)c2c(-c3ccccc3)c(-c3ccc(C4(N)CCC4)cc3)nc2c1-c1ccccc1C',\n",
    "    'CNC1COC2=C(C(=O)N3CCOc3ccnc3[nH]ccc23)CC1C',\n",
    "    'Cc1cc(-c2ocnc2C)Cc1',\n",
    "    'NS(=O)(=O)[C@H](CN)C(=O)c1c[nH]c(c1)C(C)(C)C(=O)N1CCN(c2ncnc3[nH]nc(C)c23)C1',\n",
    "    'CCc1cc2ccc3c(N)nc4nc(Nc(COC[C@@H]5OCCC5)c4n3)cc12',\n",
    "    'Coc1c(C)cc(OCC(C)C)c2c(c2nc3[nH]cnc3cc1)c1ccc2ccccc2c1',\n",
    "    'CN1CCC2[C@H](C(=O)N3CCOc4ccccc4c3=O)[C@@H]2Oc1',\n",
    "    'Nc1c(O)ccnc2[nH]c(-c3ccc(C4(N)CCC4)cc3)c(-c3ccc(C4(N)CCC4)cc3)nc21', \n",
    "    'N#Cc1c(N)ncnc1N1CCC(C(F)(F)CN2)c1COC2',  \n",
    "    'Cnc1ccc2cncc(Nc3Cc2c(N)ncnc23)c21',\n",
    "    'Cc1c(F)ccc(Cl)c1C1CCN(Cc2ccc(-c3nnc4n3-c3cccnc3Nc3ccccc3-4)cc2)CC1',\n",
    "    'Cn1ncc(Cl)c1-c1[nH]c(C2=C(N)CCC2(F)F)cc1N1CCC(c2nc(-c3cccc(F)c3)c(-c3ccccn3)CC2)C1',\n",
    "    'Nc1nccc(-c2ccc3nc(-c4ccccc4)c(-c4ccc(C5(N)CCC5)cc4)nc3c2)n1',\n",
    "    'NC1(c2ccc(-c3nc4ccc(C#N)cnn43)c(-c3ccccc3)c2)CCCC1',\n",
    "    'CS(=O)(=O)OCC(C(COS(=O)(=O)C)O)O']"
   ]
  },
  {
   "cell_type": "code",
   "execution_count": 14,
   "id": "0ae23e71",
   "metadata": {},
   "outputs": [
    {
     "name": "stderr",
     "output_type": "stream",
     "text": [
      "[15:58:18] non-ring atom 1 marked aromatic\n",
      "[15:58:19] non-ring atom 1 marked aromatic\n",
      "[15:58:19] non-ring atom 1 marked aromatic\n"
     ]
    }
   ],
   "source": [
    "error=[]\n",
    "target=[]\n",
    "for smile in test_smiles2:\n",
    "    try:\n",
    "        c=Chem.MolFromSmiles(smile)\n",
    "        fp=AllChem.GetMACCSKeysFingerprint(c)\n",
    "        fp=fp.ToBitString()\n",
    "        target.append(fp)\n",
    "    except:\n",
    "        error.append(smile)"
   ]
  },
  {
   "cell_type": "code",
   "execution_count": 15,
   "id": "7f4063c9",
   "metadata": {},
   "outputs": [
    {
     "data": {
      "text/plain": [
       "['NC1NCC2(C3C(=CN=C(C=3)N3COCCC3)OC3C2=CC(=CC=3)C2C=C(C#N)C=CC=2)O1',\n",
       " 'COC1C=C(C2C=C([C@@]3(C(=O)N(C)C(N)=N3)C3C(F)=CC=C(C#N)C=3)C=CC=2)N=C1',\n",
       " 'CC1C(C(NC2C=C([C@]3(N=C(N)[C@@](C(F)(F)F)C3)C)C(F)=C(F)C=2)=O)=NC=C(F)C=1',\n",
       " 'CC[C@]1(C(C)(C)COC(N)=N1)C1C(=O)C(C)=CC=C(NC(C2N=CC(C#N)=CC=2)=O)C=1',\n",
       " 'C[C@]1(C(F)(F)COC(N)=N1)C1C(F)=C(F)OC=C(NC(C2N=CC(C(F)(F)F)=CC=2)=O)C=1',\n",
       " 'C[C@@]1(N=C(N)SC[C@H](C(F)(F)F)C1)C1C(F)=C(F)C=C(NC(C2C(Cl)=CC(F)=CN=2)=O)C=1',\n",
       " 'CCOCc1ccc2cc(-c3ccccc3)c(-c3ccc(C4(N)CCC4)cc3)nc2c1F',\n",
       " 'CCOC(=O)c1ccc2nc(-c3ccc(C4(N)CCC4)cc3)c(-c3ccccc3)c21',\n",
       " 'N[C@H]1Sc2ncc(-c3ccccc3)c(-c3ccc(C4(N)CCC4)cc3)cn2n1C',\n",
       " 'NS(=O)(=O)c1nc2nc(-c3ccc(C4(N)CCC4)cc3)c(-c3ccccc3)cc1N2',\n",
       " 'N[C@H](O)c1sc(C(C)=O)c2ncc(-c3ccccc3)c(-c3ccccc3)c12',\n",
       " 'NS(=O)(=O)c1nn2c(-c3ccccc3)c(-c3ccc(C4(N)CCC4)cc3)nc12',\n",
       " 'Nc1ccc(F)cc1n1CCN(c2ncnc3[nH]ccc23)CC1',\n",
       " 'CNC1COC(=O)[C@H](CNCN3CC2(c3ccnc3[nH]ccc23)s1)c1c(C)noc1O',\n",
       " 'Cc1ccccc2ncnc(N3CCC(N)(CO[C@H](O)Cc4ccc(Cl)cc4)CC3)c2c1',\n",
       " 'CN1Cc2cc(F)ccc2N1CC(=O)Cc1nc(N2CCOCC2)c(F)c(=O)n1C(=C)CCCCCNS(=O)(C)=O',\n",
       " 'Nc1nc(N)n2nc(-c3ccccc3)c(-c3ccc(C4(N)CCC4)cc3)nc12',\n",
       " 'NS(=O)(=O)[C@H]1CNC(=O)c2c(-c3ccccc3)c(-c3ccc(C4(N)CCC4)cc3)nc2c1-c1ccccc1C',\n",
       " 'CNC1COC2=C(C(=O)N3CCOc3ccnc3[nH]ccc23)CC1C',\n",
       " 'Cc1cc(-c2ocnc2C)Cc1',\n",
       " 'NS(=O)(=O)[C@H](CN)C(=O)c1c[nH]c(c1)C(C)(C)C(=O)N1CCN(c2ncnc3[nH]nc(C)c23)C1',\n",
       " 'CCc1cc2ccc3c(N)nc4nc(Nc(COC[C@@H]5OCCC5)c4n3)cc12',\n",
       " 'CN1CCC2[C@H](C(=O)N3CCOc4ccccc4c3=O)[C@@H]2Oc1',\n",
       " 'Nc1c(O)ccnc2[nH]c(-c3ccc(C4(N)CCC4)cc3)c(-c3ccc(C4(N)CCC4)cc3)nc21',\n",
       " 'N#Cc1c(N)ncnc1N1CCC(C(F)(F)CN2)c1COC2',\n",
       " 'Cc1c(F)ccc(Cl)c1C1CCN(Cc2ccc(-c3nnc4n3-c3cccnc3Nc3ccccc3-4)cc2)CC1',\n",
       " 'Cn1ncc(Cl)c1-c1[nH]c(C2=C(N)CCC2(F)F)cc1N1CCC(c2nc(-c3cccc(F)c3)c(-c3ccccn3)CC2)C1',\n",
       " 'Nc1nccc(-c2ccc3nc(-c4ccccc4)c(-c4ccc(C5(N)CCC5)cc4)nc3c2)n1',\n",
       " 'NC1(c2ccc(-c3nc4ccc(C#N)cnn43)c(-c3ccccc3)c2)CCCC1',\n",
       " 'CS(=O)(=O)OCC(C(COS(=O)(=O)C)O)O']"
      ]
     },
     "execution_count": 15,
     "metadata": {},
     "output_type": "execute_result"
    }
   ],
   "source": [
    "test_result=[x for x in test_smiles2 if x not in error]\n",
    "test_result"
   ]
  },
  {
   "cell_type": "code",
   "execution_count": 16,
   "id": "5c77a956",
   "metadata": {},
   "outputs": [
    {
     "name": "stderr",
     "output_type": "stream",
     "text": [
      "C:\\Users\\OM\\anaconda3\\envs\\rdkit\\lib\\site-packages\\ipykernel_launcher.py:12: PerformanceWarning: DataFrame is highly fragmented.  This is usually the result of calling `frame.insert` many times, which has poor performance.  Consider joining all columns at once using pd.concat(axis=1) instead.  To get a de-fragmented frame, use `newframe = frame.copy()`\n",
      "  if sys.path[0] == '':\n"
     ]
    }
   ],
   "source": [
    "test_desc=np.asarray(MACCS(test_result))"
   ]
  },
  {
   "cell_type": "code",
   "execution_count": 17,
   "id": "c9c1571c",
   "metadata": {},
   "outputs": [
    {
     "data": {
      "text/plain": [
       "array([0, 0, 0, 0, 0, 0, 0, 0, 0, 0, 0, 0, 0, 0, 0, 0, 0, 0, 0, 0, 0, 0,\n",
       "       0, 0, 0, 0, 0, 0, 0, 1], dtype=int64)"
      ]
     },
     "execution_count": 17,
     "metadata": {},
     "output_type": "execute_result"
    }
   ],
   "source": [
    "svc.predict(test_desc)"
   ]
  },
  {
   "cell_type": "code",
   "execution_count": 33,
   "id": "491605cf",
   "metadata": {},
   "outputs": [],
   "source": [
    "test_smiles=['C1=NC2=C(N1)C(=S)N=CN2',\n",
    " 'CC(C)C(=O)NC1=CC(=C(C=C1)[N+](=O)[O-])C(F)(F)F',\n",
    " 'CCC(=O)N(C1CCN(CC1)CCC2=CC=CC=C2)C3=CC=CC=C3',\n",
    " 'C(CCl)NC(=O)N(CCCl)N=O',\n",
    " 'CN(CC1=CN=C2C(=N1)C(=NC(=N2)N)N)C3=CC=C(C=C3)C(=O)N[C@@H](CCC(=O)O)C(=O)O',\n",
    " 'C1=CC=C(C(=C1)C(C2=CC=C(C=C2)Cl)C(Cl)Cl)Cl',\n",
    " 'C1=C(C(=O)NC(=O)N1)F',\n",
    " 'COCCOC1=C(C=C2C(=C1)C(=NC=N2)NC3=CC=CC(=C3)C#C)OCCOC']"
   ]
  },
  {
   "cell_type": "code",
   "execution_count": 23,
   "id": "34ecee39",
   "metadata": {},
   "outputs": [],
   "source": [
    "def classification(X, y):\n",
    "    models=[LGBMClassifier, RandomForestClassifier, XGBClassifier, SVC, ExtraTreesClassifier]\n",
    "    for model in models:\n",
    "        p=model()\n",
    "        X_train, X_test, y_train, y_test = train_test_split(X, y)\n",
    "        p.fit(X_train, y_train)\n",
    "        pred=p.predict(X_test)\n",
    "        print(\"For model \", p)\n",
    "        print(accuracy_score(y_test,pred))\n",
    "        \n",
    "        print(classification_report(y_test, pred))\n",
    "        \n",
    "        \n",
    "        print(\"Model score is \", p.score(X_train, y_train))\n",
    "        print(\"-------------------------------------------------\")"
   ]
  },
  {
   "cell_type": "code",
   "execution_count": 34,
   "id": "20f47185",
   "metadata": {},
   "outputs": [
    {
     "name": "stderr",
     "output_type": "stream",
     "text": [
      "C:\\Users\\OM\\anaconda3\\envs\\rdkit\\lib\\site-packages\\ipykernel_launcher.py:12: PerformanceWarning: DataFrame is highly fragmented.  This is usually the result of calling `frame.insert` many times, which has poor performance.  Consider joining all columns at once using pd.concat(axis=1) instead.  To get a de-fragmented frame, use `newframe = frame.copy()`\n",
      "  if sys.path[0] == '':\n"
     ]
    }
   ],
   "source": [
    "test_desc=np.asarray(MACCS(test_smiles))"
   ]
  },
  {
   "cell_type": "code",
   "execution_count": 35,
   "id": "a67ccd21",
   "metadata": {},
   "outputs": [],
   "source": [
    "def cvfold(X, y, n, model):\n",
    "    avg=0\n",
    "    p=model()\n",
    "    cv=StratifiedKFold(n_splits=n, shuffle=True, random_state=42)\n",
    "    for train_index, test_index in cv.split(X, y):\n",
    "        X_train, X_test = X[train_index], X[test_index]\n",
    "        \n",
    "        y_train, y_test = y[train_index], y[test_index]\n",
    "        \n",
    "        p.fit(X_train, y_train)\n",
    "        \n",
    "        pred=p.predict(X_test)\n",
    "        \n",
    "        acc=accuracy_score(y_test, pred)\n",
    "        \n",
    "        print(\"Accuracy is \", acc)\n",
    "        \n",
    "        avg=avg+acc\n",
    "        \n",
    "        print(classification_report(y_test, pred))\n",
    "        \n",
    "        print(\"Model score is \", p.score(X_train, y_train))\n",
    "        \n",
    "    print(p.predict(test_desc))\n",
    "    \n",
    "    print(\"-----------------------------------------------\")\n",
    "    \n",
    "    print(p.predict(test_desc2))\n",
    "        \n",
    "    print(\"Average accuracy is \", (avg/n))"
   ]
  },
  {
   "cell_type": "code",
   "execution_count": 24,
   "id": "3f480346",
   "metadata": {},
   "outputs": [
    {
     "name": "stdout",
     "output_type": "stream",
     "text": [
      "For model  LGBMClassifier()\n",
      "0.863080684596577\n",
      "              precision    recall  f1-score   support\n",
      "\n",
      "           0       0.85      0.88      0.86       202\n",
      "           1       0.88      0.85      0.86       207\n",
      "\n",
      "    accuracy                           0.86       409\n",
      "   macro avg       0.86      0.86      0.86       409\n",
      "weighted avg       0.86      0.86      0.86       409\n",
      "\n",
      "Model score is  0.9918500407497962\n",
      "-------------------------------------------------\n",
      "For model  RandomForestClassifier()\n",
      "0.882640586797066\n",
      "              precision    recall  f1-score   support\n",
      "\n",
      "           0       0.88      0.89      0.88       206\n",
      "           1       0.89      0.87      0.88       203\n",
      "\n",
      "    accuracy                           0.88       409\n",
      "   macro avg       0.88      0.88      0.88       409\n",
      "weighted avg       0.88      0.88      0.88       409\n",
      "\n",
      "Model score is  0.9967400162999185\n",
      "-------------------------------------------------\n",
      "For model  XGBClassifier(base_score=0.5, booster='gbtree', callbacks=None,\n",
      "              colsample_bylevel=1, colsample_bynode=1, colsample_bytree=1,\n",
      "              early_stopping_rounds=None, enable_categorical=False,\n",
      "              eval_metric=None, gamma=0, gpu_id=-1, grow_policy='depthwise',\n",
      "              importance_type=None, interaction_constraints='',\n",
      "              learning_rate=0.300000012, max_bin=256, max_cat_to_onehot=4,\n",
      "              max_delta_step=0, max_depth=6, max_leaves=0, min_child_weight=1,\n",
      "              missing=nan, monotone_constraints='()', n_estimators=100,\n",
      "              n_jobs=0, num_parallel_tree=1, predictor='auto', random_state=0,\n",
      "              reg_alpha=0, reg_lambda=1, ...)\n",
      "0.8850855745721271\n",
      "              precision    recall  f1-score   support\n",
      "\n",
      "           0       0.87      0.89      0.88       197\n",
      "           1       0.90      0.88      0.89       212\n",
      "\n",
      "    accuracy                           0.89       409\n",
      "   macro avg       0.88      0.89      0.89       409\n",
      "weighted avg       0.89      0.89      0.89       409\n",
      "\n",
      "Model score is  0.9926650366748166\n",
      "-------------------------------------------------\n",
      "For model  SVC()\n",
      "0.8899755501222494\n",
      "              precision    recall  f1-score   support\n",
      "\n",
      "           0       0.87      0.91      0.89       200\n",
      "           1       0.91      0.87      0.89       209\n",
      "\n",
      "    accuracy                           0.89       409\n",
      "   macro avg       0.89      0.89      0.89       409\n",
      "weighted avg       0.89      0.89      0.89       409\n",
      "\n",
      "Model score is  0.9233903830480847\n",
      "-------------------------------------------------\n",
      "For model  ExtraTreesClassifier()\n",
      "0.8801955990220048\n",
      "              precision    recall  f1-score   support\n",
      "\n",
      "           0       0.87      0.89      0.88       202\n",
      "           1       0.89      0.87      0.88       207\n",
      "\n",
      "    accuracy                           0.88       409\n",
      "   macro avg       0.88      0.88      0.88       409\n",
      "weighted avg       0.88      0.88      0.88       409\n",
      "\n",
      "Model score is  0.9942950285248574\n",
      "-------------------------------------------------\n"
     ]
    }
   ],
   "source": [
    "classification(X, y)"
   ]
  },
  {
   "cell_type": "code",
   "execution_count": 39,
   "id": "55a2574d",
   "metadata": {},
   "outputs": [
    {
     "data": {
      "text/plain": [
       "(Counter({0: 6583, 1: 818}), Counter({0: 818, 1: 818}))"
      ]
     },
     "execution_count": 39,
     "metadata": {},
     "output_type": "execute_result"
    }
   ],
   "source": [
    "Counter(df['OUTCOME']), Counter(y_new)"
   ]
  },
  {
   "cell_type": "code",
   "execution_count": 41,
   "id": "cd2bfe4c",
   "metadata": {},
   "outputs": [],
   "source": [
    "test_smiles2=['NC1NCC2(C3C(=CN=C(C=3)N3COCCC3)OC3C2=CC(=CC=3)C2C=C(C#N)C=CC=2)O1',\n",
    "    'COC1C=C(C2C=C([C@@]3(C(=O)N(C)C(N)=N3)C3C(F)=CC=C(C#N)C=3)C=CC=2)N=C1',\n",
    "    'CC1C(C(NC2C=C([C@]3(N=C(N)[C@@](C(F)(F)F)C3)C)C(F)=C(F)C=2)=O)=NC=C(F)C=1',\n",
    "    'CC[C@]1(C(C)(C)COC(N)=N1)C1C(=O)C(C)=CC=C(NC(C2N=CC(C#N)=CC=2)=O)C=1',\n",
    "    'C[C@]1(C(F)(F)COC(N)=N1)C1C(F)=C(F)OC=C(NC(C2N=CC(C(F)(F)F)=CC=2)=O)C=1',\n",
    "    'C[C@@]1(N=C(N)SC[C@H](C(F)(F)F)C1)C1C(F)=C(F)C=C(NC(C2C(Cl)=CC(F)=CN=2)=O)C=1',\n",
    "    'CCOCc1ccc2cc(-c3ccccc3)c(-c3ccc(C4(N)CCC4)cc3)nc2c1F',\n",
    "    'CCOC(=O)c1ccc2nc(-c3ccc(C4(N)CCC4)cc3)c(-c3ccccc3)c21',\n",
    "    'N[C@H]1Sc2ncc(-c3ccccc3)c(-c3ccc(C4(N)CCC4)cc3)cn2n1C',\n",
    "    'NS(=O)(=O)c1nc2nc(-c3ccc(C4(N)CCC4)cc3)c(-c3ccccc3)cc1N2',\n",
    "    'N[C@H](O)c1sc(C(C)=O)c2ncc(-c3ccccc3)c(-c3ccccc3)c12',\n",
    "    'NS(=O)(=O)c1nn2c(-c3ccccc3)c(-c3ccc(C4(N)CCC4)cc3)nc12',\n",
    "    'Nc1ccc(F)cc1n1CCN(c2ncnc3[nH]ccc23)CC1',\n",
    "    'CNC1COC(=O)[C@H](CNCN3CC2(c3ccnc3[nH]ccc23)s1)c1c(C)noc1O',\n",
    "    'Cc1ccccc2ncnc(N3CCC(N)(CO[C@H](O)Cc4ccc(Cl)cc4)CC3)c2c1',\n",
    "    'Cnc1cc(C)c2nc(-c3ccc(C4(N)CCC4)cc3)c(-c3ccccc3)n2c1',\n",
    "    'CN1Cc2cc(F)ccc2N1CC(=O)Cc1nc(N2CCOCC2)c(F)c(=O)n1C(=C)CCCCCNS(=O)(C)=O',\n",
    "    'Nc1nc(N)n2nc(-c3ccccc3)c(-c3ccc(C4(N)CCC4)cc3)nc12',\n",
    "    'NS(=O)(=O)[C@H]1CNC(=O)c2c(-c3ccccc3)c(-c3ccc(C4(N)CCC4)cc3)nc2c1-c1ccccc1C',\n",
    "    'CNC1COC2=C(C(=O)N3CCOc3ccnc3[nH]ccc23)CC1C',\n",
    "    'Cc1cc(-c2ocnc2C)Cc1',\n",
    "    'NS(=O)(=O)[C@H](CN)C(=O)c1c[nH]c(c1)C(C)(C)C(=O)N1CCN(c2ncnc3[nH]nc(C)c23)C1',\n",
    "    'CCc1cc2ccc3c(N)nc4nc(Nc(COC[C@@H]5OCCC5)c4n3)cc12',\n",
    "    'Coc1c(C)cc(OCC(C)C)c2c(c2nc3[nH]cnc3cc1)c1ccc2ccccc2c1',\n",
    "    'CN1CCC2[C@H](C(=O)N3CCOc4ccccc4c3=O)[C@@H]2Oc1',\n",
    "    'Nc1c(O)ccnc2[nH]c(-c3ccc(C4(N)CCC4)cc3)c(-c3ccc(C4(N)CCC4)cc3)nc21', \n",
    "    'N#Cc1c(N)ncnc1N1CCC(C(F)(F)CN2)c1COC2',  \n",
    "    'Cnc1ccc2cncc(Nc3Cc2c(N)ncnc23)c21',\n",
    "    'Cc1c(F)ccc(Cl)c1C1CCN(Cc2ccc(-c3nnc4n3-c3cccnc3Nc3ccccc3-4)cc2)CC1',\n",
    "    'Cn1ncc(Cl)c1-c1[nH]c(C2=C(N)CCC2(F)F)cc1N1CCC(c2nc(-c3cccc(F)c3)c(-c3ccccn3)CC2)C1',\n",
    "    'Nc1nccc(-c2ccc3nc(-c4ccccc4)c(-c4ccc(C5(N)CCC5)cc4)nc3c2)n1',\n",
    "    'NC1(c2ccc(-c3nc4ccc(C#N)cnn43)c(-c3ccccc3)c2)CCCC1',\n",
    "    'CS(=O)(=O)OCC(C(COS(=O)(=O)C)O)O'] #Treosulfan"
   ]
  },
  {
   "cell_type": "code",
   "execution_count": 42,
   "id": "b3e399e9",
   "metadata": {},
   "outputs": [
    {
     "name": "stderr",
     "output_type": "stream",
     "text": [
      "[16:30:31] non-ring atom 1 marked aromatic\n",
      "[16:30:31] non-ring atom 1 marked aromatic\n",
      "[16:30:31] non-ring atom 1 marked aromatic\n"
     ]
    }
   ],
   "source": [
    "error=[]\n",
    "target=[]\n",
    "for smile in test_smiles2:\n",
    "    try:\n",
    "        c=Chem.MolFromSmiles(smile)\n",
    "        fp=AllChem.GetMACCSKeysFingerprint(c)\n",
    "        fp=fp.ToBitString()\n",
    "        target.append(fp)\n",
    "    except:\n",
    "        error.append(smile)"
   ]
  },
  {
   "cell_type": "code",
   "execution_count": 43,
   "id": "7dfc1728",
   "metadata": {},
   "outputs": [
    {
     "data": {
      "text/plain": [
       "(33, 30)"
      ]
     },
     "execution_count": 43,
     "metadata": {},
     "output_type": "execute_result"
    }
   ],
   "source": [
    "len(test_smiles2), len(target)"
   ]
  },
  {
   "cell_type": "code",
   "execution_count": 44,
   "id": "7fb2a003",
   "metadata": {},
   "outputs": [
    {
     "data": {
      "text/plain": [
       "['Cnc1cc(C)c2nc(-c3ccc(C4(N)CCC4)cc3)c(-c3ccccc3)n2c1',\n",
       " 'Coc1c(C)cc(OCC(C)C)c2c(c2nc3[nH]cnc3cc1)c1ccc2ccccc2c1',\n",
       " 'Cnc1ccc2cncc(Nc3Cc2c(N)ncnc23)c21']"
      ]
     },
     "execution_count": 44,
     "metadata": {},
     "output_type": "execute_result"
    }
   ],
   "source": [
    "error"
   ]
  },
  {
   "cell_type": "code",
   "execution_count": 45,
   "id": "66442c97",
   "metadata": {},
   "outputs": [
    {
     "data": {
      "text/plain": [
       "['NC1NCC2(C3C(=CN=C(C=3)N3COCCC3)OC3C2=CC(=CC=3)C2C=C(C#N)C=CC=2)O1',\n",
       " 'COC1C=C(C2C=C([C@@]3(C(=O)N(C)C(N)=N3)C3C(F)=CC=C(C#N)C=3)C=CC=2)N=C1',\n",
       " 'CC1C(C(NC2C=C([C@]3(N=C(N)[C@@](C(F)(F)F)C3)C)C(F)=C(F)C=2)=O)=NC=C(F)C=1',\n",
       " 'CC[C@]1(C(C)(C)COC(N)=N1)C1C(=O)C(C)=CC=C(NC(C2N=CC(C#N)=CC=2)=O)C=1',\n",
       " 'C[C@]1(C(F)(F)COC(N)=N1)C1C(F)=C(F)OC=C(NC(C2N=CC(C(F)(F)F)=CC=2)=O)C=1',\n",
       " 'C[C@@]1(N=C(N)SC[C@H](C(F)(F)F)C1)C1C(F)=C(F)C=C(NC(C2C(Cl)=CC(F)=CN=2)=O)C=1',\n",
       " 'CCOCc1ccc2cc(-c3ccccc3)c(-c3ccc(C4(N)CCC4)cc3)nc2c1F',\n",
       " 'CCOC(=O)c1ccc2nc(-c3ccc(C4(N)CCC4)cc3)c(-c3ccccc3)c21',\n",
       " 'N[C@H]1Sc2ncc(-c3ccccc3)c(-c3ccc(C4(N)CCC4)cc3)cn2n1C',\n",
       " 'NS(=O)(=O)c1nc2nc(-c3ccc(C4(N)CCC4)cc3)c(-c3ccccc3)cc1N2',\n",
       " 'N[C@H](O)c1sc(C(C)=O)c2ncc(-c3ccccc3)c(-c3ccccc3)c12',\n",
       " 'NS(=O)(=O)c1nn2c(-c3ccccc3)c(-c3ccc(C4(N)CCC4)cc3)nc12',\n",
       " 'Nc1ccc(F)cc1n1CCN(c2ncnc3[nH]ccc23)CC1',\n",
       " 'CNC1COC(=O)[C@H](CNCN3CC2(c3ccnc3[nH]ccc23)s1)c1c(C)noc1O',\n",
       " 'Cc1ccccc2ncnc(N3CCC(N)(CO[C@H](O)Cc4ccc(Cl)cc4)CC3)c2c1',\n",
       " 'CN1Cc2cc(F)ccc2N1CC(=O)Cc1nc(N2CCOCC2)c(F)c(=O)n1C(=C)CCCCCNS(=O)(C)=O',\n",
       " 'Nc1nc(N)n2nc(-c3ccccc3)c(-c3ccc(C4(N)CCC4)cc3)nc12',\n",
       " 'NS(=O)(=O)[C@H]1CNC(=O)c2c(-c3ccccc3)c(-c3ccc(C4(N)CCC4)cc3)nc2c1-c1ccccc1C',\n",
       " 'CNC1COC2=C(C(=O)N3CCOc3ccnc3[nH]ccc23)CC1C',\n",
       " 'Cc1cc(-c2ocnc2C)Cc1',\n",
       " 'NS(=O)(=O)[C@H](CN)C(=O)c1c[nH]c(c1)C(C)(C)C(=O)N1CCN(c2ncnc3[nH]nc(C)c23)C1',\n",
       " 'CCc1cc2ccc3c(N)nc4nc(Nc(COC[C@@H]5OCCC5)c4n3)cc12',\n",
       " 'CN1CCC2[C@H](C(=O)N3CCOc4ccccc4c3=O)[C@@H]2Oc1',\n",
       " 'Nc1c(O)ccnc2[nH]c(-c3ccc(C4(N)CCC4)cc3)c(-c3ccc(C4(N)CCC4)cc3)nc21',\n",
       " 'N#Cc1c(N)ncnc1N1CCC(C(F)(F)CN2)c1COC2',\n",
       " 'Cc1c(F)ccc(Cl)c1C1CCN(Cc2ccc(-c3nnc4n3-c3cccnc3Nc3ccccc3-4)cc2)CC1',\n",
       " 'Cn1ncc(Cl)c1-c1[nH]c(C2=C(N)CCC2(F)F)cc1N1CCC(c2nc(-c3cccc(F)c3)c(-c3ccccn3)CC2)C1',\n",
       " 'Nc1nccc(-c2ccc3nc(-c4ccccc4)c(-c4ccc(C5(N)CCC5)cc4)nc3c2)n1',\n",
       " 'NC1(c2ccc(-c3nc4ccc(C#N)cnn43)c(-c3ccccc3)c2)CCCC1',\n",
       " 'CS(=O)(=O)OCC(C(COS(=O)(=O)C)O)O']"
      ]
     },
     "execution_count": 45,
     "metadata": {},
     "output_type": "execute_result"
    }
   ],
   "source": [
    "test_result=[x for x in test_smiles2 if x not in error]\n",
    "test_result"
   ]
  },
  {
   "cell_type": "code",
   "execution_count": 46,
   "id": "39a0a958",
   "metadata": {},
   "outputs": [
    {
     "name": "stderr",
     "output_type": "stream",
     "text": [
      "C:\\Users\\OM\\anaconda3\\envs\\rdkit\\lib\\site-packages\\ipykernel_launcher.py:12: PerformanceWarning: DataFrame is highly fragmented.  This is usually the result of calling `frame.insert` many times, which has poor performance.  Consider joining all columns at once using pd.concat(axis=1) instead.  To get a de-fragmented frame, use `newframe = frame.copy()`\n",
      "  if sys.path[0] == '':\n"
     ]
    }
   ],
   "source": [
    "test_desc2=np.asarray(MACCS(test_result))"
   ]
  },
  {
   "cell_type": "code",
   "execution_count": 47,
   "id": "688672e1",
   "metadata": {},
   "outputs": [
    {
     "data": {
      "text/plain": [
       "array([0, 0, 0, 0, 0, 0, 0, 0, 0, 0, 0, 0, 0, 0, 0, 0, 0, 0, 0, 0, 0, 0,\n",
       "       0, 0, 0, 0, 0, 0, 0, 1], dtype=int64)"
      ]
     },
     "execution_count": 47,
     "metadata": {},
     "output_type": "execute_result"
    }
   ],
   "source": [
    "#For API\n",
    "svc.predict(test_desc2)"
   ]
  },
  {
   "cell_type": "code",
   "execution_count": 48,
   "id": "f9668b42",
   "metadata": {},
   "outputs": [
    {
     "data": {
      "text/plain": [
       "array([0, 1, 0, 1, 0, 1, 0, 0], dtype=int64)"
      ]
     },
     "execution_count": 48,
     "metadata": {},
     "output_type": "execute_result"
    }
   ],
   "source": [
    "svc.predict(test_desc)"
   ]
  },
  {
   "cell_type": "code",
   "execution_count": 49,
   "id": "2e2cfb88",
   "metadata": {},
   "outputs": [
    {
     "data": {
      "text/plain": [
       "['C1=NC2=C(N1)C(=S)N=CN2',\n",
       " 'CC(C)C(=O)NC1=CC(=C(C=C1)[N+](=O)[O-])C(F)(F)F',\n",
       " 'CCC(=O)N(C1CCN(CC1)CCC2=CC=CC=C2)C3=CC=CC=C3',\n",
       " 'C(CCl)NC(=O)N(CCCl)N=O',\n",
       " 'CN(CC1=CN=C2C(=N1)C(=NC(=N2)N)N)C3=CC=C(C=C3)C(=O)N[C@@H](CCC(=O)O)C(=O)O',\n",
       " 'C1=CC=C(C(=C1)C(C2=CC=C(C=C2)Cl)C(Cl)Cl)Cl',\n",
       " 'C1=C(C(=O)NC(=O)N1)F',\n",
       " 'COCCOC1=C(C=C2C(=C1)C(=NC=N2)NC3=CC=CC(=C3)C#C)OCCOC']"
      ]
     },
     "execution_count": 49,
     "metadata": {},
     "output_type": "execute_result"
    }
   ],
   "source": [
    "test_smiles"
   ]
  },
  {
   "cell_type": "code",
   "execution_count": 58,
   "id": "5664afe7",
   "metadata": {},
   "outputs": [],
   "source": [
    "test_smiles3=['COC1=C2C3=C(C(=O)CC3)C(=O)OC2=C4C(=C1)OC5C4(C=CO5)O',\n",
    "             'C1=CC=C(C=C1)C2=CC=C(C=C2)N',\n",
    "             'COC1=CC=CC2=C3C(=C(C=C21)[N+](=O)[O-])C(=CC4=C3OCO4)C(=O)O.COC1=CC=CC2=C3C(=C(C=C21)[N+](=O)[O-])C(=CC4=C3OCO4)C(=O)O.C1OC2=C(O1)C3=C(C(=C2)C(=O)O)C(=CC4=CC=CC=C43)[N+](=O)[O-]',\n",
    "             'CN1C=NC(=C1SC2=NC=NC3=C2NC=N3)[N+](=O)[O-]',\n",
    "              'CS(=O)(=O)OCCCCOS(=O)(=O)C'\n",
    "              'C1=CC(=CC=C1CCCC(=O)O)N(CCCl)CCCl',\n",
    "              'CC(CCl)Cl'\n",
    "             ]"
   ]
  },
  {
   "cell_type": "code",
   "execution_count": 59,
   "id": "53ddd156",
   "metadata": {},
   "outputs": [
    {
     "name": "stderr",
     "output_type": "stream",
     "text": [
      "C:\\Users\\OM\\anaconda3\\envs\\rdkit\\lib\\site-packages\\ipykernel_launcher.py:12: PerformanceWarning: DataFrame is highly fragmented.  This is usually the result of calling `frame.insert` many times, which has poor performance.  Consider joining all columns at once using pd.concat(axis=1) instead.  To get a de-fragmented frame, use `newframe = frame.copy()`\n",
      "  if sys.path[0] == '':\n"
     ]
    }
   ],
   "source": [
    "test_desc3=np.asarray(MACCS(test_smiles3))"
   ]
  },
  {
   "cell_type": "code",
   "execution_count": 60,
   "id": "00635c15",
   "metadata": {},
   "outputs": [
    {
     "data": {
      "text/plain": [
       "array([0, 1, 1, 1, 1, 1], dtype=int64)"
      ]
     },
     "execution_count": 60,
     "metadata": {},
     "output_type": "execute_result"
    }
   ],
   "source": [
    "svc.predict(test_desc3)"
   ]
  },
  {
   "cell_type": "code",
   "execution_count": 53,
   "id": "cedcaa8a",
   "metadata": {},
   "outputs": [],
   "source": [
    "svc1=SVC(C=2.0)"
   ]
  },
  {
   "cell_type": "code",
   "execution_count": 55,
   "id": "c69bc59a",
   "metadata": {},
   "outputs": [],
   "source": [
    "cv1=StratifiedKFold(n_splits=15, shuffle=True, random_state=42)"
   ]
  },
  {
   "cell_type": "code",
   "execution_count": 56,
   "id": "0a1552f3",
   "metadata": {},
   "outputs": [
    {
     "name": "stdout",
     "output_type": "stream",
     "text": [
      "0.9475753604193972\n",
      "0.9181818181818182\n",
      "[[53  2]\n",
      " [ 7 48]]\n",
      "0.9482645710543549\n",
      "0.926605504587156\n",
      "[[50  5]\n",
      " [ 3 51]]\n",
      "0.9508840864440079\n",
      "0.8715596330275229\n",
      "[[51  4]\n",
      " [10 44]]\n",
      "0.9515389652914211\n",
      "0.8807339449541285\n",
      "[[48  7]\n",
      " [ 6 48]]\n",
      "0.9528487229862476\n",
      "0.8256880733944955\n",
      "[[47  8]\n",
      " [11 43]]\n",
      "0.9495743287491814\n",
      "0.8715596330275229\n",
      "[[49  6]\n",
      " [ 8 46]]\n",
      "0.9521938441388343\n",
      "0.908256880733945\n",
      "[[51  4]\n",
      " [ 6 48]]\n",
      "0.9508840864440079\n",
      "0.8807339449541285\n",
      "[[48  7]\n",
      " [ 6 48]]\n",
      "0.9515389652914211\n",
      "0.8440366972477065\n",
      "[[45  9]\n",
      " [ 8 47]]\n",
      "0.9502292075965947\n",
      "0.8623853211009175\n",
      "[[44 10]\n",
      " [ 5 50]]\n",
      "0.9495743287491814\n",
      "0.8807339449541285\n",
      "[[50  4]\n",
      " [ 9 46]]\n",
      "0.9482645710543549\n",
      "0.8990825688073395\n",
      "[[50  4]\n",
      " [ 7 48]]\n",
      "0.9528487229862476\n",
      "0.9174311926605505\n",
      "[[48  6]\n",
      " [ 3 52]]\n",
      "0.9502292075965947\n",
      "0.8807339449541285\n",
      "[[48  6]\n",
      " [ 7 48]]\n",
      "0.9521938441388343\n",
      "0.8532110091743119\n",
      "[[46  8]\n",
      " [ 8 47]]\n",
      "Average score is  0.8813956074506535\n"
     ]
    }
   ],
   "source": [
    "avg1=0\n",
    "\n",
    "for train_index, test_index in cv1.split(X, y):\n",
    "    X_train, X_test= X[train_index], X[test_index]\n",
    "    y_train, y_test = y[train_index], y[test_index]\n",
    "    svc1.fit(X_train, y_train)\n",
    "    pred=svc1.predict(X_test)\n",
    "    acc1=accuracy_score(y_test, pred)\n",
    "    avg1=avg1+acc1\n",
    "    print(svc1.score(X_train, y_train))\n",
    "    \n",
    "    print(acc1)\n",
    "    print(confusion_matrix(y_test, pred))\n",
    "print(\"Average score is \", (avg1/15))"
   ]
  },
  {
   "cell_type": "code",
   "execution_count": 57,
   "id": "7ffbda78",
   "metadata": {},
   "outputs": [
    {
     "data": {
      "text/plain": [
       "array([1, 1, 0, 1], dtype=int64)"
      ]
     },
     "execution_count": 57,
     "metadata": {},
     "output_type": "execute_result"
    }
   ],
   "source": [
    "svc1.predict(test_desc3)"
   ]
  },
  {
   "cell_type": "code",
   "execution_count": 2,
   "id": "44b8583e",
   "metadata": {},
   "outputs": [],
   "source": [
    "import numpy as np"
   ]
  },
  {
   "cell_type": "code",
   "execution_count": 3,
   "id": "69265c2a",
   "metadata": {},
   "outputs": [
    {
     "data": {
      "text/plain": [
       "'1.21.6'"
      ]
     },
     "execution_count": 3,
     "metadata": {},
     "output_type": "execute_result"
    }
   ],
   "source": [
    "np.__version__"
   ]
  },
  {
   "cell_type": "code",
   "execution_count": null,
   "id": "36e22c2c",
   "metadata": {},
   "outputs": [],
   "source": []
  },
  {
   "cell_type": "code",
   "execution_count": null,
   "id": "97d36276",
   "metadata": {},
   "outputs": [],
   "source": []
  },
  {
   "cell_type": "code",
   "execution_count": null,
   "id": "97466c85",
   "metadata": {},
   "outputs": [],
   "source": []
  }
 ],
 "metadata": {
  "kernelspec": {
   "display_name": "Python 3 (ipykernel)",
   "language": "python",
   "name": "python3"
  },
  "language_info": {
   "codemirror_mode": {
    "name": "ipython",
    "version": 3
   },
   "file_extension": ".py",
   "mimetype": "text/x-python",
   "name": "python",
   "nbconvert_exporter": "python",
   "pygments_lexer": "ipython3",
   "version": "3.7.13"
  }
 },
 "nbformat": 4,
 "nbformat_minor": 5
}
